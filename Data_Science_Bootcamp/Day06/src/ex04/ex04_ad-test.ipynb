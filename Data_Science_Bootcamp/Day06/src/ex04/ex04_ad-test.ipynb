{
 "cells": [
  {
   "cell_type": "markdown",
   "metadata": {},
   "source": [
    "# Exercise 04"
   ]
  },
  {
   "cell_type": "code",
   "execution_count": 1,
   "metadata": {},
   "outputs": [],
   "source": [
    "import pandas as pd\n",
    "import sqlite3"
   ]
  },
  {
   "cell_type": "markdown",
   "metadata": {},
   "source": [
    "## 1. Create a connection to the database using the library sqlite3"
   ]
  },
  {
   "cell_type": "code",
   "execution_count": 2,
   "metadata": {},
   "outputs": [],
   "source": [
    "connection = sqlite3.connect('../data/checking-logs.sqlite')\n",
    "cursor = connection.cursor()"
   ]
  },
  {
   "cell_type": "markdown",
   "metadata": {},
   "source": [
    "## 2. Using only one query for each of the groups, create two dataframes: test_results and control_results with the columns time and avg_diff and only two rows "
   ]
  },
  {
   "cell_type": "markdown",
   "metadata": {},
   "source": [
    "- Time should have the values: after and before\n",
    "- avg_diff contains the average delta among all the users for the time period before each of them made their first visit to the page and afterward\n",
    "- Only take into account the users that have observations before and after\n",
    "- We still are not using the lab **’project1’**"
   ]
  },
  {
   "cell_type": "code",
   "execution_count": null,
   "metadata": {},
   "outputs": [
    {
     "data": {
      "text/html": [
       "<div>\n",
       "<style scoped>\n",
       "    .dataframe tbody tr th:only-of-type {\n",
       "        vertical-align: middle;\n",
       "    }\n",
       "\n",
       "    .dataframe tbody tr th {\n",
       "        vertical-align: top;\n",
       "    }\n",
       "\n",
       "    .dataframe thead th {\n",
       "        text-align: right;\n",
       "    }\n",
       "</style>\n",
       "<table border=\"1\" class=\"dataframe\">\n",
       "  <thead>\n",
       "    <tr style=\"text-align: right;\">\n",
       "      <th></th>\n",
       "      <th>time</th>\n",
       "      <th>avg_diff</th>\n",
       "    </tr>\n",
       "  </thead>\n",
       "  <tbody>\n",
       "    <tr>\n",
       "      <th>0</th>\n",
       "      <td>after</td>\n",
       "      <td>104.6000</td>\n",
       "    </tr>\n",
       "    <tr>\n",
       "      <th>1</th>\n",
       "      <td>before</td>\n",
       "      <td>60.5625</td>\n",
       "    </tr>\n",
       "  </tbody>\n",
       "</table>\n",
       "</div>"
      ],
      "text/plain": [
       "     time  avg_diff\n",
       "0   after  104.6000\n",
       "1  before   60.5625"
      ]
     },
     "execution_count": 63,
     "metadata": {},
     "output_type": "execute_result"
    }
   ],
   "source": [
    "'''TEST GROUP'''\n",
    "\n",
    "sql_query = '''\n",
    "SELECT \n",
    "    time,\n",
    "    AVG(diff) AS avg_diff\n",
    "FROM (\n",
    "    SELECT \n",
    "        uid,\n",
    "        CAST(\n",
    "            (strftime('%s', datetime(dl.deadlines, 'unixepoch')) - strftime('%s', t.first_commit_ts)) / 3600 \n",
    "            AS INTEGER\n",
    "        ) AS diff,\n",
    "        CASE \n",
    "            WHEN first_commit_ts < first_view_ts THEN 'before' \n",
    "            ELSE 'after' \n",
    "        END AS time\n",
    "    FROM test AS t\n",
    "    JOIN deadlines AS dl \n",
    "        ON t.labname = dl.labs\n",
    "    WHERE \n",
    "        t.labname != 'project1'\n",
    ")\n",
    "WHERE uid IN (\n",
    "    SELECT uid\n",
    "    FROM (\n",
    "        SELECT \n",
    "            uid,\n",
    "            CASE \n",
    "                WHEN first_commit_ts < first_view_ts THEN 'before' \n",
    "                ELSE 'after' \n",
    "            END AS time\n",
    "        FROM test AS t\n",
    "        JOIN deadlines AS dl \n",
    "            ON t.labname = dl.labs\n",
    "        WHERE \n",
    "            t.labname != 'project1'\n",
    "    )\n",
    "    GROUP BY uid\n",
    "    HAVING \n",
    "        COUNT(DISTINCT time) = 2\n",
    ")\n",
    "GROUP BY \n",
    "    time;\n",
    "'''\n",
    "\n",
    "df = pd.read_sql(sql_query, connection)\n",
    "df"
   ]
  },
  {
   "cell_type": "code",
   "execution_count": 61,
   "metadata": {},
   "outputs": [
    {
     "data": {
      "text/html": [
       "<div>\n",
       "<style scoped>\n",
       "    .dataframe tbody tr th:only-of-type {\n",
       "        vertical-align: middle;\n",
       "    }\n",
       "\n",
       "    .dataframe tbody tr th {\n",
       "        vertical-align: top;\n",
       "    }\n",
       "\n",
       "    .dataframe thead th {\n",
       "        text-align: right;\n",
       "    }\n",
       "</style>\n",
       "<table border=\"1\" class=\"dataframe\">\n",
       "  <thead>\n",
       "    <tr style=\"text-align: right;\">\n",
       "      <th></th>\n",
       "      <th>time</th>\n",
       "      <th>avg_diff</th>\n",
       "    </tr>\n",
       "  </thead>\n",
       "  <tbody>\n",
       "    <tr>\n",
       "      <th>0</th>\n",
       "      <td>after</td>\n",
       "      <td>117.636364</td>\n",
       "    </tr>\n",
       "    <tr>\n",
       "      <th>1</th>\n",
       "      <td>before</td>\n",
       "      <td>99.464286</td>\n",
       "    </tr>\n",
       "  </tbody>\n",
       "</table>\n",
       "</div>"
      ],
      "text/plain": [
       "     time    avg_diff\n",
       "0   after  117.636364\n",
       "1  before   99.464286"
      ]
     },
     "execution_count": 61,
     "metadata": {},
     "output_type": "execute_result"
    }
   ],
   "source": [
    "'''CONTROL GROUP'''\n",
    "\n",
    "sql_query = '''\n",
    "SELECT \n",
    "    time,\n",
    "    AVG(diff) AS avg_diff\n",
    "FROM (\n",
    "    SELECT \n",
    "        uid,\n",
    "        CAST(\n",
    "            (strftime('%s', datetime(dl.deadlines, 'unixepoch')) - strftime('%s', c.first_commit_ts)) / 3600 \n",
    "            AS INTEGER\n",
    "        ) AS diff,\n",
    "        CASE \n",
    "            WHEN first_commit_ts < first_view_ts THEN 'before' \n",
    "            ELSE 'after' \n",
    "        END AS time\n",
    "    FROM control AS c\n",
    "    JOIN deadlines AS dl \n",
    "        ON c.labname = dl.labs\n",
    "    WHERE \n",
    "        c.labname != 'project1'\n",
    ")\n",
    "WHERE uid IN (\n",
    "    SELECT uid\n",
    "    FROM (\n",
    "        SELECT \n",
    "            uid,\n",
    "            CASE \n",
    "                WHEN first_commit_ts < first_view_ts THEN 'before' \n",
    "                ELSE 'after' \n",
    "            END AS time\n",
    "        FROM control AS c\n",
    "        JOIN deadlines AS dl \n",
    "            ON c.labname = dl.labs\n",
    "        WHERE \n",
    "            c.labname != 'project1'\n",
    "    )\n",
    "    GROUP BY uid\n",
    "    HAVING \n",
    "        COUNT(DISTINCT time) = 2\n",
    ")\n",
    "GROUP BY \n",
    "    time;\n",
    "'''\n",
    "\n",
    "df = pd.read_sql(sql_query, connection)\n",
    "df"
   ]
  },
  {
   "cell_type": "markdown",
   "metadata": {},
   "source": [
    "## 3. Close the connection"
   ]
  },
  {
   "cell_type": "code",
   "execution_count": null,
   "metadata": {},
   "outputs": [],
   "source": [
    "connection.close()"
   ]
  },
  {
   "cell_type": "markdown",
   "metadata": {},
   "source": [
    "## 4. Have the answer: did the hypothesis turn out to be true and the page does affect the students’ behavior?"
   ]
  },
  {
   "cell_type": "markdown",
   "metadata": {},
   "source": [
    "The news feed probably influenced this behavior.\n",
    "\n",
    "The test group improved 2.4 times more (+44.1 vs +18.2 hours)"
   ]
  }
 ],
 "metadata": {
  "kernelspec": {
   "display_name": "base",
   "language": "python",
   "name": "python3"
  },
  "language_info": {
   "codemirror_mode": {
    "name": "ipython",
    "version": 3
   },
   "file_extension": ".py",
   "mimetype": "text/x-python",
   "name": "python",
   "nbconvert_exporter": "python",
   "pygments_lexer": "ipython3",
   "version": "3.12.4"
  }
 },
 "nbformat": 4,
 "nbformat_minor": 2
}
