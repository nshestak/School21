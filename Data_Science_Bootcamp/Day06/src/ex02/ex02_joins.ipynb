{
 "cells": [
  {
   "cell_type": "markdown",
   "metadata": {},
   "source": [
    "# Exercise 02"
   ]
  },
  {
   "cell_type": "code",
   "execution_count": 82,
   "metadata": {},
   "outputs": [],
   "source": [
    "import pandas as pd\n",
    "import sqlite3"
   ]
  },
  {
   "cell_type": "markdown",
   "metadata": {},
   "source": [
    "## 1. Create a connection to the database using the library sqlite3"
   ]
  },
  {
   "cell_type": "code",
   "execution_count": 83,
   "metadata": {},
   "outputs": [],
   "source": [
    "connection = sqlite3.connect('../data/checking-logs.sqlite')\n",
    "cursor = connection.cursor()"
   ]
  },
  {
   "cell_type": "markdown",
   "metadata": {},
   "source": [
    "## 2. Create a new table datamart in the database by joining the tables pageviews and checker using only one query"
   ]
  },
  {
   "cell_type": "markdown",
   "metadata": {},
   "source": [
    "- the table should have the following columns: uid, labname, first_commit_ts, first_view_ts\n",
    "- first_commit_ts is just a new name of the column timestamp from the checker table, it shows the first commit from a particular lab and from a particular user\n",
    "- first_view_ts is the first visit of a user to the table pageviews, timestamp when a user visited the newsfeed\n",
    "- status = ’ready’ should still be a filter\n",
    "- numTrials = 1 should still be a filter\n",
    "- labnames should still be from the list: ’laba04’, ’laba04s’, ’laba05’, ’laba06’, ’laba06s’, ’project1’\n",
    "- the table should contain only the users (uids with user_*) and not the admins\n",
    "- first_commit_ts and first_view_ts should be parsed as datetime64[ns]"
   ]
  },
  {
   "cell_type": "code",
   "execution_count": 84,
   "metadata": {},
   "outputs": [],
   "source": [
    "sql_query = '''\n",
    "CREATE TABLE IF NOT EXISTS datamart AS\n",
    "SELECT checker.uid, labname, checker.timestamp AS first_commit_ts, pageviews.datetime AS first_view_ts\n",
    "FROM checker\n",
    "FULL JOIN pageviews ON checker.uid = pageviews.uid \n",
    "WHERE status = 'ready'\n",
    "AND numTrials = 1\n",
    "AND labname IN ('laba04', 'laba04s', 'laba05', 'laba06', 'laba06s', 'project1')\n",
    "AND checker.uid LIKE 'user_%'\n",
    "GROUP BY first_commit_ts\n",
    "'''\n",
    "\n",
    "cursor.execute(sql_query)\n",
    "connection.commit()\n"
   ]
  },
  {
   "cell_type": "code",
   "execution_count": 85,
   "metadata": {},
   "outputs": [
    {
     "data": {
      "text/plain": [
       "uid                        object\n",
       "labname                    object\n",
       "first_commit_ts    datetime64[ns]\n",
       "first_view_ts      datetime64[ns]\n",
       "dtype: object"
      ]
     },
     "execution_count": 85,
     "metadata": {},
     "output_type": "execute_result"
    }
   ],
   "source": [
    "sql_query = '''SELECT * FROM datamart'''\n",
    "\n",
    "df = pd.read_sql(sql_query, connection)\n",
    "df['first_commit_ts'] = pd.to_datetime(df['first_commit_ts'])\n",
    "df['first_view_ts'] = pd.to_datetime(df['first_view_ts'])\n",
    "\n",
    "df.dtypes"
   ]
  },
  {
   "cell_type": "markdown",
   "metadata": {},
   "source": [
    "## 3. Using Pandas methods, create two dataframes: test and control"
   ]
  },
  {
   "cell_type": "markdown",
   "metadata": {},
   "source": [
    "- test should have the users that have the values in first_view_ts\n",
    "- control should have the users that have missing values in first_view_ts\n",
    "- replace the missing values in the control with the average first_view_ts of the test users, we will use this value for the future analysis\n",
    "- save both tables into the database, you will use them in the next exercises"
   ]
  },
  {
   "cell_type": "code",
   "execution_count": 86,
   "metadata": {},
   "outputs": [
    {
     "data": {
      "text/html": [
       "<div>\n",
       "<style scoped>\n",
       "    .dataframe tbody tr th:only-of-type {\n",
       "        vertical-align: middle;\n",
       "    }\n",
       "\n",
       "    .dataframe tbody tr th {\n",
       "        vertical-align: top;\n",
       "    }\n",
       "\n",
       "    .dataframe thead th {\n",
       "        text-align: right;\n",
       "    }\n",
       "</style>\n",
       "<table border=\"1\" class=\"dataframe\">\n",
       "  <thead>\n",
       "    <tr style=\"text-align: right;\">\n",
       "      <th></th>\n",
       "      <th>uid</th>\n",
       "      <th>labname</th>\n",
       "      <th>first_commit_ts</th>\n",
       "      <th>first_view_ts</th>\n",
       "    </tr>\n",
       "  </thead>\n",
       "  <tbody>\n",
       "    <tr>\n",
       "      <th>0</th>\n",
       "      <td>user_4</td>\n",
       "      <td>project1</td>\n",
       "      <td>2020-04-17 05:19:02.744528</td>\n",
       "      <td>2020-04-27 00:40:05.761783552</td>\n",
       "    </tr>\n",
       "    <tr>\n",
       "      <th>1</th>\n",
       "      <td>user_4</td>\n",
       "      <td>laba04</td>\n",
       "      <td>2020-04-17 11:33:17.366400</td>\n",
       "      <td>2020-04-27 00:40:05.761783552</td>\n",
       "    </tr>\n",
       "    <tr>\n",
       "      <th>2</th>\n",
       "      <td>user_4</td>\n",
       "      <td>laba04s</td>\n",
       "      <td>2020-04-17 11:48:41.992466</td>\n",
       "      <td>2020-04-27 00:40:05.761783552</td>\n",
       "    </tr>\n",
       "    <tr>\n",
       "      <th>5</th>\n",
       "      <td>user_2</td>\n",
       "      <td>laba04</td>\n",
       "      <td>2020-04-18 13:42:35.482008</td>\n",
       "      <td>2020-04-27 00:40:05.761783552</td>\n",
       "    </tr>\n",
       "    <tr>\n",
       "      <th>6</th>\n",
       "      <td>user_2</td>\n",
       "      <td>laba04s</td>\n",
       "      <td>2020-04-18 13:51:22.291271</td>\n",
       "      <td>2020-04-27 00:40:05.761783552</td>\n",
       "    </tr>\n",
       "    <tr>\n",
       "      <th>...</th>\n",
       "      <td>...</td>\n",
       "      <td>...</td>\n",
       "      <td>...</td>\n",
       "      <td>...</td>\n",
       "    </tr>\n",
       "    <tr>\n",
       "      <th>126</th>\n",
       "      <td>user_2</td>\n",
       "      <td>laba06s</td>\n",
       "      <td>2020-05-19 14:45:03.908268</td>\n",
       "      <td>2020-04-27 00:40:05.761783552</td>\n",
       "    </tr>\n",
       "    <tr>\n",
       "      <th>132</th>\n",
       "      <td>user_6</td>\n",
       "      <td>laba06s</td>\n",
       "      <td>2020-05-20 14:50:07.609937</td>\n",
       "      <td>2020-04-27 00:40:05.761783552</td>\n",
       "    </tr>\n",
       "    <tr>\n",
       "      <th>134</th>\n",
       "      <td>user_7</td>\n",
       "      <td>laba06s</td>\n",
       "      <td>2020-05-20 23:05:37.742597</td>\n",
       "      <td>2020-04-27 00:40:05.761783552</td>\n",
       "    </tr>\n",
       "    <tr>\n",
       "      <th>135</th>\n",
       "      <td>user_23</td>\n",
       "      <td>laba06</td>\n",
       "      <td>2020-05-21 08:34:10.517205</td>\n",
       "      <td>2020-04-27 00:40:05.761783552</td>\n",
       "    </tr>\n",
       "    <tr>\n",
       "      <th>137</th>\n",
       "      <td>user_23</td>\n",
       "      <td>laba06s</td>\n",
       "      <td>2020-05-21 14:29:15.709568</td>\n",
       "      <td>2020-04-27 00:40:05.761783552</td>\n",
       "    </tr>\n",
       "  </tbody>\n",
       "</table>\n",
       "<p>81 rows × 4 columns</p>\n",
       "</div>"
      ],
      "text/plain": [
       "         uid   labname            first_commit_ts  \\\n",
       "0     user_4  project1 2020-04-17 05:19:02.744528   \n",
       "1     user_4    laba04 2020-04-17 11:33:17.366400   \n",
       "2     user_4   laba04s 2020-04-17 11:48:41.992466   \n",
       "5     user_2    laba04 2020-04-18 13:42:35.482008   \n",
       "6     user_2   laba04s 2020-04-18 13:51:22.291271   \n",
       "..       ...       ...                        ...   \n",
       "126   user_2   laba06s 2020-05-19 14:45:03.908268   \n",
       "132   user_6   laba06s 2020-05-20 14:50:07.609937   \n",
       "134   user_7   laba06s 2020-05-20 23:05:37.742597   \n",
       "135  user_23    laba06 2020-05-21 08:34:10.517205   \n",
       "137  user_23   laba06s 2020-05-21 14:29:15.709568   \n",
       "\n",
       "                    first_view_ts  \n",
       "0   2020-04-27 00:40:05.761783552  \n",
       "1   2020-04-27 00:40:05.761783552  \n",
       "2   2020-04-27 00:40:05.761783552  \n",
       "5   2020-04-27 00:40:05.761783552  \n",
       "6   2020-04-27 00:40:05.761783552  \n",
       "..                            ...  \n",
       "126 2020-04-27 00:40:05.761783552  \n",
       "132 2020-04-27 00:40:05.761783552  \n",
       "134 2020-04-27 00:40:05.761783552  \n",
       "135 2020-04-27 00:40:05.761783552  \n",
       "137 2020-04-27 00:40:05.761783552  \n",
       "\n",
       "[81 rows x 4 columns]"
      ]
     },
     "execution_count": 86,
     "metadata": {},
     "output_type": "execute_result"
    }
   ],
   "source": [
    "test = df.dropna()\n",
    "control = df[df.isna().any(axis=1)]\n",
    "mean_value = control['first_view_ts'].fillna(value=test['first_view_ts'].mean())\n",
    "control.loc[control['first_view_ts'].isna(), 'first_view_ts'] = mean_value\n",
    "control"
   ]
  },
  {
   "cell_type": "code",
   "execution_count": 87,
   "metadata": {},
   "outputs": [
    {
     "data": {
      "text/plain": [
       "81"
      ]
     },
     "execution_count": 87,
     "metadata": {},
     "output_type": "execute_result"
    }
   ],
   "source": [
    "test.to_sql('test', con=connection, if_exists='replace', index=False)\n",
    "control.to_sql('control', con=connection, if_exists='replace', index=False)"
   ]
  },
  {
   "cell_type": "markdown",
   "metadata": {},
   "source": [
    "## 4. Close the connection"
   ]
  },
  {
   "cell_type": "code",
   "execution_count": 88,
   "metadata": {},
   "outputs": [],
   "source": [
    "connection.close()"
   ]
  }
 ],
 "metadata": {
  "kernelspec": {
   "display_name": "base",
   "language": "python",
   "name": "python3"
  },
  "language_info": {
   "codemirror_mode": {
    "name": "ipython",
    "version": 3
   },
   "file_extension": ".py",
   "mimetype": "text/x-python",
   "name": "python",
   "nbconvert_exporter": "python",
   "pygments_lexer": "ipython3",
   "version": "3.12.4"
  }
 },
 "nbformat": 4,
 "nbformat_minor": 2
}
