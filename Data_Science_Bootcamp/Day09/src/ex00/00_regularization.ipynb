{
 "cells": [
  {
   "cell_type": "markdown",
   "metadata": {},
   "source": [
    "# Day 09. Exercise 00\n",
    "# Regularization"
   ]
  },
  {
   "cell_type": "markdown",
   "metadata": {},
   "source": [
    "## 0. Imports"
   ]
  },
  {
   "cell_type": "code",
   "execution_count": 2,
   "metadata": {},
   "outputs": [],
   "source": [
    "import pandas as pd\n",
    "import numpy as np\n",
    "import joblib\n",
    "\n",
    "from sklearn.model_selection import train_test_split, StratifiedKFold\n",
    "from sklearn.metrics import confusion_matrix\n",
    "\n",
    "from sklearn.linear_model import LogisticRegression\n",
    "from sklearn.svm import SVC\n",
    "from sklearn.tree import DecisionTreeClassifier\n",
    "from sklearn.ensemble import RandomForestClassifier"
   ]
  },
  {
   "cell_type": "markdown",
   "metadata": {},
   "source": [
    "## 1. Preprocessing"
   ]
  },
  {
   "cell_type": "markdown",
   "metadata": {},
   "source": [
    "1. Read the file `dayofweek.csv` that you used in the previous day to a dataframe.\n",
    "2. Using `train_test_split` with parameters `test_size=0.2`, `random_state=21` get `X_train`, `y_train`, `X_test`, `y_test`. Use the additional parameter `stratify`."
   ]
  },
  {
   "cell_type": "code",
   "execution_count": 3,
   "metadata": {},
   "outputs": [],
   "source": [
    "df = pd.read_csv('../data/dayofweek.csv')"
   ]
  },
  {
   "cell_type": "code",
   "execution_count": 4,
   "metadata": {},
   "outputs": [
    {
     "data": {
      "text/html": [
       "<div>\n",
       "<style scoped>\n",
       "    .dataframe tbody tr th:only-of-type {\n",
       "        vertical-align: middle;\n",
       "    }\n",
       "\n",
       "    .dataframe tbody tr th {\n",
       "        vertical-align: top;\n",
       "    }\n",
       "\n",
       "    .dataframe thead th {\n",
       "        text-align: right;\n",
       "    }\n",
       "</style>\n",
       "<table border=\"1\" class=\"dataframe\">\n",
       "  <thead>\n",
       "    <tr style=\"text-align: right;\">\n",
       "      <th></th>\n",
       "      <th>numTrials</th>\n",
       "      <th>hour</th>\n",
       "      <th>dayofweek</th>\n",
       "      <th>uid_user_0</th>\n",
       "      <th>uid_user_1</th>\n",
       "      <th>uid_user_10</th>\n",
       "      <th>uid_user_11</th>\n",
       "      <th>uid_user_12</th>\n",
       "      <th>uid_user_13</th>\n",
       "      <th>uid_user_14</th>\n",
       "      <th>...</th>\n",
       "      <th>labname_lab02</th>\n",
       "      <th>labname_lab03</th>\n",
       "      <th>labname_lab03s</th>\n",
       "      <th>labname_lab05s</th>\n",
       "      <th>labname_laba04</th>\n",
       "      <th>labname_laba04s</th>\n",
       "      <th>labname_laba05</th>\n",
       "      <th>labname_laba06</th>\n",
       "      <th>labname_laba06s</th>\n",
       "      <th>labname_project1</th>\n",
       "    </tr>\n",
       "  </thead>\n",
       "  <tbody>\n",
       "    <tr>\n",
       "      <th>0</th>\n",
       "      <td>-0.788667</td>\n",
       "      <td>-2.562352</td>\n",
       "      <td>4</td>\n",
       "      <td>0.0</td>\n",
       "      <td>0.0</td>\n",
       "      <td>0.0</td>\n",
       "      <td>0.0</td>\n",
       "      <td>0.0</td>\n",
       "      <td>0.0</td>\n",
       "      <td>0.0</td>\n",
       "      <td>...</td>\n",
       "      <td>0.0</td>\n",
       "      <td>0.0</td>\n",
       "      <td>0.0</td>\n",
       "      <td>0.0</td>\n",
       "      <td>0.0</td>\n",
       "      <td>0.0</td>\n",
       "      <td>0.0</td>\n",
       "      <td>0.0</td>\n",
       "      <td>0.0</td>\n",
       "      <td>1.0</td>\n",
       "    </tr>\n",
       "    <tr>\n",
       "      <th>1</th>\n",
       "      <td>-0.756764</td>\n",
       "      <td>-2.562352</td>\n",
       "      <td>4</td>\n",
       "      <td>0.0</td>\n",
       "      <td>0.0</td>\n",
       "      <td>0.0</td>\n",
       "      <td>0.0</td>\n",
       "      <td>0.0</td>\n",
       "      <td>0.0</td>\n",
       "      <td>0.0</td>\n",
       "      <td>...</td>\n",
       "      <td>0.0</td>\n",
       "      <td>0.0</td>\n",
       "      <td>0.0</td>\n",
       "      <td>0.0</td>\n",
       "      <td>0.0</td>\n",
       "      <td>0.0</td>\n",
       "      <td>0.0</td>\n",
       "      <td>0.0</td>\n",
       "      <td>0.0</td>\n",
       "      <td>1.0</td>\n",
       "    </tr>\n",
       "    <tr>\n",
       "      <th>2</th>\n",
       "      <td>-0.724861</td>\n",
       "      <td>-2.562352</td>\n",
       "      <td>4</td>\n",
       "      <td>0.0</td>\n",
       "      <td>0.0</td>\n",
       "      <td>0.0</td>\n",
       "      <td>0.0</td>\n",
       "      <td>0.0</td>\n",
       "      <td>0.0</td>\n",
       "      <td>0.0</td>\n",
       "      <td>...</td>\n",
       "      <td>0.0</td>\n",
       "      <td>0.0</td>\n",
       "      <td>0.0</td>\n",
       "      <td>0.0</td>\n",
       "      <td>0.0</td>\n",
       "      <td>0.0</td>\n",
       "      <td>0.0</td>\n",
       "      <td>0.0</td>\n",
       "      <td>0.0</td>\n",
       "      <td>1.0</td>\n",
       "    </tr>\n",
       "    <tr>\n",
       "      <th>3</th>\n",
       "      <td>-0.692958</td>\n",
       "      <td>-2.562352</td>\n",
       "      <td>4</td>\n",
       "      <td>0.0</td>\n",
       "      <td>0.0</td>\n",
       "      <td>0.0</td>\n",
       "      <td>0.0</td>\n",
       "      <td>0.0</td>\n",
       "      <td>0.0</td>\n",
       "      <td>0.0</td>\n",
       "      <td>...</td>\n",
       "      <td>0.0</td>\n",
       "      <td>0.0</td>\n",
       "      <td>0.0</td>\n",
       "      <td>0.0</td>\n",
       "      <td>0.0</td>\n",
       "      <td>0.0</td>\n",
       "      <td>0.0</td>\n",
       "      <td>0.0</td>\n",
       "      <td>0.0</td>\n",
       "      <td>1.0</td>\n",
       "    </tr>\n",
       "    <tr>\n",
       "      <th>4</th>\n",
       "      <td>-0.661055</td>\n",
       "      <td>-2.562352</td>\n",
       "      <td>4</td>\n",
       "      <td>0.0</td>\n",
       "      <td>0.0</td>\n",
       "      <td>0.0</td>\n",
       "      <td>0.0</td>\n",
       "      <td>0.0</td>\n",
       "      <td>0.0</td>\n",
       "      <td>0.0</td>\n",
       "      <td>...</td>\n",
       "      <td>0.0</td>\n",
       "      <td>0.0</td>\n",
       "      <td>0.0</td>\n",
       "      <td>0.0</td>\n",
       "      <td>0.0</td>\n",
       "      <td>0.0</td>\n",
       "      <td>0.0</td>\n",
       "      <td>0.0</td>\n",
       "      <td>0.0</td>\n",
       "      <td>1.0</td>\n",
       "    </tr>\n",
       "    <tr>\n",
       "      <th>...</th>\n",
       "      <td>...</td>\n",
       "      <td>...</td>\n",
       "      <td>...</td>\n",
       "      <td>...</td>\n",
       "      <td>...</td>\n",
       "      <td>...</td>\n",
       "      <td>...</td>\n",
       "      <td>...</td>\n",
       "      <td>...</td>\n",
       "      <td>...</td>\n",
       "      <td>...</td>\n",
       "      <td>...</td>\n",
       "      <td>...</td>\n",
       "      <td>...</td>\n",
       "      <td>...</td>\n",
       "      <td>...</td>\n",
       "      <td>...</td>\n",
       "      <td>...</td>\n",
       "      <td>...</td>\n",
       "      <td>...</td>\n",
       "      <td>...</td>\n",
       "    </tr>\n",
       "    <tr>\n",
       "      <th>1681</th>\n",
       "      <td>-0.533442</td>\n",
       "      <td>0.945382</td>\n",
       "      <td>3</td>\n",
       "      <td>0.0</td>\n",
       "      <td>0.0</td>\n",
       "      <td>0.0</td>\n",
       "      <td>0.0</td>\n",
       "      <td>0.0</td>\n",
       "      <td>0.0</td>\n",
       "      <td>0.0</td>\n",
       "      <td>...</td>\n",
       "      <td>0.0</td>\n",
       "      <td>0.0</td>\n",
       "      <td>0.0</td>\n",
       "      <td>0.0</td>\n",
       "      <td>0.0</td>\n",
       "      <td>0.0</td>\n",
       "      <td>0.0</td>\n",
       "      <td>0.0</td>\n",
       "      <td>1.0</td>\n",
       "      <td>0.0</td>\n",
       "    </tr>\n",
       "    <tr>\n",
       "      <th>1682</th>\n",
       "      <td>-0.629151</td>\n",
       "      <td>0.945382</td>\n",
       "      <td>3</td>\n",
       "      <td>0.0</td>\n",
       "      <td>1.0</td>\n",
       "      <td>0.0</td>\n",
       "      <td>0.0</td>\n",
       "      <td>0.0</td>\n",
       "      <td>0.0</td>\n",
       "      <td>0.0</td>\n",
       "      <td>...</td>\n",
       "      <td>0.0</td>\n",
       "      <td>0.0</td>\n",
       "      <td>0.0</td>\n",
       "      <td>0.0</td>\n",
       "      <td>0.0</td>\n",
       "      <td>0.0</td>\n",
       "      <td>0.0</td>\n",
       "      <td>0.0</td>\n",
       "      <td>1.0</td>\n",
       "      <td>0.0</td>\n",
       "    </tr>\n",
       "    <tr>\n",
       "      <th>1683</th>\n",
       "      <td>-0.597248</td>\n",
       "      <td>0.945382</td>\n",
       "      <td>3</td>\n",
       "      <td>0.0</td>\n",
       "      <td>1.0</td>\n",
       "      <td>0.0</td>\n",
       "      <td>0.0</td>\n",
       "      <td>0.0</td>\n",
       "      <td>0.0</td>\n",
       "      <td>0.0</td>\n",
       "      <td>...</td>\n",
       "      <td>0.0</td>\n",
       "      <td>0.0</td>\n",
       "      <td>0.0</td>\n",
       "      <td>0.0</td>\n",
       "      <td>0.0</td>\n",
       "      <td>0.0</td>\n",
       "      <td>0.0</td>\n",
       "      <td>0.0</td>\n",
       "      <td>1.0</td>\n",
       "      <td>0.0</td>\n",
       "    </tr>\n",
       "    <tr>\n",
       "      <th>1684</th>\n",
       "      <td>-0.565345</td>\n",
       "      <td>0.945382</td>\n",
       "      <td>3</td>\n",
       "      <td>0.0</td>\n",
       "      <td>1.0</td>\n",
       "      <td>0.0</td>\n",
       "      <td>0.0</td>\n",
       "      <td>0.0</td>\n",
       "      <td>0.0</td>\n",
       "      <td>0.0</td>\n",
       "      <td>...</td>\n",
       "      <td>0.0</td>\n",
       "      <td>0.0</td>\n",
       "      <td>0.0</td>\n",
       "      <td>0.0</td>\n",
       "      <td>0.0</td>\n",
       "      <td>0.0</td>\n",
       "      <td>0.0</td>\n",
       "      <td>0.0</td>\n",
       "      <td>1.0</td>\n",
       "      <td>0.0</td>\n",
       "    </tr>\n",
       "    <tr>\n",
       "      <th>1685</th>\n",
       "      <td>-0.533442</td>\n",
       "      <td>0.945382</td>\n",
       "      <td>3</td>\n",
       "      <td>0.0</td>\n",
       "      <td>1.0</td>\n",
       "      <td>0.0</td>\n",
       "      <td>0.0</td>\n",
       "      <td>0.0</td>\n",
       "      <td>0.0</td>\n",
       "      <td>0.0</td>\n",
       "      <td>...</td>\n",
       "      <td>0.0</td>\n",
       "      <td>0.0</td>\n",
       "      <td>0.0</td>\n",
       "      <td>0.0</td>\n",
       "      <td>0.0</td>\n",
       "      <td>0.0</td>\n",
       "      <td>0.0</td>\n",
       "      <td>0.0</td>\n",
       "      <td>1.0</td>\n",
       "      <td>0.0</td>\n",
       "    </tr>\n",
       "  </tbody>\n",
       "</table>\n",
       "<p>1686 rows × 44 columns</p>\n",
       "</div>"
      ],
      "text/plain": [
       "      numTrials      hour  dayofweek  uid_user_0  uid_user_1  uid_user_10  \\\n",
       "0     -0.788667 -2.562352          4         0.0         0.0          0.0   \n",
       "1     -0.756764 -2.562352          4         0.0         0.0          0.0   \n",
       "2     -0.724861 -2.562352          4         0.0         0.0          0.0   \n",
       "3     -0.692958 -2.562352          4         0.0         0.0          0.0   \n",
       "4     -0.661055 -2.562352          4         0.0         0.0          0.0   \n",
       "...         ...       ...        ...         ...         ...          ...   \n",
       "1681  -0.533442  0.945382          3         0.0         0.0          0.0   \n",
       "1682  -0.629151  0.945382          3         0.0         1.0          0.0   \n",
       "1683  -0.597248  0.945382          3         0.0         1.0          0.0   \n",
       "1684  -0.565345  0.945382          3         0.0         1.0          0.0   \n",
       "1685  -0.533442  0.945382          3         0.0         1.0          0.0   \n",
       "\n",
       "      uid_user_11  uid_user_12  uid_user_13  uid_user_14  ...  labname_lab02  \\\n",
       "0             0.0          0.0          0.0          0.0  ...            0.0   \n",
       "1             0.0          0.0          0.0          0.0  ...            0.0   \n",
       "2             0.0          0.0          0.0          0.0  ...            0.0   \n",
       "3             0.0          0.0          0.0          0.0  ...            0.0   \n",
       "4             0.0          0.0          0.0          0.0  ...            0.0   \n",
       "...           ...          ...          ...          ...  ...            ...   \n",
       "1681          0.0          0.0          0.0          0.0  ...            0.0   \n",
       "1682          0.0          0.0          0.0          0.0  ...            0.0   \n",
       "1683          0.0          0.0          0.0          0.0  ...            0.0   \n",
       "1684          0.0          0.0          0.0          0.0  ...            0.0   \n",
       "1685          0.0          0.0          0.0          0.0  ...            0.0   \n",
       "\n",
       "      labname_lab03  labname_lab03s  labname_lab05s  labname_laba04  \\\n",
       "0               0.0             0.0             0.0             0.0   \n",
       "1               0.0             0.0             0.0             0.0   \n",
       "2               0.0             0.0             0.0             0.0   \n",
       "3               0.0             0.0             0.0             0.0   \n",
       "4               0.0             0.0             0.0             0.0   \n",
       "...             ...             ...             ...             ...   \n",
       "1681            0.0             0.0             0.0             0.0   \n",
       "1682            0.0             0.0             0.0             0.0   \n",
       "1683            0.0             0.0             0.0             0.0   \n",
       "1684            0.0             0.0             0.0             0.0   \n",
       "1685            0.0             0.0             0.0             0.0   \n",
       "\n",
       "      labname_laba04s  labname_laba05  labname_laba06  labname_laba06s  \\\n",
       "0                 0.0             0.0             0.0              0.0   \n",
       "1                 0.0             0.0             0.0              0.0   \n",
       "2                 0.0             0.0             0.0              0.0   \n",
       "3                 0.0             0.0             0.0              0.0   \n",
       "4                 0.0             0.0             0.0              0.0   \n",
       "...               ...             ...             ...              ...   \n",
       "1681              0.0             0.0             0.0              1.0   \n",
       "1682              0.0             0.0             0.0              1.0   \n",
       "1683              0.0             0.0             0.0              1.0   \n",
       "1684              0.0             0.0             0.0              1.0   \n",
       "1685              0.0             0.0             0.0              1.0   \n",
       "\n",
       "      labname_project1  \n",
       "0                  1.0  \n",
       "1                  1.0  \n",
       "2                  1.0  \n",
       "3                  1.0  \n",
       "4                  1.0  \n",
       "...                ...  \n",
       "1681               0.0  \n",
       "1682               0.0  \n",
       "1683               0.0  \n",
       "1684               0.0  \n",
       "1685               0.0  \n",
       "\n",
       "[1686 rows x 44 columns]"
      ]
     },
     "execution_count": 4,
     "metadata": {},
     "output_type": "execute_result"
    }
   ],
   "source": [
    "df"
   ]
  },
  {
   "cell_type": "code",
   "execution_count": 5,
   "metadata": {},
   "outputs": [],
   "source": [
    "X = df.drop(columns=['dayofweek'])\n",
    "y = df['dayofweek']"
   ]
  },
  {
   "cell_type": "code",
   "execution_count": 6,
   "metadata": {},
   "outputs": [],
   "source": [
    "X_train, X_test, y_train, y_test = train_test_split(X, y, test_size=0.2, random_state=21, stratify=y)"
   ]
  },
  {
   "cell_type": "code",
   "execution_count": 7,
   "metadata": {},
   "outputs": [
    {
     "data": {
      "text/plain": [
       "(array([80.14705882, 79.9270073 , 79.86577181, 79.7979798 , 79.80769231,\n",
       "        80.07380074, 80.05617978]),\n",
       " array([19.85294118, 20.0729927 , 20.13422819, 20.2020202 , 20.19230769,\n",
       "        19.92619926, 19.94382022]))"
      ]
     },
     "execution_count": 7,
     "metadata": {},
     "output_type": "execute_result"
    }
   ],
   "source": [
    "np.bincount(y_train) / np.bincount(y) * 100, np.bincount(y_test) / np.bincount(y) * 100"
   ]
  },
  {
   "cell_type": "markdown",
   "metadata": {},
   "source": [
    "## 2. Logreg regularization"
   ]
  },
  {
   "cell_type": "markdown",
   "metadata": {},
   "source": [
    "### a. Default regularization"
   ]
  },
  {
   "cell_type": "markdown",
   "metadata": {},
   "source": [
    "1. Train a baseline model with the only parameters `random_state=21`, `fit_intercept=False`.\n",
    "2. Use stratified K-fold cross-validation with `10` splits to evaluate the accuracy of the model\n",
    "\n",
    "\n",
    "The result of the code where you trained and evaluated the baseline model should be exactly like this (use `%%time` to get the info about how long it took to run the cell):\n",
    "\n",
    "```\n",
    "train -  0.62902   |   valid -  0.59259\n",
    "train -  0.64633   |   valid -  0.62963\n",
    "train -  0.63479   |   valid -  0.56296\n",
    "train -  0.65622   |   valid -  0.61481\n",
    "train -  0.63397   |   valid -  0.57778\n",
    "train -  0.64056   |   valid -  0.59259\n",
    "train -  0.64138   |   valid -  0.65926\n",
    "train -  0.65952   |   valid -  0.56296\n",
    "train -  0.64333   |   valid -  0.59701\n",
    "train -  0.63674   |   valid -  0.62687\n",
    "Average accuracy on crossval is 0.60165\n",
    "Std is 0.02943\n",
    "```"
   ]
  },
  {
   "cell_type": "code",
   "execution_count": 8,
   "metadata": {},
   "outputs": [],
   "source": [
    "logreg = LogisticRegression(random_state=21, fit_intercept=False)"
   ]
  },
  {
   "cell_type": "code",
   "execution_count": 9,
   "metadata": {},
   "outputs": [],
   "source": [
    "def crossval(n_splits, X, y, model):\n",
    "    skf = StratifiedKFold(n_splits=n_splits)\n",
    "    valid_scores = []\n",
    "    for train_index, valid_index in skf.split(X, y):\n",
    "        X_train, X_valid = X.iloc[train_index], X.iloc[valid_index]\n",
    "        y_train, y_valid = y.iloc[train_index], y.iloc[valid_index]\n",
    "\n",
    "        model.fit(X_train, y_train)\n",
    "\n",
    "        train_score = model.score(X_train, y_train)\n",
    "        valid_score = model.score(X_valid, y_valid)\n",
    "        valid_scores.append(valid_score)\n",
    "        \n",
    "        print(f'train - {train_score:.5f} | valid - {valid_score:.5f}')\n",
    "        mean_valid = np.mean(valid_scores)\n",
    "        \n",
    "    print(f'Average accurecy on crossval is {mean_valid:.5f}')\n",
    "    print(f'Std if {np.std(valid_scores):.5f}')"
   ]
  },
  {
   "cell_type": "code",
   "execution_count": 10,
   "metadata": {},
   "outputs": [
    {
     "name": "stdout",
     "output_type": "stream",
     "text": [
      "train - 0.62819 | valid - 0.59259\n",
      "train - 0.64716 | valid - 0.62963\n",
      "train - 0.63479 | valid - 0.57037\n",
      "train - 0.65540 | valid - 0.61481\n",
      "train - 0.63314 | valid - 0.57778\n",
      "train - 0.64056 | valid - 0.59259\n",
      "train - 0.64221 | valid - 0.65926\n",
      "train - 0.65952 | valid - 0.56296\n",
      "train - 0.64333 | valid - 0.59701\n",
      "train - 0.63591 | valid - 0.62687\n",
      "Average accurecy on crossval is 0.60239\n",
      "Std if 0.02852\n",
      "CPU times: user 1.18 s, sys: 190 ms, total: 1.37 s\n",
      "Wall time: 368 ms\n"
     ]
    }
   ],
   "source": [
    "%%time\n",
    "crossval(10, X_train, y_train, logreg)"
   ]
  },
  {
   "cell_type": "markdown",
   "metadata": {},
   "source": [
    "### b. Optimizing regularization parameters"
   ]
  },
  {
   "cell_type": "markdown",
   "metadata": {},
   "source": [
    "1. In the cells below try different values of penalty: `none`, `l1`, `l2` – you can change the values of solver too."
   ]
  },
  {
   "cell_type": "code",
   "execution_count": 11,
   "metadata": {},
   "outputs": [
    {
     "name": "stdout",
     "output_type": "stream",
     "text": [
      "train - 0.66694 | valid - 0.63704\n",
      "train - 0.65787 | valid - 0.65926\n",
      "train - 0.66612 | valid - 0.57778\n",
      "train - 0.66529 | valid - 0.62963\n",
      "train - 0.66694 | valid - 0.62222\n",
      "train - 0.65952 | valid - 0.57778\n",
      "train - 0.65045 | valid - 0.69630\n",
      "train - 0.68425 | valid - 0.61481\n",
      "train - 0.66474 | valid - 0.62687\n",
      "train - 0.65651 | valid - 0.60448\n",
      "Average accurecy on crossval is 0.62462\n",
      "Std if 0.03379\n",
      "CPU times: user 3.07 s, sys: 271 ms, total: 3.34 s\n",
      "Wall time: 839 ms\n"
     ]
    }
   ],
   "source": [
    "%%time\n",
    "logreg = LogisticRegression(random_state=21, fit_intercept=False, penalty=None, solver='newton-cg')\n",
    "crossval(10, X_train, y_train, logreg)"
   ]
  },
  {
   "cell_type": "code",
   "execution_count": 12,
   "metadata": {},
   "outputs": [
    {
     "name": "stdout",
     "output_type": "stream",
     "text": [
      "train - 0.61830 | valid - 0.54815\n",
      "train - 0.62737 | valid - 0.62222\n",
      "train - 0.60511 | valid - 0.54074\n",
      "train - 0.63644 | valid - 0.62222\n",
      "train - 0.62407 | valid - 0.55556\n",
      "train - 0.62325 | valid - 0.58519\n",
      "train - 0.61253 | valid - 0.63704\n",
      "train - 0.64716 | valid - 0.58519\n",
      "train - 0.63015 | valid - 0.59701\n",
      "train - 0.61367 | valid - 0.59701\n",
      "Average accurecy on crossval is 0.58903\n",
      "Std if 0.03129\n",
      "CPU times: user 802 ms, sys: 105 ms, total: 907 ms\n",
      "Wall time: 233 ms\n"
     ]
    }
   ],
   "source": [
    "%%time\n",
    "logreg = LogisticRegression(random_state=21, fit_intercept=False, penalty='l1', solver='liblinear')\n",
    "crossval(10, X_train, y_train, logreg)"
   ]
  },
  {
   "cell_type": "code",
   "execution_count": 13,
   "metadata": {},
   "outputs": [
    {
     "name": "stdout",
     "output_type": "stream",
     "text": [
      "train - 0.62819 | valid - 0.59259\n",
      "train - 0.64716 | valid - 0.62963\n",
      "train - 0.63479 | valid - 0.57037\n",
      "train - 0.65540 | valid - 0.61481\n",
      "train - 0.63314 | valid - 0.57778\n",
      "train - 0.64056 | valid - 0.59259\n",
      "train - 0.64221 | valid - 0.65926\n",
      "train - 0.65952 | valid - 0.56296\n",
      "train - 0.64333 | valid - 0.59701\n",
      "train - 0.63591 | valid - 0.62687\n",
      "Average accurecy on crossval is 0.60239\n",
      "Std if 0.02852\n",
      "CPU times: user 1.26 s, sys: 168 ms, total: 1.43 s\n",
      "Wall time: 359 ms\n"
     ]
    }
   ],
   "source": [
    "%%time\n",
    "logreg = LogisticRegression(random_state=21, fit_intercept=False, penalty='l2')\n",
    "crossval(10, X_train, y_train, logreg)"
   ]
  },
  {
   "cell_type": "markdown",
   "metadata": {},
   "source": [
    "## 3. SVM regularization"
   ]
  },
  {
   "cell_type": "markdown",
   "metadata": {},
   "source": [
    "### a. Default regularization"
   ]
  },
  {
   "cell_type": "markdown",
   "metadata": {},
   "source": [
    "1. Train a baseline model with the only parameters `probability=True`, `kernel='linear'`, `random_state=21`.\n",
    "2. Use stratified K-fold cross-validation with `10` splits to evaluate the accuracy of the model.\n",
    "3. The format of the result of the code where you trained and evaluated the baseline model should be similar to what you have got for the logreg."
   ]
  },
  {
   "cell_type": "code",
   "execution_count": 14,
   "metadata": {},
   "outputs": [
    {
     "name": "stdout",
     "output_type": "stream",
     "text": [
      "train - 0.70486 | valid - 0.65926\n",
      "train - 0.69662 | valid - 0.75556\n",
      "train - 0.69415 | valid - 0.62222\n",
      "train - 0.70239 | valid - 0.65185\n",
      "train - 0.69085 | valid - 0.65185\n",
      "train - 0.68920 | valid - 0.64444\n",
      "train - 0.69250 | valid - 0.72593\n",
      "train - 0.70074 | valid - 0.62222\n",
      "train - 0.69605 | valid - 0.61940\n",
      "train - 0.71087 | valid - 0.63433\n",
      "Average accurecy on crossval is 0.65871\n",
      "Std if 0.04359\n",
      "CPU times: user 5.4 s, sys: 21.1 ms, total: 5.42 s\n",
      "Wall time: 5.43 s\n"
     ]
    }
   ],
   "source": [
    "%%time\n",
    "svc = SVC(probability=True, kernel='linear', random_state=21)\n",
    "crossval(10, X_train, y_train, svc)"
   ]
  },
  {
   "cell_type": "markdown",
   "metadata": {},
   "source": [
    "### b. Optimizing regularization parameters"
   ]
  },
  {
   "cell_type": "markdown",
   "metadata": {},
   "source": [
    "1. In the cells below try different values of the parameter `C`."
   ]
  },
  {
   "cell_type": "code",
   "execution_count": 15,
   "metadata": {},
   "outputs": [
    {
     "name": "stdout",
     "output_type": "stream",
     "text": [
      "train - 0.37923 | valid - 0.40000\n",
      "train - 0.37923 | valid - 0.40000\n",
      "train - 0.38417 | valid - 0.35556\n",
      "train - 0.35449 | valid - 0.36296\n",
      "train - 0.38252 | valid - 0.37037\n",
      "train - 0.38087 | valid - 0.38519\n",
      "train - 0.37923 | valid - 0.40000\n",
      "train - 0.38252 | valid - 0.37037\n",
      "train - 0.38468 | valid - 0.35075\n",
      "train - 0.38386 | valid - 0.35821\n",
      "Average accurecy on crossval is 0.37534\n",
      "Std if 0.01848\n",
      "CPU times: user 6.46 s, sys: 0 ns, total: 6.46 s\n",
      "Wall time: 6.48 s\n"
     ]
    }
   ],
   "source": [
    "%%time\n",
    "svc = SVC(probability=True, kernel='linear', random_state=21, C=0.01)\n",
    "crossval(10, X_train, y_train, svc)"
   ]
  },
  {
   "cell_type": "code",
   "execution_count": 16,
   "metadata": {},
   "outputs": [
    {
     "name": "stdout",
     "output_type": "stream",
     "text": [
      "train - 0.70486 | valid - 0.65926\n",
      "train - 0.69662 | valid - 0.75556\n",
      "train - 0.69415 | valid - 0.62222\n",
      "train - 0.70239 | valid - 0.65185\n",
      "train - 0.69085 | valid - 0.65185\n",
      "train - 0.68920 | valid - 0.64444\n",
      "train - 0.69250 | valid - 0.72593\n",
      "train - 0.70074 | valid - 0.62222\n",
      "train - 0.69605 | valid - 0.61940\n",
      "train - 0.71087 | valid - 0.63433\n",
      "Average accurecy on crossval is 0.65871\n",
      "Std if 0.04359\n",
      "CPU times: user 4.87 s, sys: 0 ns, total: 4.87 s\n",
      "Wall time: 4.86 s\n"
     ]
    }
   ],
   "source": [
    "%%time\n",
    "svc = SVC(probability=True, kernel='linear', random_state=21, C=1)\n",
    "crossval(10, X_train, y_train, svc)"
   ]
  },
  {
   "cell_type": "code",
   "execution_count": 17,
   "metadata": {},
   "outputs": [
    {
     "name": "stdout",
     "output_type": "stream",
     "text": [
      "train - 0.75021 | valid - 0.72593\n",
      "train - 0.77741 | valid - 0.82963\n",
      "train - 0.78566 | valid - 0.68148\n",
      "train - 0.76834 | valid - 0.73333\n",
      "train - 0.75185 | valid - 0.77778\n",
      "train - 0.75598 | valid - 0.68889\n",
      "train - 0.76257 | valid - 0.74074\n",
      "train - 0.77411 | valid - 0.68889\n",
      "train - 0.78254 | valid - 0.71642\n",
      "train - 0.78418 | valid - 0.69403\n",
      "Average accurecy on crossval is 0.72771\n",
      "Std if 0.04417\n",
      "CPU times: user 8.73 s, sys: 25.8 ms, total: 8.76 s\n",
      "Wall time: 11.2 s\n"
     ]
    }
   ],
   "source": [
    "%%time\n",
    "svc = SVC(probability=True, kernel='linear', random_state=21, C=10)\n",
    "crossval(10, X_train, y_train, svc)"
   ]
  },
  {
   "cell_type": "markdown",
   "metadata": {},
   "source": [
    "## 4. Tree"
   ]
  },
  {
   "cell_type": "markdown",
   "metadata": {},
   "source": [
    "### a. Default regularization"
   ]
  },
  {
   "cell_type": "markdown",
   "metadata": {},
   "source": [
    "1. Train a baseline model with the only parameter `max_depth=10` and `random_state=21`.\n",
    "2. Use stratified K-fold cross-validation with `10` splits to evaluate the accuracy of the model.\n",
    "3. The format of the result of the code where you trained and evaluated the baseline model should be similar to what you have got for the logreg."
   ]
  },
  {
   "cell_type": "code",
   "execution_count": 18,
   "metadata": {},
   "outputs": [
    {
     "name": "stdout",
     "output_type": "stream",
     "text": [
      "train - 0.81039 | valid - 0.74074\n",
      "train - 0.77741 | valid - 0.74074\n",
      "train - 0.83347 | valid - 0.70370\n",
      "train - 0.79720 | valid - 0.76296\n",
      "train - 0.82440 | valid - 0.75556\n",
      "train - 0.80379 | valid - 0.68889\n",
      "train - 0.80709 | valid - 0.76296\n",
      "train - 0.80132 | valid - 0.65926\n",
      "train - 0.80807 | valid - 0.75373\n",
      "train - 0.80478 | valid - 0.68657\n",
      "Average accurecy on crossval is 0.72551\n",
      "Std if 0.03562\n",
      "CPU times: user 176 ms, sys: 4.14 ms, total: 180 ms\n",
      "Wall time: 305 ms\n"
     ]
    }
   ],
   "source": [
    "%%time\n",
    "tree = DecisionTreeClassifier(max_depth=10, random_state=21)\n",
    "crossval(10, X_train, y_train, tree)"
   ]
  },
  {
   "cell_type": "markdown",
   "metadata": {},
   "source": [
    "### b. Optimizing regularization parameters"
   ]
  },
  {
   "cell_type": "markdown",
   "metadata": {},
   "source": [
    "1. In the cells below try different values of the parameter `max_depth`.\n",
    "2. As a bonus, play with other regularization parameters trying to find the best combination."
   ]
  },
  {
   "cell_type": "code",
   "execution_count": 19,
   "metadata": {},
   "outputs": [
    {
     "name": "stdout",
     "output_type": "stream",
     "text": [
      "train - 0.43034 | valid - 0.47407\n"
     ]
    },
    {
     "name": "stdout",
     "output_type": "stream",
     "text": [
      "train - 0.43281 | valid - 0.45185\n",
      "train - 0.44023 | valid - 0.38519\n",
      "train - 0.43034 | valid - 0.47407\n",
      "train - 0.43776 | valid - 0.40741\n",
      "train - 0.43364 | valid - 0.44444\n",
      "train - 0.43364 | valid - 0.44444\n",
      "train - 0.43776 | valid - 0.40741\n",
      "train - 0.41763 | valid - 0.38806\n",
      "train - 0.43657 | valid - 0.41791\n",
      "Average accurecy on crossval is 0.42949\n",
      "Std if 0.03116\n",
      "CPU times: user 128 ms, sys: 2.84 ms, total: 130 ms\n",
      "Wall time: 251 ms\n"
     ]
    }
   ],
   "source": [
    "%%time\n",
    "tree = DecisionTreeClassifier(max_depth=2, random_state=21)\n",
    "crossval(10, X_train, y_train, tree)"
   ]
  },
  {
   "cell_type": "code",
   "execution_count": 20,
   "metadata": {},
   "outputs": [
    {
     "name": "stdout",
     "output_type": "stream",
     "text": [
      "train - 0.59522 | valid - 0.53333\n",
      "train - 0.56307 | valid - 0.53333\n",
      "train - 0.60181 | valid - 0.55556\n",
      "train - 0.59604 | valid - 0.57037\n",
      "train - 0.60264 | valid - 0.57778\n",
      "train - 0.57955 | valid - 0.53333\n",
      "train - 0.58368 | valid - 0.54815\n",
      "train - 0.59275 | valid - 0.51111\n",
      "train - 0.58237 | valid - 0.56716\n",
      "train - 0.60132 | valid - 0.50000\n",
      "Average accurecy on crossval is 0.54301\n",
      "Std if 0.02423\n",
      "CPU times: user 144 ms, sys: 173 μs, total: 144 ms\n",
      "Wall time: 286 ms\n"
     ]
    }
   ],
   "source": [
    "%%time\n",
    "tree = DecisionTreeClassifier(max_depth=5, random_state=21)\n",
    "crossval(10, X_train, y_train, tree)"
   ]
  },
  {
   "cell_type": "code",
   "execution_count": 21,
   "metadata": {},
   "outputs": [
    {
     "name": "stdout",
     "output_type": "stream",
     "text": [
      "train - 0.81039 | valid - 0.74074\n",
      "train - 0.77741 | valid - 0.74074\n"
     ]
    },
    {
     "name": "stdout",
     "output_type": "stream",
     "text": [
      "train - 0.83347 | valid - 0.70370\n",
      "train - 0.79720 | valid - 0.76296\n",
      "train - 0.82440 | valid - 0.75556\n",
      "train - 0.80379 | valid - 0.68889\n",
      "train - 0.80709 | valid - 0.76296\n",
      "train - 0.80132 | valid - 0.65926\n",
      "train - 0.80807 | valid - 0.75373\n",
      "train - 0.80478 | valid - 0.68657\n",
      "Average accurecy on crossval is 0.72551\n",
      "Std if 0.03562\n",
      "CPU times: user 155 ms, sys: 0 ns, total: 155 ms\n",
      "Wall time: 342 ms\n"
     ]
    }
   ],
   "source": [
    "%%time\n",
    "tree = DecisionTreeClassifier(max_depth=10, random_state=21)\n",
    "crossval(10, X_train, y_train, tree)"
   ]
  },
  {
   "cell_type": "code",
   "execution_count": 22,
   "metadata": {},
   "outputs": [
    {
     "name": "stdout",
     "output_type": "stream",
     "text": [
      "train - 0.95796 | valid - 0.82222\n",
      "train - 0.93075 | valid - 0.83704\n",
      "train - 0.95631 | valid - 0.83704\n",
      "train - 0.95301 | valid - 0.86667\n",
      "train - 0.95136 | valid - 0.88889\n",
      "train - 0.94724 | valid - 0.82222\n",
      "train - 0.95466 | valid - 0.90370\n",
      "train - 0.94971 | valid - 0.87407\n",
      "train - 0.95305 | valid - 0.83582\n",
      "train - 0.94316 | valid - 0.85821\n",
      "Average accurecy on crossval is 0.85459\n",
      "Std if 0.02682\n",
      "CPU times: user 167 ms, sys: 902 μs, total: 168 ms\n",
      "Wall time: 359 ms\n"
     ]
    }
   ],
   "source": [
    "%%time\n",
    "tree = DecisionTreeClassifier(max_depth=15, random_state=21)\n",
    "crossval(10, X_train, y_train, tree)"
   ]
  },
  {
   "cell_type": "code",
   "execution_count": 23,
   "metadata": {},
   "outputs": [
    {
     "name": "stdout",
     "output_type": "stream",
     "text": [
      "train - 0.98846 | valid - 0.86667\n",
      "train - 0.99011 | valid - 0.91111\n",
      "train - 0.98681 | valid - 0.85926\n",
      "train - 0.98763 | valid - 0.91111\n",
      "train - 0.98928 | valid - 0.88148\n",
      "train - 0.98186 | valid - 0.85926\n",
      "train - 0.98846 | valid - 0.91852\n",
      "train - 0.99176 | valid - 0.89630\n",
      "train - 0.99094 | valid - 0.88060\n",
      "train - 0.98847 | valid - 0.88060\n",
      "Average accurecy on crossval is 0.88649\n",
      "Std if 0.02075\n",
      "CPU times: user 165 ms, sys: 2.81 ms, total: 168 ms\n",
      "Wall time: 302 ms\n"
     ]
    }
   ],
   "source": [
    "%%time\n",
    "tree = DecisionTreeClassifier(max_depth=20, random_state=21)\n",
    "crossval(10, X_train, y_train, tree)"
   ]
  },
  {
   "cell_type": "markdown",
   "metadata": {},
   "source": [
    "## 5. Random forest"
   ]
  },
  {
   "cell_type": "markdown",
   "metadata": {},
   "source": [
    "### a. Default regularization"
   ]
  },
  {
   "cell_type": "markdown",
   "metadata": {},
   "source": [
    "1. Train a baseline model with the only parameters `n_estimators=50`, `max_depth=14`, `random_state=21`.\n",
    "2. Use stratified K-fold cross-validation with `10` splits to evaluate the accuracy of the model.\n",
    "3. The format of the result of the code where you trained and evaluated the baseline model should be similar to what you have got for the logreg."
   ]
  },
  {
   "cell_type": "code",
   "execution_count": 24,
   "metadata": {},
   "outputs": [
    {
     "name": "stdout",
     "output_type": "stream",
     "text": [
      "train - 0.96455 | valid - 0.88148\n",
      "train - 0.96208 | valid - 0.91852\n",
      "train - 0.96785 | valid - 0.86667\n",
      "train - 0.96455 | valid - 0.89630\n",
      "train - 0.96538 | valid - 0.91111\n",
      "train - 0.96538 | valid - 0.88148\n",
      "train - 0.97115 | valid - 0.91852\n",
      "train - 0.96867 | valid - 0.85185\n",
      "train - 0.97364 | valid - 0.88060\n",
      "train - 0.97941 | valid - 0.86567\n",
      "Average accurecy on crossval is 0.88722\n",
      "Std if 0.02204\n",
      "CPU times: user 2.03 s, sys: 14.4 ms, total: 2.04 s\n",
      "Wall time: 3.46 s\n"
     ]
    }
   ],
   "source": [
    "%%time\n",
    "rf = RandomForestClassifier(n_estimators=50, max_depth=14, random_state=21)\n",
    "crossval(10, X_train, y_train, rf)"
   ]
  },
  {
   "cell_type": "markdown",
   "metadata": {},
   "source": [
    "### b. Optimizing regularization parameters"
   ]
  },
  {
   "cell_type": "markdown",
   "metadata": {},
   "source": [
    "1. In the new cells try different values of the parameters `max_depth` and `n_estimators`.\n",
    "2. As a bonus, play with other regularization parameters trying to find the best combination."
   ]
  },
  {
   "cell_type": "code",
   "execution_count": 25,
   "metadata": {},
   "outputs": [
    {
     "name": "stdout",
     "output_type": "stream",
     "text": [
      "n_estiatrix(y_test, y_pred)mators = 20, max_depth = 5\n",
      "train - 0.60264 | valid - 0.60741\n",
      "train - 0.55153 | valid - 0.49630\n",
      "train - 0.59357 | valid - 0.53333\n",
      "train - 0.59275 | valid - 0.57778\n",
      "train - 0.57873 | valid - 0.54074\n",
      "train - 0.60758 | valid - 0.56296\n",
      "train - 0.59687 | valid - 0.57037\n",
      "train - 0.60429 | valid - 0.56296\n",
      "train - 0.60297 | valid - 0.57463\n",
      "train - 0.58649 | valid - 0.55224\n",
      "Average accurecy on crossval is 0.55787\n",
      "Std if 0.02839\n",
      "n_estiatrix(y_test, y_pred)mators = 20, max_depth = 10\n",
      "train - 0.82358 | valid - 0.77037\n",
      "train - 0.84996 | valid - 0.82963\n",
      "train - 0.86645 | valid - 0.80741\n",
      "train - 0.88788 | valid - 0.80741\n",
      "train - 0.86645 | valid - 0.85926\n",
      "train - 0.84666 | valid - 0.74074\n",
      "train - 0.85326 | valid - 0.82222\n",
      "train - 0.84996 | valid - 0.75556\n",
      "train - 0.88221 | valid - 0.79104\n",
      "train - 0.87068 | valid - 0.76119\n",
      "Average accurecy on crossval is 0.79448\n",
      "Std if 0.03555\n",
      "n_estiatrix(y_test, y_pred)mators = 20, max_depth = 15\n",
      "train - 0.96785 | valid - 0.88889\n",
      "train - 0.95796 | valid - 0.91111\n",
      "train - 0.97527 | valid - 0.89630\n",
      "train - 0.97279 | valid - 0.88889\n",
      "train - 0.96867 | valid - 0.91111\n",
      "train - 0.97444 | valid - 0.85185\n",
      "train - 0.96702 | valid - 0.87407\n",
      "train - 0.96043 | valid - 0.85185\n",
      "train - 0.98023 | valid - 0.91045\n",
      "train - 0.96787 | valid - 0.86567\n",
      "Average accurecy on crossval is 0.88502\n",
      "Std if 0.02204\n",
      "n_estiatrix(y_test, y_pred)mators = 20, max_depth = 20\n",
      "train - 0.99340 | valid - 0.88889\n",
      "train - 0.99670 | valid - 0.93333\n",
      "train - 0.99670 | valid - 0.88889\n",
      "train - 0.99423 | valid - 0.91111\n",
      "train - 0.99340 | valid - 0.91111\n",
      "train - 0.99340 | valid - 0.88889\n",
      "train - 0.99423 | valid - 0.92593\n",
      "train - 0.99176 | valid - 0.90370\n",
      "train - 0.99341 | valid - 0.91045\n",
      "train - 0.99753 | valid - 0.87313\n",
      "Average accurecy on crossval is 0.90354\n",
      "Std if 0.01766\n",
      "n_estiatrix(y_test, y_pred)mators = 30, max_depth = 5\n",
      "train - 0.60511 | valid - 0.59259\n",
      "train - 0.56719 | valid - 0.52593\n",
      "train - 0.58780 | valid - 0.50370\n",
      "train - 0.61830 | valid - 0.57778\n",
      "train - 0.57955 | valid - 0.51852\n",
      "train - 0.62077 | valid - 0.59259\n",
      "train - 0.61500 | valid - 0.60741\n",
      "train - 0.59769 | valid - 0.53333\n",
      "train - 0.62521 | valid - 0.59701\n",
      "train - 0.58979 | valid - 0.52985\n",
      "Average accurecy on crossval is 0.55787\n",
      "Std if 0.03699\n",
      "n_estiatrix(y_test, y_pred)mators = 30, max_depth = 10\n",
      "train - 0.82852 | valid - 0.76296\n",
      "train - 0.85408 | valid - 0.80741\n",
      "train - 0.87139 | valid - 0.80741\n",
      "train - 0.86480 | valid - 0.80000\n",
      "train - 0.88458 | valid - 0.86667\n",
      "train - 0.88046 | valid - 0.76296\n",
      "train - 0.85573 | valid - 0.80741\n",
      "train - 0.85491 | valid - 0.72593\n",
      "train - 0.89456 | valid - 0.80597\n",
      "train - 0.87974 | valid - 0.76119\n",
      "Average accurecy on crossval is 0.79079\n",
      "Std if 0.03679\n",
      "n_estiatrix(y_test, y_pred)mators = 30, max_depth = 15\n",
      "train - 0.97444 | valid - 0.88148\n",
      "train - 0.97032 | valid - 0.92593\n",
      "train - 0.97444 | valid - 0.89630\n",
      "train - 0.97857 | valid - 0.88889\n",
      "train - 0.97197 | valid - 0.91111\n",
      "train - 0.97527 | valid - 0.87407\n",
      "train - 0.97279 | valid - 0.89630\n",
      "train - 0.97444 | valid - 0.88889\n",
      "train - 0.98517 | valid - 0.88060\n",
      "train - 0.97446 | valid - 0.87313\n",
      "Average accurecy on crossval is 0.89167\n",
      "Std if 0.01578\n",
      "n_estiatrix(y_test, y_pred)mators = 30, max_depth = 20\n",
      "train - 0.99423 | valid - 0.89630\n",
      "train - 0.99835 | valid - 0.93333\n",
      "train - 0.99423 | valid - 0.88889\n",
      "train - 0.99753 | valid - 0.93333\n",
      "train - 0.99176 | valid - 0.91111\n",
      "train - 0.99670 | valid - 0.87407\n",
      "train - 0.99670 | valid - 0.91852\n",
      "train - 0.99670 | valid - 0.90370\n",
      "train - 0.99753 | valid - 0.92537\n",
      "train - 0.99753 | valid - 0.88060\n",
      "Average accurecy on crossval is 0.90652\n",
      "Std if 0.02026\n",
      "n_estiatrix(y_test, y_pred)mators = 40, max_depth = 5\n",
      "train - 0.60346 | valid - 0.57037\n",
      "train - 0.57296 | valid - 0.54074\n",
      "train - 0.60758 | valid - 0.55556\n",
      "train - 0.61336 | valid - 0.59259\n",
      "train - 0.60016 | valid - 0.56296\n",
      "train - 0.60594 | valid - 0.57037\n",
      "train - 0.59192 | valid - 0.57037\n",
      "train - 0.60429 | valid - 0.55556\n",
      "train - 0.62191 | valid - 0.58955\n",
      "train - 0.61038 | valid - 0.54478\n",
      "Average accurecy on crossval is 0.56528\n",
      "Std if 0.01622\n",
      "n_estiatrix(y_test, y_pred)mators = 40, max_depth = 10\n",
      "train - 0.84584 | valid - 0.76296\n",
      "train - 0.85243 | valid - 0.80741\n",
      "train - 0.88623 | valid - 0.80741\n",
      "train - 0.86892 | valid - 0.78519\n",
      "train - 0.89200 | valid - 0.86667\n",
      "train - 0.86562 | valid - 0.74815\n",
      "train - 0.85161 | valid - 0.82222\n",
      "train - 0.85573 | valid - 0.71852\n",
      "train - 0.89374 | valid - 0.80597\n",
      "train - 0.86903 | valid - 0.74627\n",
      "Average accurecy on crossval is 0.78708\n",
      "Std if 0.04150\n",
      "n_estiatrix(y_test, y_pred)mators = 40, max_depth = 15\n",
      "train - 0.97444 | valid - 0.87407\n",
      "train - 0.97197 | valid - 0.91852\n",
      "train - 0.97609 | valid - 0.89630\n",
      "train - 0.97609 | valid - 0.90370\n",
      "train - 0.97197 | valid - 0.90370\n",
      "train - 0.97279 | valid - 0.88148\n",
      "train - 0.98434 | valid - 0.91111\n",
      "train - 0.97444 | valid - 0.87407\n",
      "train - 0.98105 | valid - 0.88060\n",
      "train - 0.97694 | valid - 0.86567\n",
      "Average accurecy on crossval is 0.89092\n",
      "Std if 0.01710\n",
      "n_estiatrix(y_test, y_pred)mators = 40, max_depth = 20\n",
      "train - 0.99340 | valid - 0.89630\n",
      "train - 0.99918 | valid - 0.94815\n",
      "train - 0.99670 | valid - 0.89630\n",
      "train - 0.99753 | valid - 0.93333\n",
      "train - 0.99258 | valid - 0.91111\n",
      "train - 0.99670 | valid - 0.88889\n",
      "train - 0.99670 | valid - 0.91852\n",
      "train - 0.99753 | valid - 0.88889\n",
      "train - 0.99671 | valid - 0.92537\n",
      "train - 0.99588 | valid - 0.88060\n",
      "Average accurecy on crossval is 0.90875\n",
      "Std if 0.02104\n",
      "n_estiatrix(y_test, y_pred)mators = 50, max_depth = 5\n",
      "train - 0.62984 | valid - 0.58519\n",
      "train - 0.57791 | valid - 0.55556\n",
      "train - 0.60181 | valid - 0.57778\n",
      "train - 0.59522 | valid - 0.59259\n",
      "train - 0.61748 | valid - 0.57778\n",
      "train - 0.59687 | valid - 0.57778\n",
      "train - 0.61500 | valid - 0.60741\n",
      "train - 0.59522 | valid - 0.57037\n",
      "train - 0.59967 | valid - 0.57463\n",
      "train - 0.60297 | valid - 0.54478\n",
      "Average accurecy on crossval is 0.57638\n",
      "Std if 0.01668\n",
      "n_estiatrix(y_test, y_pred)mators = 50, max_depth = 10\n",
      "train - 0.85408 | valid - 0.75556\n",
      "train - 0.85903 | valid - 0.82963\n",
      "train - 0.89777 | valid - 0.80741\n",
      "train - 0.90107 | valid - 0.82222\n",
      "train - 0.88376 | valid - 0.85185\n",
      "train - 0.87799 | valid - 0.75556\n",
      "train - 0.87222 | valid - 0.82963\n",
      "train - 0.86480 | valid - 0.74074\n",
      "train - 0.89456 | valid - 0.82090\n",
      "train - 0.87644 | valid - 0.73881\n",
      "Average accurecy on crossval is 0.79523\n",
      "Std if 0.04051\n",
      "n_estiatrix(y_test, y_pred)mators = 50, max_depth = 15\n",
      "train - 0.97527 | valid - 0.88148\n",
      "train - 0.97774 | valid - 0.93333\n",
      "train - 0.97939 | valid - 0.87407\n",
      "train - 0.97609 | valid - 0.89630\n",
      "train - 0.97939 | valid - 0.91111\n",
      "train - 0.97857 | valid - 0.88148\n",
      "train - 0.98351 | valid - 0.91852\n",
      "train - 0.97939 | valid - 0.85926\n",
      "train - 0.98188 | valid - 0.88060\n",
      "train - 0.97941 | valid - 0.86567\n",
      "Average accurecy on crossval is 0.89018\n",
      "Std if 0.02280\n",
      "n_estiatrix(y_test, y_pred)mators = 50, max_depth = 20\n",
      "train - 0.99505 | valid - 0.88889\n",
      "train - 0.99835 | valid - 0.94815\n",
      "train - 0.99670 | valid - 0.88148\n",
      "train - 0.99753 | valid - 0.93333\n",
      "train - 0.99505 | valid - 0.91852\n",
      "train - 0.99670 | valid - 0.88889\n",
      "train - 0.99753 | valid - 0.91852\n",
      "train - 0.99753 | valid - 0.91111\n",
      "train - 0.99753 | valid - 0.92537\n",
      "train - 0.99588 | valid - 0.87313\n",
      "Average accurecy on crossval is 0.90874\n",
      "Std if 0.02330\n"
     ]
    }
   ],
   "source": [
    "for n_estimators in (20, 30, 40, 50):\n",
    "    for max_depth in (5, 10, 15, 20):\n",
    "        print(f'n_estiatrix(y_test, y_pred)mators = {n_estimators}, max_depth = {max_depth}')\n",
    "        rf = RandomForestClassifier(n_estimators=n_estimators, max_depth=max_depth, random_state=21)\n",
    "        crossval(10, X_train, y_train, rf)"
   ]
  },
  {
   "cell_type": "markdown",
   "metadata": {},
   "source": [
    "## 6. Predictions"
   ]
  },
  {
   "cell_type": "markdown",
   "metadata": {},
   "source": [
    "1. Choose the best model and use it to make predictions for the test dataset.\n",
    "2. Calculate the final accuracy.\n",
    "3. Analyze: for which weekday your model makes the most errors (in % of the total number of samples of that class in your test dataset).\n",
    "4. Save the model."
   ]
  },
  {
   "cell_type": "code",
   "execution_count": 26,
   "metadata": {},
   "outputs": [],
   "source": [
    "best_model = RandomForestClassifier(n_estimators=40, max_depth=20, random_state=21)"
   ]
  },
  {
   "cell_type": "code",
   "execution_count": 27,
   "metadata": {},
   "outputs": [
    {
     "data": {
      "text/plain": [
       "0.9289940828402367"
      ]
     },
     "execution_count": 27,
     "metadata": {},
     "output_type": "execute_result"
    }
   ],
   "source": [
    "best_model.fit(X_train, y_train)\n",
    "y_pred = best_model.predict(X_test)\n",
    "best_model.score(X_test, y_test)"
   ]
  },
  {
   "cell_type": "code",
   "execution_count": 28,
   "metadata": {},
   "outputs": [],
   "source": [
    "cm = confusion_matrix(y_test, y_pred)"
   ]
  },
  {
   "cell_type": "code",
   "execution_count": 29,
   "metadata": {},
   "outputs": [
    {
     "name": "stdout",
     "output_type": "stream",
     "text": [
      "Class 0: count errors = 7\n",
      "Class 1: count errors = 6\n",
      "Class 2: count errors = 2\n",
      "Class 3: count errors = 2\n",
      "Class 4: count errors = 2\n",
      "Class 5: count errors = 4\n",
      "Class 6: count errors = 1\n"
     ]
    }
   ],
   "source": [
    "errors_class = cm.sum(axis=1) - np.diag(cm)\n",
    "for i, errors in enumerate(errors_class):\n",
    "    print(f'Class {i}: count errors = {errors}')"
   ]
  },
  {
   "cell_type": "code",
   "execution_count": 30,
   "metadata": {},
   "outputs": [
    {
     "data": {
      "text/plain": [
       "array([[20,  1,  0,  2,  0,  0,  4],\n",
       "       [ 1, 49,  0,  3,  0,  2,  0],\n",
       "       [ 0,  0, 28,  2,  0,  0,  0],\n",
       "       [ 0,  0,  1, 78,  0,  0,  1],\n",
       "       [ 0,  0,  0,  0, 19,  2,  0],\n",
       "       [ 0,  0,  0,  2,  0, 50,  2],\n",
       "       [ 0,  0,  0,  0,  0,  1, 70]])"
      ]
     },
     "execution_count": 30,
     "metadata": {},
     "output_type": "execute_result"
    }
   ],
   "source": [
    "cm"
   ]
  },
  {
   "cell_type": "code",
   "execution_count": 31,
   "metadata": {},
   "outputs": [
    {
     "data": {
      "text/plain": [
       "['../data/model_ex_00.pkl']"
      ]
     },
     "execution_count": 31,
     "metadata": {},
     "output_type": "execute_result"
    }
   ],
   "source": [
    "joblib.dump(best_model, '../data/model_ex_00.pkl')"
   ]
  }
 ],
 "metadata": {
  "kernelspec": {
   "display_name": "base",
   "language": "python",
   "name": "python3"
  },
  "language_info": {
   "codemirror_mode": {
    "name": "ipython",
    "version": 3
   },
   "file_extension": ".py",
   "mimetype": "text/x-python",
   "name": "python",
   "nbconvert_exporter": "python",
   "pygments_lexer": "ipython3",
   "version": "3.12.2"
  }
 },
 "nbformat": 4,
 "nbformat_minor": 4
}
