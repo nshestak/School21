{
 "cells": [
  {
   "cell_type": "markdown",
   "metadata": {
    "vscode": {
     "languageId": "plaintext"
    }
   },
   "source": [
    "## 1. Введение"
   ]
  },
  {
   "cell_type": "markdown",
   "metadata": {},
   "source": [
    "### 1.1 5 примеров применения методов машинного обучения в повседневной жизни"
   ]
  },
  {
   "cell_type": "markdown",
   "metadata": {},
   "source": [
    "1. Рекомендательные системы (Кинопоиск, СбезЗвук т.д.)\n",
    "   - Анализирует предпочтения и поведение пользователя, чтобы предложить контент, который может заинтересовать.\n",
    "2. Обнаружения мошенничесива в финансовых транзакциях\n",
    "   - Алгоритмы могут анализировать аномалии в транзакциях и выявлять потенциальные мошенничество в реальном времени.\n",
    "3. Персонализированная медицина\n",
    "   - Машинное обучение помогает анализировать генетические данные и медицинскую историю пациента, чтобы предсказать, какие методы лечения будут наиболее эффективными.\n",
    "4. Чат-боты и виртуальные помощники\n",
    "   - Машинное обучение позволяет чат-ботам эффективно понимать и обрабатывать запросы пользователей.\n",
    "5. Оптимизация логистики\n",
    "   - Алгоритмы машинного обучения анализируют данные о спросе и поставках, что позволяет компаниям оптимизировать маршруты и сократить затраты на транспортировку."
   ]
  },
  {
   "cell_type": "markdown",
   "metadata": {},
   "source": [
    "### 1.2 Используйте классификацию задач во введении, чтобы решить, к какому классу можно отнести задачи из приведённой выше таблицы и приведённые вами 5 примеров."
   ]
  },
  {
   "cell_type": "markdown",
   "metadata": {},
   "source": [
    "- Персонализированная медицина\n",
    "   - Класс задачи: Регрессия/Классификация\n",
    "   - Описание: Анализ данных для предсказания наилучших методов лечения – может быть как регрессионной, так и классификационной задачей в зависимости от того, как формулируется вопрос (например, вероятности успеха лечения или выбор категории подходящих методов).\n",
    "- Чат-боты и виртуальные помощники\n",
    "   - Класс задачи: Классификация\n",
    "   - Описание: Классификация запросов пользователей и понимание их намерений для предоставления адекватных ответов.\n",
    "- Оптимизация логистики\n",
    "   - Класс задачи: Регрессия/Классификация\n",
    "   - Описание: Реконструкция оптимальных маршрутов может быть связана с предсказанием времени доставки (регрессия) или выбором наиболее подходящих маршрутов (классификация)."
   ]
  },
  {
   "cell_type": "markdown",
   "metadata": {},
   "source": [
    "### 1.3 В чём разница между мультиклассовым и мультиметочным?"
   ]
  },
  {
   "cell_type": "markdown",
   "metadata": {},
   "source": [
    "- **Мультиклассовая классификация**\n",
    "    - Модель должна предсказать одну категорию (класс) из более чем двух вохможных классов\n",
    "- **Мультиметочная классификация**\n",
    "    - Модель должна предсказать несколько категорий для каждого объекта\n",
    "\n",
    "- **Различия**\n",
    "  - Мультиклассовая классификация выводит **один ответ**, мультиметочная классификация выводит **несколько ответов**"
   ]
  },
  {
   "cell_type": "markdown",
   "metadata": {},
   "source": [
    "### 1.4 Является ли пример с ценами на жильё из теории классификацией регрессионной задачи? Можно ли свести регрессионную задачу к классификации?"
   ]
  },
  {
   "cell_type": "markdown",
   "metadata": {},
   "source": [
    "- Да, регрессионную задачу можно свести классификации, если значения целевой переменной можно разбить на категории. Если нужно точно предсказать непрерывное значение, регрессия более подходящим подходом."
   ]
  },
  {
   "cell_type": "markdown",
   "metadata": {},
   "source": [
    "## 2. Вводный анализ данных"
   ]
  },
  {
   "cell_type": "markdown",
   "metadata": {},
   "source": [
    "### 2.1 Импортируем библиотеки"
   ]
  },
  {
   "cell_type": "markdown",
   "metadata": {},
   "source": [
    "- Создали виртуальное окружение. Установка библиотек была произведена через **conda**.\n",
    "- ```conda env create -f environment.yml``` - команда по созданию виртуального окружения с установкой библиотек."
   ]
  },
  {
   "cell_type": "code",
   "execution_count": 67,
   "metadata": {},
   "outputs": [],
   "source": [
    "import os\n",
    "import zipfile\n",
    "\n",
    "import pandas as pd\n",
    "import numpy as np\n",
    "import matplotlib.pyplot as plt\n",
    "import seaborn as sns\n",
    "\n",
    "from sklearn.preprocessing import PolynomialFeatures\n",
    "from sklearn.model_selection import train_test_split\n",
    "from sklearn.linear_model import LinearRegression\n",
    "from sklearn.tree import DecisionTreeRegressor\n",
    "\n",
    "from sklearn.metrics import mean_absolute_error\n",
    "from sklearn.metrics import root_mean_squared_error"
   ]
  },
  {
   "cell_type": "code",
   "execution_count": 68,
   "metadata": {},
   "outputs": [],
   "source": [
    "sns.set_theme(style=\"darkgrid\")"
   ]
  },
  {
   "cell_type": "markdown",
   "metadata": {},
   "source": [
    "### 2.2 Загразка данных из Kaggle"
   ]
  },
  {
   "cell_type": "code",
   "execution_count": 69,
   "metadata": {},
   "outputs": [],
   "source": [
    "# Функция для извлечения данных из zip\n",
    "# Данные сохраняются в папку datasets\n",
    "\n",
    "def extract_folder(zip_file):\n",
    "    download_folder = 'datasets'\n",
    "    if not os.path.exists(download_folder):\n",
    "        os.makedirs(download_folder)\n",
    "    with zipfile.ZipFile(zip_file, 'r') as zip_ref:\n",
    "        zip_ref.extractall(download_folder)"
   ]
  },
  {
   "cell_type": "code",
   "execution_count": 70,
   "metadata": {},
   "outputs": [],
   "source": [
    "extract_folder('datasets/train.json.zip')"
   ]
  },
  {
   "cell_type": "markdown",
   "metadata": {},
   "source": [
    "### 2.3 Размер данных"
   ]
  },
  {
   "cell_type": "code",
   "execution_count": 71,
   "metadata": {},
   "outputs": [
    {
     "name": "stdout",
     "output_type": "stream",
     "text": [
      "67.29 MB\n"
     ]
    }
   ],
   "source": [
    "size = os.path.getsize('datasets/train.json') / 1024 / 1024\n",
    "print(f'{size:.2f} MB')"
   ]
  },
  {
   "cell_type": "code",
   "execution_count": 72,
   "metadata": {},
   "outputs": [],
   "source": [
    "df = pd.read_json('datasets/train.json')"
   ]
  },
  {
   "cell_type": "markdown",
   "metadata": {},
   "source": [
    "### 2.4 Выведите список столбцов. Какой столбец является целевым?"
   ]
  },
  {
   "cell_type": "code",
   "execution_count": 73,
   "metadata": {},
   "outputs": [
    {
     "data": {
      "text/plain": [
       "['bathrooms',\n",
       " 'bedrooms',\n",
       " 'building_id',\n",
       " 'created',\n",
       " 'description',\n",
       " 'display_address',\n",
       " 'features',\n",
       " 'latitude',\n",
       " 'listing_id',\n",
       " 'longitude',\n",
       " 'manager_id',\n",
       " 'photos',\n",
       " 'price',\n",
       " 'street_address',\n",
       " 'interest_level']"
      ]
     },
     "execution_count": 73,
     "metadata": {},
     "output_type": "execute_result"
    }
   ],
   "source": [
    "list(df.columns)"
   ]
  },
  {
   "cell_type": "markdown",
   "metadata": {},
   "source": [
    "Целевым столбцом является **'price'**, т.к. задача состоит в том, чтобы предсказать стоимость аренды квартиры."
   ]
  },
  {
   "cell_type": "markdown",
   "metadata": {},
   "source": [
    "### 2.5 Выполните быстрый анализ данных: используйте методы **info(), describe(), corr()**. Объясните результаты. Есть ли пустые столбцы?"
   ]
  },
  {
   "cell_type": "code",
   "execution_count": 74,
   "metadata": {},
   "outputs": [
    {
     "data": {
      "text/html": [
       "<div>\n",
       "<style scoped>\n",
       "    .dataframe tbody tr th:only-of-type {\n",
       "        vertical-align: middle;\n",
       "    }\n",
       "\n",
       "    .dataframe tbody tr th {\n",
       "        vertical-align: top;\n",
       "    }\n",
       "\n",
       "    .dataframe thead th {\n",
       "        text-align: right;\n",
       "    }\n",
       "</style>\n",
       "<table border=\"1\" class=\"dataframe\">\n",
       "  <thead>\n",
       "    <tr style=\"text-align: right;\">\n",
       "      <th></th>\n",
       "      <th>bathrooms</th>\n",
       "      <th>bedrooms</th>\n",
       "      <th>building_id</th>\n",
       "      <th>created</th>\n",
       "      <th>description</th>\n",
       "      <th>display_address</th>\n",
       "      <th>features</th>\n",
       "      <th>latitude</th>\n",
       "      <th>listing_id</th>\n",
       "      <th>longitude</th>\n",
       "      <th>manager_id</th>\n",
       "      <th>photos</th>\n",
       "      <th>price</th>\n",
       "      <th>street_address</th>\n",
       "      <th>interest_level</th>\n",
       "    </tr>\n",
       "  </thead>\n",
       "  <tbody>\n",
       "    <tr>\n",
       "      <th>4</th>\n",
       "      <td>1.0</td>\n",
       "      <td>1</td>\n",
       "      <td>8579a0b0d54db803821a35a4a615e97a</td>\n",
       "      <td>2016-06-16 05:55:27</td>\n",
       "      <td>Spacious 1 Bedroom 1 Bathroom in Williamsburg!...</td>\n",
       "      <td>145 Borinquen Place</td>\n",
       "      <td>[Dining Room, Pre-War, Laundry in Building, Di...</td>\n",
       "      <td>40.7108</td>\n",
       "      <td>7170325</td>\n",
       "      <td>-73.9539</td>\n",
       "      <td>a10db4590843d78c784171a107bdacb4</td>\n",
       "      <td>[https://photos.renthop.com/2/7170325_3bb5ac84...</td>\n",
       "      <td>2400</td>\n",
       "      <td>145 Borinquen Place</td>\n",
       "      <td>medium</td>\n",
       "    </tr>\n",
       "    <tr>\n",
       "      <th>6</th>\n",
       "      <td>1.0</td>\n",
       "      <td>2</td>\n",
       "      <td>b8e75fc949a6cd8225b455648a951712</td>\n",
       "      <td>2016-06-01 05:44:33</td>\n",
       "      <td>BRAND NEW GUT RENOVATED TRUE 2 BEDROOMFind you...</td>\n",
       "      <td>East 44th</td>\n",
       "      <td>[Doorman, Elevator, Laundry in Building, Dishw...</td>\n",
       "      <td>40.7513</td>\n",
       "      <td>7092344</td>\n",
       "      <td>-73.9722</td>\n",
       "      <td>955db33477af4f40004820b4aed804a0</td>\n",
       "      <td>[https://photos.renthop.com/2/7092344_7663c19a...</td>\n",
       "      <td>3800</td>\n",
       "      <td>230 East 44th</td>\n",
       "      <td>low</td>\n",
       "    </tr>\n",
       "    <tr>\n",
       "      <th>9</th>\n",
       "      <td>1.0</td>\n",
       "      <td>2</td>\n",
       "      <td>cd759a988b8f23924b5a2058d5ab2b49</td>\n",
       "      <td>2016-06-14 15:19:59</td>\n",
       "      <td>**FLEX 2 BEDROOM WITH FULL PRESSURIZED WALL**L...</td>\n",
       "      <td>East 56th Street</td>\n",
       "      <td>[Doorman, Elevator, Laundry in Building, Laund...</td>\n",
       "      <td>40.7575</td>\n",
       "      <td>7158677</td>\n",
       "      <td>-73.9625</td>\n",
       "      <td>c8b10a317b766204f08e613cef4ce7a0</td>\n",
       "      <td>[https://photos.renthop.com/2/7158677_c897a134...</td>\n",
       "      <td>3495</td>\n",
       "      <td>405 East 56th Street</td>\n",
       "      <td>medium</td>\n",
       "    </tr>\n",
       "    <tr>\n",
       "      <th>10</th>\n",
       "      <td>1.5</td>\n",
       "      <td>3</td>\n",
       "      <td>53a5b119ba8f7b61d4e010512e0dfc85</td>\n",
       "      <td>2016-06-24 07:54:24</td>\n",
       "      <td>A Brand New 3 Bedroom 1.5 bath ApartmentEnjoy ...</td>\n",
       "      <td>Metropolitan Avenue</td>\n",
       "      <td>[]</td>\n",
       "      <td>40.7145</td>\n",
       "      <td>7211212</td>\n",
       "      <td>-73.9425</td>\n",
       "      <td>5ba989232d0489da1b5f2c45f6688adc</td>\n",
       "      <td>[https://photos.renthop.com/2/7211212_1ed4542e...</td>\n",
       "      <td>3000</td>\n",
       "      <td>792 Metropolitan Avenue</td>\n",
       "      <td>medium</td>\n",
       "    </tr>\n",
       "    <tr>\n",
       "      <th>15</th>\n",
       "      <td>1.0</td>\n",
       "      <td>0</td>\n",
       "      <td>bfb9405149bfff42a92980b594c28234</td>\n",
       "      <td>2016-06-28 03:50:23</td>\n",
       "      <td>Over-sized Studio w abundant closets. Availabl...</td>\n",
       "      <td>East 34th Street</td>\n",
       "      <td>[Doorman, Elevator, Fitness Center, Laundry in...</td>\n",
       "      <td>40.7439</td>\n",
       "      <td>7225292</td>\n",
       "      <td>-73.9743</td>\n",
       "      <td>2c3b41f588fbb5234d8a1e885a436cfa</td>\n",
       "      <td>[https://photos.renthop.com/2/7225292_901f1984...</td>\n",
       "      <td>2795</td>\n",
       "      <td>340 East 34th Street</td>\n",
       "      <td>low</td>\n",
       "    </tr>\n",
       "  </tbody>\n",
       "</table>\n",
       "</div>"
      ],
      "text/plain": [
       "    bathrooms  bedrooms                       building_id  \\\n",
       "4         1.0         1  8579a0b0d54db803821a35a4a615e97a   \n",
       "6         1.0         2  b8e75fc949a6cd8225b455648a951712   \n",
       "9         1.0         2  cd759a988b8f23924b5a2058d5ab2b49   \n",
       "10        1.5         3  53a5b119ba8f7b61d4e010512e0dfc85   \n",
       "15        1.0         0  bfb9405149bfff42a92980b594c28234   \n",
       "\n",
       "                created                                        description  \\\n",
       "4   2016-06-16 05:55:27  Spacious 1 Bedroom 1 Bathroom in Williamsburg!...   \n",
       "6   2016-06-01 05:44:33  BRAND NEW GUT RENOVATED TRUE 2 BEDROOMFind you...   \n",
       "9   2016-06-14 15:19:59  **FLEX 2 BEDROOM WITH FULL PRESSURIZED WALL**L...   \n",
       "10  2016-06-24 07:54:24  A Brand New 3 Bedroom 1.5 bath ApartmentEnjoy ...   \n",
       "15  2016-06-28 03:50:23  Over-sized Studio w abundant closets. Availabl...   \n",
       "\n",
       "        display_address                                           features  \\\n",
       "4   145 Borinquen Place  [Dining Room, Pre-War, Laundry in Building, Di...   \n",
       "6             East 44th  [Doorman, Elevator, Laundry in Building, Dishw...   \n",
       "9      East 56th Street  [Doorman, Elevator, Laundry in Building, Laund...   \n",
       "10  Metropolitan Avenue                                                 []   \n",
       "15     East 34th Street  [Doorman, Elevator, Fitness Center, Laundry in...   \n",
       "\n",
       "    latitude  listing_id  longitude                        manager_id  \\\n",
       "4    40.7108     7170325   -73.9539  a10db4590843d78c784171a107bdacb4   \n",
       "6    40.7513     7092344   -73.9722  955db33477af4f40004820b4aed804a0   \n",
       "9    40.7575     7158677   -73.9625  c8b10a317b766204f08e613cef4ce7a0   \n",
       "10   40.7145     7211212   -73.9425  5ba989232d0489da1b5f2c45f6688adc   \n",
       "15   40.7439     7225292   -73.9743  2c3b41f588fbb5234d8a1e885a436cfa   \n",
       "\n",
       "                                               photos  price  \\\n",
       "4   [https://photos.renthop.com/2/7170325_3bb5ac84...   2400   \n",
       "6   [https://photos.renthop.com/2/7092344_7663c19a...   3800   \n",
       "9   [https://photos.renthop.com/2/7158677_c897a134...   3495   \n",
       "10  [https://photos.renthop.com/2/7211212_1ed4542e...   3000   \n",
       "15  [https://photos.renthop.com/2/7225292_901f1984...   2795   \n",
       "\n",
       "             street_address interest_level  \n",
       "4       145 Borinquen Place         medium  \n",
       "6             230 East 44th            low  \n",
       "9      405 East 56th Street         medium  \n",
       "10  792 Metropolitan Avenue         medium  \n",
       "15     340 East 34th Street            low  "
      ]
     },
     "execution_count": 74,
     "metadata": {},
     "output_type": "execute_result"
    }
   ],
   "source": [
    "df.head() # Вывод первых 5 строк DataFrame"
   ]
  },
  {
   "cell_type": "code",
   "execution_count": 75,
   "metadata": {},
   "outputs": [
    {
     "name": "stdout",
     "output_type": "stream",
     "text": [
      "<class 'pandas.core.frame.DataFrame'>\n",
      "Index: 49352 entries, 4 to 124009\n",
      "Data columns (total 15 columns):\n",
      " #   Column           Non-Null Count  Dtype  \n",
      "---  ------           --------------  -----  \n",
      " 0   bathrooms        49352 non-null  float64\n",
      " 1   bedrooms         49352 non-null  int64  \n",
      " 2   building_id      49352 non-null  object \n",
      " 3   created          49352 non-null  object \n",
      " 4   description      49352 non-null  object \n",
      " 5   display_address  49352 non-null  object \n",
      " 6   features         49352 non-null  object \n",
      " 7   latitude         49352 non-null  float64\n",
      " 8   listing_id       49352 non-null  int64  \n",
      " 9   longitude        49352 non-null  float64\n",
      " 10  manager_id       49352 non-null  object \n",
      " 11  photos           49352 non-null  object \n",
      " 12  price            49352 non-null  int64  \n",
      " 13  street_address   49352 non-null  object \n",
      " 14  interest_level   49352 non-null  object \n",
      "dtypes: float64(3), int64(3), object(9)\n",
      "memory usage: 6.0+ MB\n"
     ]
    }
   ],
   "source": [
    "df.info() # Краткое описание DataFrame"
   ]
  },
  {
   "cell_type": "markdown",
   "metadata": {},
   "source": [
    "- Кол-во строк - 49352 столбцов - 14;\n",
    "- Пустных значений нет;\n",
    "- Числовых значений 6, из них 3 int и 3 float;\n",
    "- Категориальный значений 9;"
   ]
  },
  {
   "cell_type": "code",
   "execution_count": 76,
   "metadata": {},
   "outputs": [
    {
     "data": {
      "text/html": [
       "<div>\n",
       "<style scoped>\n",
       "    .dataframe tbody tr th:only-of-type {\n",
       "        vertical-align: middle;\n",
       "    }\n",
       "\n",
       "    .dataframe tbody tr th {\n",
       "        vertical-align: top;\n",
       "    }\n",
       "\n",
       "    .dataframe thead th {\n",
       "        text-align: right;\n",
       "    }\n",
       "</style>\n",
       "<table border=\"1\" class=\"dataframe\">\n",
       "  <thead>\n",
       "    <tr style=\"text-align: right;\">\n",
       "      <th></th>\n",
       "      <th>bathrooms</th>\n",
       "      <th>bedrooms</th>\n",
       "      <th>latitude</th>\n",
       "      <th>listing_id</th>\n",
       "      <th>longitude</th>\n",
       "      <th>price</th>\n",
       "    </tr>\n",
       "  </thead>\n",
       "  <tbody>\n",
       "    <tr>\n",
       "      <th>count</th>\n",
       "      <td>49352.00000</td>\n",
       "      <td>49352.000000</td>\n",
       "      <td>49352.000000</td>\n",
       "      <td>4.935200e+04</td>\n",
       "      <td>49352.000000</td>\n",
       "      <td>4.935200e+04</td>\n",
       "    </tr>\n",
       "    <tr>\n",
       "      <th>mean</th>\n",
       "      <td>1.21218</td>\n",
       "      <td>1.541640</td>\n",
       "      <td>40.741545</td>\n",
       "      <td>7.024055e+06</td>\n",
       "      <td>-73.955716</td>\n",
       "      <td>3.830174e+03</td>\n",
       "    </tr>\n",
       "    <tr>\n",
       "      <th>std</th>\n",
       "      <td>0.50142</td>\n",
       "      <td>1.115018</td>\n",
       "      <td>0.638535</td>\n",
       "      <td>1.262746e+05</td>\n",
       "      <td>1.177912</td>\n",
       "      <td>2.206687e+04</td>\n",
       "    </tr>\n",
       "    <tr>\n",
       "      <th>min</th>\n",
       "      <td>0.00000</td>\n",
       "      <td>0.000000</td>\n",
       "      <td>0.000000</td>\n",
       "      <td>6.811957e+06</td>\n",
       "      <td>-118.271000</td>\n",
       "      <td>4.300000e+01</td>\n",
       "    </tr>\n",
       "    <tr>\n",
       "      <th>25%</th>\n",
       "      <td>1.00000</td>\n",
       "      <td>1.000000</td>\n",
       "      <td>40.728300</td>\n",
       "      <td>6.915888e+06</td>\n",
       "      <td>-73.991700</td>\n",
       "      <td>2.500000e+03</td>\n",
       "    </tr>\n",
       "    <tr>\n",
       "      <th>50%</th>\n",
       "      <td>1.00000</td>\n",
       "      <td>1.000000</td>\n",
       "      <td>40.751800</td>\n",
       "      <td>7.021070e+06</td>\n",
       "      <td>-73.977900</td>\n",
       "      <td>3.150000e+03</td>\n",
       "    </tr>\n",
       "    <tr>\n",
       "      <th>75%</th>\n",
       "      <td>1.00000</td>\n",
       "      <td>2.000000</td>\n",
       "      <td>40.774300</td>\n",
       "      <td>7.128733e+06</td>\n",
       "      <td>-73.954800</td>\n",
       "      <td>4.100000e+03</td>\n",
       "    </tr>\n",
       "    <tr>\n",
       "      <th>max</th>\n",
       "      <td>10.00000</td>\n",
       "      <td>8.000000</td>\n",
       "      <td>44.883500</td>\n",
       "      <td>7.753784e+06</td>\n",
       "      <td>0.000000</td>\n",
       "      <td>4.490000e+06</td>\n",
       "    </tr>\n",
       "  </tbody>\n",
       "</table>\n",
       "</div>"
      ],
      "text/plain": [
       "         bathrooms      bedrooms      latitude    listing_id     longitude  \\\n",
       "count  49352.00000  49352.000000  49352.000000  4.935200e+04  49352.000000   \n",
       "mean       1.21218      1.541640     40.741545  7.024055e+06    -73.955716   \n",
       "std        0.50142      1.115018      0.638535  1.262746e+05      1.177912   \n",
       "min        0.00000      0.000000      0.000000  6.811957e+06   -118.271000   \n",
       "25%        1.00000      1.000000     40.728300  6.915888e+06    -73.991700   \n",
       "50%        1.00000      1.000000     40.751800  7.021070e+06    -73.977900   \n",
       "75%        1.00000      2.000000     40.774300  7.128733e+06    -73.954800   \n",
       "max       10.00000      8.000000     44.883500  7.753784e+06      0.000000   \n",
       "\n",
       "              price  \n",
       "count  4.935200e+04  \n",
       "mean   3.830174e+03  \n",
       "std    2.206687e+04  \n",
       "min    4.300000e+01  \n",
       "25%    2.500000e+03  \n",
       "50%    3.150000e+03  \n",
       "75%    4.100000e+03  \n",
       "max    4.490000e+06  "
      ]
     },
     "execution_count": 76,
     "metadata": {},
     "output_type": "execute_result"
    }
   ],
   "source": [
    "df.describe(include=[np.number]) # Генерирует описательную статистику для числовых значений"
   ]
  },
  {
   "cell_type": "markdown",
   "metadata": {},
   "source": [
    "-  count - кол-во строк;\n",
    "-  mean - средние значение;\n",
    "-  std - стандартное отклонение - мера разброса значений от среднего;\n",
    "-  min - наименьшее значение в каждом числовом столбце;\n",
    "-  25% - процентиль (первый квартиль), значение, ниже которого попадает 25% данных;\n",
    "-  50% - **медиана**, значение, ниже и выше которого попадает по 50% данных;\n",
    "-  75% - процентиль (третий квартиль), значение, ниже которого попадает 75% данных;\n",
    "-  max - наибольшоее значение в каждом числовом столбце. "
   ]
  },
  {
   "cell_type": "code",
   "execution_count": 77,
   "metadata": {},
   "outputs": [
    {
     "data": {
      "text/html": [
       "<div>\n",
       "<style scoped>\n",
       "    .dataframe tbody tr th:only-of-type {\n",
       "        vertical-align: middle;\n",
       "    }\n",
       "\n",
       "    .dataframe tbody tr th {\n",
       "        vertical-align: top;\n",
       "    }\n",
       "\n",
       "    .dataframe thead th {\n",
       "        text-align: right;\n",
       "    }\n",
       "</style>\n",
       "<table border=\"1\" class=\"dataframe\">\n",
       "  <thead>\n",
       "    <tr style=\"text-align: right;\">\n",
       "      <th></th>\n",
       "      <th>building_id</th>\n",
       "      <th>created</th>\n",
       "      <th>description</th>\n",
       "      <th>display_address</th>\n",
       "      <th>features</th>\n",
       "      <th>manager_id</th>\n",
       "      <th>photos</th>\n",
       "      <th>street_address</th>\n",
       "      <th>interest_level</th>\n",
       "    </tr>\n",
       "  </thead>\n",
       "  <tbody>\n",
       "    <tr>\n",
       "      <th>count</th>\n",
       "      <td>49352</td>\n",
       "      <td>49352</td>\n",
       "      <td>49352</td>\n",
       "      <td>49352</td>\n",
       "      <td>49352</td>\n",
       "      <td>49352</td>\n",
       "      <td>49352</td>\n",
       "      <td>49352</td>\n",
       "      <td>49352</td>\n",
       "    </tr>\n",
       "    <tr>\n",
       "      <th>unique</th>\n",
       "      <td>7585</td>\n",
       "      <td>48675</td>\n",
       "      <td>38244</td>\n",
       "      <td>8826</td>\n",
       "      <td>10254</td>\n",
       "      <td>3481</td>\n",
       "      <td>45677</td>\n",
       "      <td>15358</td>\n",
       "      <td>3</td>\n",
       "    </tr>\n",
       "    <tr>\n",
       "      <th>top</th>\n",
       "      <td>0</td>\n",
       "      <td>2016-04-15 02:24:25</td>\n",
       "      <td></td>\n",
       "      <td>Broadway</td>\n",
       "      <td>[]</td>\n",
       "      <td>e6472c7237327dd3903b3d6f6a94515a</td>\n",
       "      <td>[]</td>\n",
       "      <td>3333 Broadway</td>\n",
       "      <td>low</td>\n",
       "    </tr>\n",
       "    <tr>\n",
       "      <th>freq</th>\n",
       "      <td>8286</td>\n",
       "      <td>3</td>\n",
       "      <td>1647</td>\n",
       "      <td>438</td>\n",
       "      <td>3218</td>\n",
       "      <td>2533</td>\n",
       "      <td>3615</td>\n",
       "      <td>174</td>\n",
       "      <td>34284</td>\n",
       "    </tr>\n",
       "  </tbody>\n",
       "</table>\n",
       "</div>"
      ],
      "text/plain": [
       "       building_id              created description display_address features  \\\n",
       "count        49352                49352       49352           49352    49352   \n",
       "unique        7585                48675       38244            8826    10254   \n",
       "top              0  2016-04-15 02:24:25                    Broadway       []   \n",
       "freq          8286                    3        1647             438     3218   \n",
       "\n",
       "                              manager_id photos street_address interest_level  \n",
       "count                              49352  49352          49352          49352  \n",
       "unique                              3481  45677          15358              3  \n",
       "top     e6472c7237327dd3903b3d6f6a94515a     []  3333 Broadway            low  \n",
       "freq                                2533   3615            174          34284  "
      ]
     },
     "execution_count": 77,
     "metadata": {},
     "output_type": "execute_result"
    }
   ],
   "source": [
    "df.describe(include=[object]) # Генерирует описательную статистику для строк"
   ]
  },
  {
   "cell_type": "markdown",
   "metadata": {},
   "source": [
    "- count - кол-во строк;\n",
    "- unique - уникальное значение;\n",
    "- top - наиболее распространенное значение;\n",
    "- freq - частота наиболее распространенное значение."
   ]
  },
  {
   "cell_type": "code",
   "execution_count": 78,
   "metadata": {},
   "outputs": [
    {
     "data": {
      "text/html": [
       "<div>\n",
       "<style scoped>\n",
       "    .dataframe tbody tr th:only-of-type {\n",
       "        vertical-align: middle;\n",
       "    }\n",
       "\n",
       "    .dataframe tbody tr th {\n",
       "        vertical-align: top;\n",
       "    }\n",
       "\n",
       "    .dataframe thead th {\n",
       "        text-align: right;\n",
       "    }\n",
       "</style>\n",
       "<table border=\"1\" class=\"dataframe\">\n",
       "  <thead>\n",
       "    <tr style=\"text-align: right;\">\n",
       "      <th></th>\n",
       "      <th>bathrooms</th>\n",
       "      <th>bedrooms</th>\n",
       "      <th>latitude</th>\n",
       "      <th>listing_id</th>\n",
       "      <th>longitude</th>\n",
       "      <th>price</th>\n",
       "    </tr>\n",
       "  </thead>\n",
       "  <tbody>\n",
       "    <tr>\n",
       "      <th>bathrooms</th>\n",
       "      <td>1.00</td>\n",
       "      <td>0.53</td>\n",
       "      <td>-0.01</td>\n",
       "      <td>0.00</td>\n",
       "      <td>0.01</td>\n",
       "      <td>0.07</td>\n",
       "    </tr>\n",
       "    <tr>\n",
       "      <th>bedrooms</th>\n",
       "      <td>0.53</td>\n",
       "      <td>1.00</td>\n",
       "      <td>-0.00</td>\n",
       "      <td>0.01</td>\n",
       "      <td>0.01</td>\n",
       "      <td>0.05</td>\n",
       "    </tr>\n",
       "    <tr>\n",
       "      <th>latitude</th>\n",
       "      <td>-0.01</td>\n",
       "      <td>-0.00</td>\n",
       "      <td>1.00</td>\n",
       "      <td>0.00</td>\n",
       "      <td>-0.97</td>\n",
       "      <td>-0.00</td>\n",
       "    </tr>\n",
       "    <tr>\n",
       "      <th>listing_id</th>\n",
       "      <td>0.00</td>\n",
       "      <td>0.01</td>\n",
       "      <td>0.00</td>\n",
       "      <td>1.00</td>\n",
       "      <td>-0.00</td>\n",
       "      <td>0.01</td>\n",
       "    </tr>\n",
       "    <tr>\n",
       "      <th>longitude</th>\n",
       "      <td>0.01</td>\n",
       "      <td>0.01</td>\n",
       "      <td>-0.97</td>\n",
       "      <td>-0.00</td>\n",
       "      <td>1.00</td>\n",
       "      <td>-0.00</td>\n",
       "    </tr>\n",
       "    <tr>\n",
       "      <th>price</th>\n",
       "      <td>0.07</td>\n",
       "      <td>0.05</td>\n",
       "      <td>-0.00</td>\n",
       "      <td>0.01</td>\n",
       "      <td>-0.00</td>\n",
       "      <td>1.00</td>\n",
       "    </tr>\n",
       "  </tbody>\n",
       "</table>\n",
       "</div>"
      ],
      "text/plain": [
       "            bathrooms  bedrooms  latitude  listing_id  longitude  price\n",
       "bathrooms        1.00      0.53     -0.01        0.00       0.01   0.07\n",
       "bedrooms         0.53      1.00     -0.00        0.01       0.01   0.05\n",
       "latitude        -0.01     -0.00      1.00        0.00      -0.97  -0.00\n",
       "listing_id       0.00      0.01      0.00        1.00      -0.00   0.01\n",
       "longitude        0.01      0.01     -0.97       -0.00       1.00  -0.00\n",
       "price            0.07      0.05     -0.00        0.01      -0.00   1.00"
      ]
     },
     "execution_count": 78,
     "metadata": {},
     "output_type": "execute_result"
    }
   ],
   "source": [
    "correlation_matrix = df.corr(numeric_only=True) # Вычисление попарной корреляции столбцов. Параметр `numeric_only=True` - включать только данные с типом int, float, bool.\n",
    "correlation_matrix.round(2) # Округление значений до двух знаков после запятой"
   ]
  },
  {
   "cell_type": "markdown",
   "metadata": {},
   "source": [
    "- Умеренная положительная корреляция bedrooms и bathrooms - 0.53. Это может означать, что, как правило, большее количество ванных комнат связано с большим количеством спален.\n",
    "\n",
    "- Сильно отрицательная корреляция latitude и longitude - -0.97, связь между широтой и долготой. Это ожидаемо, так как на Земле, когда одна из этих координат увеличивается, другая, как правило, уменьшается — это отражает географическую реальность.\n",
    "\n",
    "- Корреляции цены с другими переменными (bathrooms, bedrooms, latitude, listing_id, longitude) достаточно низки, что может указывать на то, что эти факторы не являются основными движущими силами стоимости объекта. Например, корреляция с количеством ванных комнат составляет 0.069, что говорит о очень слабой связи.\n",
    "\n",
    "- latitude и longitude имеют очень сильную связь между собой -0.97, что может быть важно для пространственного анализа, например, для оценки влияния географического положения на цену."
   ]
  },
  {
   "cell_type": "markdown",
   "metadata": {},
   "source": [
    "### 2.6 Мы будем работать только с тремя характеристиками: «ванные комнаты», «спальни», «уровень интереса» и с целевым столбцом «цена». Создайте фрейм данных только с этими столбцами."
   ]
  },
  {
   "cell_type": "code",
   "execution_count": 79,
   "metadata": {},
   "outputs": [
    {
     "data": {
      "text/html": [
       "<div>\n",
       "<style scoped>\n",
       "    .dataframe tbody tr th:only-of-type {\n",
       "        vertical-align: middle;\n",
       "    }\n",
       "\n",
       "    .dataframe tbody tr th {\n",
       "        vertical-align: top;\n",
       "    }\n",
       "\n",
       "    .dataframe thead th {\n",
       "        text-align: right;\n",
       "    }\n",
       "</style>\n",
       "<table border=\"1\" class=\"dataframe\">\n",
       "  <thead>\n",
       "    <tr style=\"text-align: right;\">\n",
       "      <th></th>\n",
       "      <th>bathrooms</th>\n",
       "      <th>bedrooms</th>\n",
       "      <th>interest_level</th>\n",
       "      <th>price</th>\n",
       "    </tr>\n",
       "  </thead>\n",
       "  <tbody>\n",
       "    <tr>\n",
       "      <th>4</th>\n",
       "      <td>1.0</td>\n",
       "      <td>1</td>\n",
       "      <td>medium</td>\n",
       "      <td>2400</td>\n",
       "    </tr>\n",
       "    <tr>\n",
       "      <th>6</th>\n",
       "      <td>1.0</td>\n",
       "      <td>2</td>\n",
       "      <td>low</td>\n",
       "      <td>3800</td>\n",
       "    </tr>\n",
       "    <tr>\n",
       "      <th>9</th>\n",
       "      <td>1.0</td>\n",
       "      <td>2</td>\n",
       "      <td>medium</td>\n",
       "      <td>3495</td>\n",
       "    </tr>\n",
       "    <tr>\n",
       "      <th>10</th>\n",
       "      <td>1.5</td>\n",
       "      <td>3</td>\n",
       "      <td>medium</td>\n",
       "      <td>3000</td>\n",
       "    </tr>\n",
       "    <tr>\n",
       "      <th>15</th>\n",
       "      <td>1.0</td>\n",
       "      <td>0</td>\n",
       "      <td>low</td>\n",
       "      <td>2795</td>\n",
       "    </tr>\n",
       "    <tr>\n",
       "      <th>...</th>\n",
       "      <td>...</td>\n",
       "      <td>...</td>\n",
       "      <td>...</td>\n",
       "      <td>...</td>\n",
       "    </tr>\n",
       "    <tr>\n",
       "      <th>124000</th>\n",
       "      <td>1.0</td>\n",
       "      <td>3</td>\n",
       "      <td>low</td>\n",
       "      <td>2800</td>\n",
       "    </tr>\n",
       "    <tr>\n",
       "      <th>124002</th>\n",
       "      <td>1.0</td>\n",
       "      <td>2</td>\n",
       "      <td>medium</td>\n",
       "      <td>2395</td>\n",
       "    </tr>\n",
       "    <tr>\n",
       "      <th>124004</th>\n",
       "      <td>1.0</td>\n",
       "      <td>1</td>\n",
       "      <td>medium</td>\n",
       "      <td>1850</td>\n",
       "    </tr>\n",
       "    <tr>\n",
       "      <th>124008</th>\n",
       "      <td>1.0</td>\n",
       "      <td>2</td>\n",
       "      <td>medium</td>\n",
       "      <td>4195</td>\n",
       "    </tr>\n",
       "    <tr>\n",
       "      <th>124009</th>\n",
       "      <td>1.0</td>\n",
       "      <td>3</td>\n",
       "      <td>high</td>\n",
       "      <td>4280</td>\n",
       "    </tr>\n",
       "  </tbody>\n",
       "</table>\n",
       "<p>49352 rows × 4 columns</p>\n",
       "</div>"
      ],
      "text/plain": [
       "        bathrooms  bedrooms interest_level  price\n",
       "4             1.0         1         medium   2400\n",
       "6             1.0         2            low   3800\n",
       "9             1.0         2         medium   3495\n",
       "10            1.5         3         medium   3000\n",
       "15            1.0         0            low   2795\n",
       "...           ...       ...            ...    ...\n",
       "124000        1.0         3            low   2800\n",
       "124002        1.0         2         medium   2395\n",
       "124004        1.0         1         medium   1850\n",
       "124008        1.0         2         medium   4195\n",
       "124009        1.0         3           high   4280\n",
       "\n",
       "[49352 rows x 4 columns]"
      ]
     },
     "execution_count": 79,
     "metadata": {},
     "output_type": "execute_result"
    }
   ],
   "source": [
    "data = df[['bathrooms', 'bedrooms', 'interest_level', 'price']]\n",
    "data"
   ]
  },
  {
   "cell_type": "markdown",
   "metadata": {},
   "source": [
    "## 3. Статистический анализ данных"
   ]
  },
  {
   "cell_type": "markdown",
   "metadata": {},
   "source": [
    "### 3.1 Базовые знания по статистике"
   ]
  },
  {
   "cell_type": "markdown",
   "metadata": {},
   "source": [
    "#### Средние значение, медиана, мода, дисперсия, Стандартное отклонение"
   ]
  },
  {
   "cell_type": "markdown",
   "metadata": {},
   "source": [
    "- **Средние значение** - это числовая характеристика множества чисел или функций, заключённое между наименьшим и наибольшим из их значений.\n",
    "  $$\\text{Среднее значение} = \\frac{1}{n} \\sum_{i=1}^{n} x_i$$\n",
    "\n",
    "- **Медиана** - это точка, которая делит распределение пополам таким образом, что одна половина наблюдений располагается выше медианы, а другая половина — ниже.\n",
    "  Формула для нечетного кол-во эл.:\n",
    "  $$\\text{Медиана} = \\frac{N+1}{2}$$\n",
    "  Формула для четного кол-во эл.:\n",
    "  $$\\text{Медиана} = \\frac{\\frac{N}{2}+\\frac{N+1}{2}}{2}$$\n",
    "\n",
    "- **Мода** - значение, наиболее часто встречающее в выборке.\n",
    "\n",
    "- **Дисперсия** - показатель разброса, на основе которго вычисляется среднеквадратическое отклонение.\n",
    "  $$σ2= Σ(x_i – x)^2/n$$\n",
    "\n",
    "- **Стандартное отклонение (Среднеквадратическое)** — показатель разброса данных по отношению к их среднему значению.\n",
    "  $$σ2= \\sqrt {Σ(x_i – \\tilde{x})^2/n}$$\n",
    "\n",
    "_Среднеквадратическое (стандартное) отклонение зачастую обозначают греческой буквой **σ** (сигма)._"
   ]
  },
  {
   "cell_type": "markdown",
   "metadata": {},
   "source": [
    "#### Типы распределений"
   ]
  },
  {
   "cell_type": "markdown",
   "metadata": {},
   "source": [
    "| Распределение            | Тип        | Ключевые параметры | Применение                                  |\n",
    "|-------------------------|------------|--------------------|---------------------------------------------|\n",
    "| Дискретное равномерное  | Дискретное | Число исходов      | Справедливый выбор между вариантами        |\n",
    "| Бернулли                | Дискретное | $ p $            | Простые бинарные испытания                  |\n",
    "| Биномиальное            | Дискретное | $ n, p $         | Количество успехов за $ n $ испытаний    |\n",
    "| Пуассона                | Дискретное | $ \\lambda $      | Количество событий за интервал времени      |\n",
    "| Нормальное              | Непрерывное| $ \\mu, \\sigma $  | Описание данных с нормальным распределением  |\n",
    "| Экспоненциальное       | Непрерывное| $ \\lambda $      | Время между событиями в потоке данных       |\n"
   ]
  },
  {
   "cell_type": "markdown",
   "metadata": {},
   "source": [
    "- **Дискретное равномерное распределение** — Все значения имеют одинаковую вероятность.\n",
    "- **Параметры** - Число возможных исходов. Например, при броске кости вероятность получения каждой стороны равна 1/6.\n",
    "\n",
    "<img src=\"https://upload.wikimedia.org/wikipedia/commons/1/13/DUniform_distribution.svg\" alt=\"Дискретное равномерное распределение\" width=\"400\"/>\n",
    "\n"
   ]
  },
  {
   "cell_type": "markdown",
   "metadata": {},
   "source": [
    "- **Распределение Бернулли** - Случайная велечина, которая принимает два значения: успех (с вероятностью $p$) или неудача (с вероятностью $q = 1 - p$)\n",
    "- **Параметры** - Вероятность успеха (𝑝).\n",
    "- **Применение** - Исследование простых бинарных испытаний, таких как «да»/«нет» или «успех»/«неуспех».\n",
    "\n",
    "<img src=\"https://upload.wikimedia.org/wikipedia/commons/c/c2/Bernuilli_distribution_PDF.svg\" alt=\"Распределение Бернулли\" width=\"400\"/>\n"
   ]
  },
  {
   "cell_type": "markdown",
   "metadata": {},
   "source": [
    "- **Биномиальное распределение** - Представляет количество успехов в фиксированном числе независимых испытаний Бернулли.\n",
    "- **Параметры** - Число испытаний (𝑛) и вероятность успеха (𝑝).\n",
    "- **Применение** - Моделирование количества успешных исходов, например, количество успешных продаж за день.\n",
    "\n",
    "<img src=\"https://upload.wikimedia.org/wikipedia/commons/c/ca/Binomial_distribution.svg\" alt=\"Биномиальное распределение\" width=\"400\"/>\n"
   ]
  },
  {
   "cell_type": "markdown",
   "metadata": {},
   "source": [
    "-  **Распределение Пуассона** - Представляющей собой число событий, произошедших за фиксированное время, при условии, что данные события происходят с некоторой фиксированной средней интенсивностью и независимо друг от друга.\n",
    "-  **Параметры** - Среднее количество событий (𝜆).\n",
    "- **Применение** - Моделирование редких событий, таких как количество звонков в колл-центр за час.\n",
    "\n",
    "<img src=\"https://upload.wikimedia.org/wikipedia/commons/c/c1/Poisson_distribution_PMF.png\" alt=\"Распределение Пуассона\" width=\"400\"/>\n"
   ]
  },
  {
   "cell_type": "markdown",
   "metadata": {},
   "source": [
    "- **Нормальное распределение** - Симметричное распределение с колоколоподобной формой, описывающее многие натуральные явления.\n",
    "- **Параметры** - Среднее (𝜇) и стандартное отклонение (𝜎).\n",
    "- **Применение** - Используется в статистике для описания распределения многих типов данных, например, роста людей или результатов экзаменов.\n",
    "\n",
    "<img src=\"https://upload.wikimedia.org/wikipedia/commons/1/1b/Normal_distribution_pdf.png\" alt=\"Нормальное распределение\" width=\"400\"/>\n"
   ]
  },
  {
   "cell_type": "markdown",
   "metadata": {},
   "source": [
    "- **Экспоненциальное распределение** -  Моделирует время между событиями в процессе, который происходит с постоянной интенсивностью.\n",
    "- **Параметры** - Параметр скорости (𝜆), обратный среднему времени между событиями.\n",
    "- **Применение** - Моделирование времени ожидания, например, времени между прибытием клиентов в магазин.\n",
    "\n",
    "<img src=\"https://upload.wikimedia.org/wikipedia/commons/d/db/Exponential_distribution_pdf.svg\" alt=\"Экспоненциальное распределение\" width=\"400\"/>\n"
   ]
  },
  {
   "cell_type": "markdown",
   "metadata": {},
   "source": [
    "#### Выбросы, процентили, доверительные интервалы"
   ]
  },
  {
   "cell_type": "markdown",
   "metadata": {},
   "source": [
    "-  **Выбросы** — это наблюдения, которые существенно отличаются от других значений в наборе данных. Обычно они находятся далеко от \"нормального\" диапазона значений и могут указывать на ошибки измерения, редкие события или значительные изменения в системе.\n",
    "\n",
    "- Методы обнаружения: Выбросы могут быть определены с помощью различных методов, таких как:\n",
    "    - Правило $1.5*IQR$ (межквартильный размах), где $IQR = Q3 - Q1$, и выбросы определяются как значения, находящиеся ниже $Q1 - 1.5*IQR$ или выше $Q3 + 1.5*IQR$.\n",
    "\n",
    "        <img src=\"https://www.dmitrymakarov.ru/wp-content/uploads/2022/03/boxplot.svg_.png\" alt=\"Выбросы\" width=\"400\"/>\n",
    "\n",
    "    - Стандартные отклонения от среднего (значения, находящиеся более чем на 2-3 стандартных отклонения от среднего).\n"
   ]
  },
  {
   "cell_type": "markdown",
   "metadata": {},
   "source": [
    "- **Процентиль** — это значение, которое делит набор данных на 100 равных частей. Каждое значение отвечает за определенный процент данных, которые находятся ниже него.\n",
    "\n",
    "    - 25-й процентиль (Q1) — это значение, ниже которого находится 25% данных.\n",
    "    - 50-й процентиль (Q2) — это медиана, значение, ниже и выше которого находится по 50% данных.\n",
    "    - 75-й процентиль (Q3) — это значение, ниже которого находится 75% данных.\n",
    "\n",
    "    <img src=\"https://i.pinimg.com/736x/c1/65/6d/c1656d9f8b28ee7b4bcdc849ca8c2638.jpg\" alt=\"Процентиль\" width=\"400\"/>\n"
   ]
  },
  {
   "cell_type": "markdown",
   "metadata": {},
   "source": [
    "- **Доверительный интервал** — это диапазон значений, который, с заданной степенью уверенности (обычно 95% или 99%), содержит истинное значение параметра генеральной совокупности. Он помогает оценить неопределенность в результате выборки.\n",
    "\n",
    "    $$CI = \\bar{x} \\pm z \\left( \\frac{\\sigma}{\\sqrt{n}} \\right)$$\n",
    "\n",
    "- где \n",
    "𝑥 — выборочное среднее, \n",
    "𝑧 — критическое значение для заданного уровня значимости (например, для 95% уровень значимости будет около 1.96), \n",
    "𝜎 — стандартное отклонение, и \n",
    "𝑛 — размер выборки.\n",
    "\n",
    "<img src=\"https://topuch.com/laboratornaya-rabota-1-pryamoe-izmerenie-s-mnogokratnim-nablyu/490816_html_36318563b8b59271.png\" alt=\"CI\" width=\"500\"/>\n"
   ]
  },
  {
   "cell_type": "markdown",
   "metadata": {},
   "source": [
    "### 3.2 Ознакомьтесь с [этой статьей](https://habr.com/ru/companies/skillfactory/articles/674880/)"
   ]
  },
  {
   "cell_type": "markdown",
   "metadata": {},
   "source": [
    "### 3.3 Целевой анализ"
   ]
  },
  {
   "cell_type": "markdown",
   "metadata": {},
   "source": [
    "**Построение гистограммы целевой переменны 'price'**"
   ]
  },
  {
   "cell_type": "code",
   "execution_count": 80,
   "metadata": {},
   "outputs": [
    {
     "data": {
      "image/png": "[encoded data removed]",
      "text/plain": [
       "<Figure size 640x480 with 1 Axes>"
      ]
     },
     "metadata": {},
     "output_type": "display_data"
    }
   ],
   "source": [
    "data['price'].hist() # Используем функцию hist() из библиотеки pandas\n",
    "plt.show() # Функция для отображения только фигур"
   ]
  },
  {
   "cell_type": "markdown",
   "metadata": {},
   "source": [
    "- На данной гистограмме не понять какое распределение значений."
   ]
  },
  {
   "cell_type": "markdown",
   "metadata": {},
   "source": [
    "**Построить boxplot()**"
   ]
  },
  {
   "cell_type": "code",
   "execution_count": 81,
   "metadata": {},
   "outputs": [
    {
     "data": {
      "image/png": "[encoded data removed]",
      "text/plain": [
       "<Figure size 640x480 with 1 Axes>"
      ]
     },
     "metadata": {},
     "output_type": "display_data"
    }
   ],
   "source": [
    "sns.boxplot(x=data['price'])\n",
    "plt.show()"
   ]
  },
  {
   "cell_type": "markdown",
   "metadata": {},
   "source": [
    "- На этой диаграмме видно, что точки, находящиеся за пределами \"усов\", являются выбросами. Они расположены так далеко, что \"ящик\" диаграммы не видно."
   ]
  },
  {
   "cell_type": "markdown",
   "metadata": {},
   "source": [
    "**Удалите строки, которые не попадают в диапазон от 1 до 99 процентилей по целевому столбцу**"
   ]
  },
  {
   "cell_type": "code",
   "execution_count": 82,
   "metadata": {},
   "outputs": [
    {
     "data": {
      "text/html": [
       "<div>\n",
       "<style scoped>\n",
       "    .dataframe tbody tr th:only-of-type {\n",
       "        vertical-align: middle;\n",
       "    }\n",
       "\n",
       "    .dataframe tbody tr th {\n",
       "        vertical-align: top;\n",
       "    }\n",
       "\n",
       "    .dataframe thead th {\n",
       "        text-align: right;\n",
       "    }\n",
       "</style>\n",
       "<table border=\"1\" class=\"dataframe\">\n",
       "  <thead>\n",
       "    <tr style=\"text-align: right;\">\n",
       "      <th></th>\n",
       "      <th>bathrooms</th>\n",
       "      <th>bedrooms</th>\n",
       "      <th>interest_level</th>\n",
       "      <th>price</th>\n",
       "    </tr>\n",
       "  </thead>\n",
       "  <tbody>\n",
       "    <tr>\n",
       "      <th>4</th>\n",
       "      <td>1.0</td>\n",
       "      <td>1</td>\n",
       "      <td>medium</td>\n",
       "      <td>2400</td>\n",
       "    </tr>\n",
       "    <tr>\n",
       "      <th>6</th>\n",
       "      <td>1.0</td>\n",
       "      <td>2</td>\n",
       "      <td>low</td>\n",
       "      <td>3800</td>\n",
       "    </tr>\n",
       "    <tr>\n",
       "      <th>9</th>\n",
       "      <td>1.0</td>\n",
       "      <td>2</td>\n",
       "      <td>medium</td>\n",
       "      <td>3495</td>\n",
       "    </tr>\n",
       "    <tr>\n",
       "      <th>10</th>\n",
       "      <td>1.5</td>\n",
       "      <td>3</td>\n",
       "      <td>medium</td>\n",
       "      <td>3000</td>\n",
       "    </tr>\n",
       "    <tr>\n",
       "      <th>15</th>\n",
       "      <td>1.0</td>\n",
       "      <td>0</td>\n",
       "      <td>low</td>\n",
       "      <td>2795</td>\n",
       "    </tr>\n",
       "    <tr>\n",
       "      <th>...</th>\n",
       "      <td>...</td>\n",
       "      <td>...</td>\n",
       "      <td>...</td>\n",
       "      <td>...</td>\n",
       "    </tr>\n",
       "    <tr>\n",
       "      <th>124000</th>\n",
       "      <td>1.0</td>\n",
       "      <td>3</td>\n",
       "      <td>low</td>\n",
       "      <td>2800</td>\n",
       "    </tr>\n",
       "    <tr>\n",
       "      <th>124002</th>\n",
       "      <td>1.0</td>\n",
       "      <td>2</td>\n",
       "      <td>medium</td>\n",
       "      <td>2395</td>\n",
       "    </tr>\n",
       "    <tr>\n",
       "      <th>124004</th>\n",
       "      <td>1.0</td>\n",
       "      <td>1</td>\n",
       "      <td>medium</td>\n",
       "      <td>1850</td>\n",
       "    </tr>\n",
       "    <tr>\n",
       "      <th>124008</th>\n",
       "      <td>1.0</td>\n",
       "      <td>2</td>\n",
       "      <td>medium</td>\n",
       "      <td>4195</td>\n",
       "    </tr>\n",
       "    <tr>\n",
       "      <th>124009</th>\n",
       "      <td>1.0</td>\n",
       "      <td>3</td>\n",
       "      <td>high</td>\n",
       "      <td>4280</td>\n",
       "    </tr>\n",
       "  </tbody>\n",
       "</table>\n",
       "<p>48379 rows × 4 columns</p>\n",
       "</div>"
      ],
      "text/plain": [
       "        bathrooms  bedrooms interest_level  price\n",
       "4             1.0         1         medium   2400\n",
       "6             1.0         2            low   3800\n",
       "9             1.0         2         medium   3495\n",
       "10            1.5         3         medium   3000\n",
       "15            1.0         0            low   2795\n",
       "...           ...       ...            ...    ...\n",
       "124000        1.0         3            low   2800\n",
       "124002        1.0         2         medium   2395\n",
       "124004        1.0         1         medium   1850\n",
       "124008        1.0         2         medium   4195\n",
       "124009        1.0         3           high   4280\n",
       "\n",
       "[48379 rows x 4 columns]"
      ]
     },
     "execution_count": 82,
     "metadata": {},
     "output_type": "execute_result"
    }
   ],
   "source": [
    "lower_bound = data['price'].quantile(0.01)\n",
    "upper_bound = data['price'].quantile(0.99)\n",
    "\n",
    "data = data[(data['price'] >= lower_bound) & (data['price'] <= upper_bound)]\n",
    "data"
   ]
  },
  {
   "cell_type": "code",
   "execution_count": 83,
   "metadata": {},
   "outputs": [
    {
     "data": {
      "image/png": "[encoded data removed]",
      "text/plain": [
       "<Figure size 640x480 with 1 Axes>"
      ]
     },
     "metadata": {},
     "output_type": "display_data"
    }
   ],
   "source": [
    "sns.histplot(data=data, x='price', kde=True, bins=50)\n",
    "plt.show()"
   ]
  },
  {
   "cell_type": "markdown",
   "metadata": {},
   "source": [
    "- Было удалено 973 строки (выбросы), которые не попадали в диапазон от 1 до 99 процентили по целевому признаку;\n",
    "- **Логнормальное распределение** - является асимметричным и скошенным вправо;"
   ]
  },
  {
   "cell_type": "markdown",
   "metadata": {},
   "source": [
    "### 3.4 Анализ функций"
   ]
  },
  {
   "cell_type": "markdown",
   "metadata": {},
   "source": [
    "**Какой тип столбца «interest_level»?**"
   ]
  },
  {
   "cell_type": "code",
   "execution_count": 84,
   "metadata": {},
   "outputs": [
    {
     "data": {
      "text/plain": [
       "4         medium\n",
       "6            low\n",
       "9         medium\n",
       "10        medium\n",
       "15           low\n",
       "           ...  \n",
       "124000       low\n",
       "124002    medium\n",
       "124004    medium\n",
       "124008    medium\n",
       "124009      high\n",
       "Name: interest_level, Length: 48379, dtype: object"
      ]
     },
     "execution_count": 84,
     "metadata": {},
     "output_type": "execute_result"
    }
   ],
   "source": [
    "data['interest_level'] # dtype: object"
   ]
  },
  {
   "cell_type": "markdown",
   "metadata": {},
   "source": [
    "**Выведите значения этого столбца. Сколько элементов содержит каждое значение?**"
   ]
  },
  {
   "cell_type": "code",
   "execution_count": 85,
   "metadata": {},
   "outputs": [
    {
     "data": {
      "text/plain": [
       "array(['medium', 'low', 'high'], dtype=object)"
      ]
     },
     "execution_count": 85,
     "metadata": {},
     "output_type": "execute_result"
    }
   ],
   "source": [
    "data['interest_level'].unique() # Вывод уникальных значений"
   ]
  },
  {
   "cell_type": "markdown",
   "metadata": {},
   "source": [
    "**Заменить каждое значение на 0, 1 или 2**"
   ]
  },
  {
   "cell_type": "markdown",
   "metadata": {},
   "source": [
    "- Большинство машинных обучающие алгоритмы предпочитают работать с числами."
   ]
  },
  {
   "cell_type": "code",
   "execution_count": 86,
   "metadata": {},
   "outputs": [
    {
     "name": "stderr",
     "output_type": "stream",
     "text": [
      "/tmp/ipykernel_6633/601062324.py:1: FutureWarning: Downcasting behavior in `replace` is deprecated and will be removed in a future version. To retain the old behavior, explicitly call `result.infer_objects(copy=False)`. To opt-in to the future behavior, set `pd.set_option('future.no_silent_downcasting', True)`\n",
      "  data['interest_level'] = data['interest_level'].replace({'low': 0, 'medium': 1, 'high': 2}) # Заменяем значения\n",
      "/tmp/ipykernel_6633/601062324.py:1: SettingWithCopyWarning: \n",
      "A value is trying to be set on a copy of a slice from a DataFrame.\n",
      "Try using .loc[row_indexer,col_indexer] = value instead\n",
      "\n",
      "See the caveats in the documentation: https://pandas.pydata.org/pandas-docs/stable/user_guide/indexing.html#returning-a-view-versus-a-copy\n",
      "  data['interest_level'] = data['interest_level'].replace({'low': 0, 'medium': 1, 'high': 2}) # Заменяем значения\n"
     ]
    }
   ],
   "source": [
    "data['interest_level'] = data['interest_level'].replace({'low': 0, 'medium': 1, 'high': 2}) # Заменяем значения"
   ]
  },
  {
   "cell_type": "code",
   "execution_count": 87,
   "metadata": {},
   "outputs": [
    {
     "data": {
      "text/plain": [
       "4         1\n",
       "6         0\n",
       "9         1\n",
       "10        1\n",
       "15        0\n",
       "         ..\n",
       "124000    0\n",
       "124002    1\n",
       "124004    1\n",
       "124008    1\n",
       "124009    2\n",
       "Name: interest_level, Length: 48379, dtype: int64"
      ]
     },
     "execution_count": 87,
     "metadata": {},
     "output_type": "execute_result"
    }
   ],
   "source": [
    "data['interest_level']"
   ]
  },
  {
   "cell_type": "markdown",
   "metadata": {},
   "source": [
    "**Постройте гистограммы для характеристик \"bathrooms\", \"bedrooms\". Есть ли выбросы?**"
   ]
  },
  {
   "cell_type": "code",
   "execution_count": 88,
   "metadata": {},
   "outputs": [
    {
     "data": {
      "image/png": "[encoded data removed]",
      "text/plain": [
       "<Figure size 1200x600 with 2 Axes>"
      ]
     },
     "metadata": {},
     "output_type": "display_data"
    }
   ],
   "source": [
    "fig, axes = plt.subplots(1, 2, figsize=(12, 6)) # Создаем макет для подграфиков\n",
    "\n",
    "sns.histplot(data=data, x='bathrooms', ax=axes[0])\n",
    "axes[0].set_title('Распределение по количеству ванных комнат')\n",
    "sns.histplot(data=data, x='bedrooms', ax=axes[1])\n",
    "axes[1].set_title('Распределение по количеству спален')\n",
    "\n",
    "plt.tight_layout()\n",
    "plt.show()"
   ]
  },
  {
   "cell_type": "markdown",
   "metadata": {},
   "source": [
    "- Наибольшее количество выбросов наблюдается в категории 'bathrooms', а в 'bedrooms' выбросы варьируются от 4 до 8."
   ]
  },
  {
   "cell_type": "markdown",
   "metadata": {},
   "source": [
    "### 3.5 Комплексный анализ"
   ]
  },
  {
   "cell_type": "markdown",
   "metadata": {},
   "source": [
    "**Постройте корреляционную матрицу, чтобы понять взаимосвязь между признаками и целевой переменной. Постройте тепловую карту для корреляционной матрицы. Есть ли взаимосвязь?**"
   ]
  },
  {
   "cell_type": "code",
   "execution_count": 89,
   "metadata": {},
   "outputs": [
    {
     "data": {
      "text/html": [
       "<div>\n",
       "<style scoped>\n",
       "    .dataframe tbody tr th:only-of-type {\n",
       "        vertical-align: middle;\n",
       "    }\n",
       "\n",
       "    .dataframe tbody tr th {\n",
       "        vertical-align: top;\n",
       "    }\n",
       "\n",
       "    .dataframe thead th {\n",
       "        text-align: right;\n",
       "    }\n",
       "</style>\n",
       "<table border=\"1\" class=\"dataframe\">\n",
       "  <thead>\n",
       "    <tr style=\"text-align: right;\">\n",
       "      <th></th>\n",
       "      <th>bathrooms</th>\n",
       "      <th>bedrooms</th>\n",
       "      <th>interest_level</th>\n",
       "      <th>price</th>\n",
       "    </tr>\n",
       "  </thead>\n",
       "  <tbody>\n",
       "    <tr>\n",
       "      <th>bathrooms</th>\n",
       "      <td>1.00</td>\n",
       "      <td>0.52</td>\n",
       "      <td>-0.06</td>\n",
       "      <td>0.67</td>\n",
       "    </tr>\n",
       "    <tr>\n",
       "      <th>bedrooms</th>\n",
       "      <td>0.52</td>\n",
       "      <td>1.00</td>\n",
       "      <td>0.05</td>\n",
       "      <td>0.55</td>\n",
       "    </tr>\n",
       "    <tr>\n",
       "      <th>interest_level</th>\n",
       "      <td>-0.06</td>\n",
       "      <td>0.05</td>\n",
       "      <td>1.00</td>\n",
       "      <td>-0.20</td>\n",
       "    </tr>\n",
       "    <tr>\n",
       "      <th>price</th>\n",
       "      <td>0.67</td>\n",
       "      <td>0.55</td>\n",
       "      <td>-0.20</td>\n",
       "      <td>1.00</td>\n",
       "    </tr>\n",
       "  </tbody>\n",
       "</table>\n",
       "</div>"
      ],
      "text/plain": [
       "                bathrooms  bedrooms  interest_level  price\n",
       "bathrooms            1.00      0.52           -0.06   0.67\n",
       "bedrooms             0.52      1.00            0.05   0.55\n",
       "interest_level      -0.06      0.05            1.00  -0.20\n",
       "price                0.67      0.55           -0.20   1.00"
      ]
     },
     "execution_count": 89,
     "metadata": {},
     "output_type": "execute_result"
    }
   ],
   "source": [
    "correlation_matrix_data = data.corr(numeric_only=True)\n",
    "correlation_matrix_data.round(2)"
   ]
  },
  {
   "cell_type": "code",
   "execution_count": 90,
   "metadata": {},
   "outputs": [
    {
     "data": {
      "image/png": "[encoded data removed]",
      "text/plain": [
       "<Figure size 640x480 with 2 Axes>"
      ]
     },
     "metadata": {},
     "output_type": "display_data"
    }
   ],
   "source": [
    "sns.heatmap(correlation_matrix_data, annot=True)\n",
    "plt.show()"
   ]
  },
  {
   "cell_type": "code",
   "execution_count": 91,
   "metadata": {},
   "outputs": [
    {
     "data": {
      "image/png": "[encoded data removed]",
      "text/plain": [
       "<Figure size 1500x500 with 3 Axes>"
      ]
     },
     "metadata": {},
     "output_type": "display_data"
    }
   ],
   "source": [
    "plt.figure(figsize=(15, 5))\n",
    "\n",
    "# График 1\n",
    "plt.subplot(1, 3, 1)\n",
    "sns.scatterplot(x='price', y='bathrooms', data=data)\n",
    "\n",
    "# График 2\n",
    "plt.subplot(1, 3, 2)\n",
    "sns.scatterplot(x='price', y='bedrooms', data=data)\n",
    "\n",
    "# График 3\n",
    "plt.subplot(1, 3, 3)\n",
    "sns.scatterplot(x='price', y='interest_level', data=data)\n",
    "\n",
    "plt.tight_layout()\n",
    "plt.show()"
   ]
  },
  {
   "cell_type": "markdown",
   "metadata": {},
   "source": [
    "- Умеранная отрицательная корреляция, 'price' и 'interest_level' **-0.2**;\n",
    "- Умеренная положительная корреляция, 'price' c 'bathrooms' **0.6** и с 'bedrooms' **0.5**;\n",
    "- Умеренная положительная корреляция, 'bathrooms' и 'bedrooms' **0.5**. "
   ]
  },
  {
   "cell_type": "markdown",
   "metadata": {},
   "source": [
    "## 4. Создание функций"
   ]
  },
  {
   "cell_type": "markdown",
   "metadata": {},
   "source": [
    "### 4.1 Постройте матрицу корреляции с новыми признаками. Являются ли новые признаки более коррелирующими с целевым показателем, чем базовые признаки?"
   ]
  },
  {
   "cell_type": "markdown",
   "metadata": {},
   "source": [
    "Например, вы можете добавить 3 новых признака, возведённых в квадрат: «количество_ванных_комнат_в_квадрате», «количество_спален_в_квадрате», «уровень_интереса_в_квадрате»."
   ]
  },
  {
   "cell_type": "code",
   "execution_count": 92,
   "metadata": {},
   "outputs": [],
   "source": [
    "data_copy = data.copy()\n",
    "data_copy[['bathrooms_2', 'bedrooms_2', 'interest_level_2']] = data_copy[['bathrooms', 'bedrooms', 'interest_level']]**2"
   ]
  },
  {
   "cell_type": "code",
   "execution_count": 93,
   "metadata": {},
   "outputs": [
    {
     "data": {
      "text/html": [
       "<div>\n",
       "<style scoped>\n",
       "    .dataframe tbody tr th:only-of-type {\n",
       "        vertical-align: middle;\n",
       "    }\n",
       "\n",
       "    .dataframe tbody tr th {\n",
       "        vertical-align: top;\n",
       "    }\n",
       "\n",
       "    .dataframe thead th {\n",
       "        text-align: right;\n",
       "    }\n",
       "</style>\n",
       "<table border=\"1\" class=\"dataframe\">\n",
       "  <thead>\n",
       "    <tr style=\"text-align: right;\">\n",
       "      <th></th>\n",
       "      <th>bathrooms</th>\n",
       "      <th>bedrooms</th>\n",
       "      <th>interest_level</th>\n",
       "      <th>price</th>\n",
       "      <th>bathrooms_2</th>\n",
       "      <th>bedrooms_2</th>\n",
       "      <th>interest_level_2</th>\n",
       "    </tr>\n",
       "  </thead>\n",
       "  <tbody>\n",
       "    <tr>\n",
       "      <th>bathrooms</th>\n",
       "      <td>1.000000</td>\n",
       "      <td>0.517574</td>\n",
       "      <td>-0.063635</td>\n",
       "      <td>0.671943</td>\n",
       "      <td>0.956023</td>\n",
       "      <td>0.548760</td>\n",
       "      <td>-0.059410</td>\n",
       "    </tr>\n",
       "    <tr>\n",
       "      <th>bedrooms</th>\n",
       "      <td>0.517574</td>\n",
       "      <td>1.000000</td>\n",
       "      <td>0.050654</td>\n",
       "      <td>0.545948</td>\n",
       "      <td>0.478817</td>\n",
       "      <td>0.928277</td>\n",
       "      <td>0.039511</td>\n",
       "    </tr>\n",
       "    <tr>\n",
       "      <th>interest_level</th>\n",
       "      <td>-0.063635</td>\n",
       "      <td>0.050654</td>\n",
       "      <td>1.000000</td>\n",
       "      <td>-0.200111</td>\n",
       "      <td>-0.068558</td>\n",
       "      <td>0.046340</td>\n",
       "      <td>0.944013</td>\n",
       "    </tr>\n",
       "    <tr>\n",
       "      <th>price</th>\n",
       "      <td>0.671943</td>\n",
       "      <td>0.545948</td>\n",
       "      <td>-0.200111</td>\n",
       "      <td>1.000000</td>\n",
       "      <td>0.648486</td>\n",
       "      <td>0.543406</td>\n",
       "      <td>-0.182672</td>\n",
       "    </tr>\n",
       "    <tr>\n",
       "      <th>bathrooms_2</th>\n",
       "      <td>0.956023</td>\n",
       "      <td>0.478817</td>\n",
       "      <td>-0.068558</td>\n",
       "      <td>0.648486</td>\n",
       "      <td>1.000000</td>\n",
       "      <td>0.522227</td>\n",
       "      <td>-0.062240</td>\n",
       "    </tr>\n",
       "    <tr>\n",
       "      <th>bedrooms_2</th>\n",
       "      <td>0.548760</td>\n",
       "      <td>0.928277</td>\n",
       "      <td>0.046340</td>\n",
       "      <td>0.543406</td>\n",
       "      <td>0.522227</td>\n",
       "      <td>1.000000</td>\n",
       "      <td>0.035718</td>\n",
       "    </tr>\n",
       "    <tr>\n",
       "      <th>interest_level_2</th>\n",
       "      <td>-0.059410</td>\n",
       "      <td>0.039511</td>\n",
       "      <td>0.944013</td>\n",
       "      <td>-0.182672</td>\n",
       "      <td>-0.062240</td>\n",
       "      <td>0.035718</td>\n",
       "      <td>1.000000</td>\n",
       "    </tr>\n",
       "  </tbody>\n",
       "</table>\n",
       "</div>"
      ],
      "text/plain": [
       "                  bathrooms  bedrooms  interest_level     price  bathrooms_2  \\\n",
       "bathrooms          1.000000  0.517574       -0.063635  0.671943     0.956023   \n",
       "bedrooms           0.517574  1.000000        0.050654  0.545948     0.478817   \n",
       "interest_level    -0.063635  0.050654        1.000000 -0.200111    -0.068558   \n",
       "price              0.671943  0.545948       -0.200111  1.000000     0.648486   \n",
       "bathrooms_2        0.956023  0.478817       -0.068558  0.648486     1.000000   \n",
       "bedrooms_2         0.548760  0.928277        0.046340  0.543406     0.522227   \n",
       "interest_level_2  -0.059410  0.039511        0.944013 -0.182672    -0.062240   \n",
       "\n",
       "                  bedrooms_2  interest_level_2  \n",
       "bathrooms           0.548760         -0.059410  \n",
       "bedrooms            0.928277          0.039511  \n",
       "interest_level      0.046340          0.944013  \n",
       "price               0.543406         -0.182672  \n",
       "bathrooms_2         0.522227         -0.062240  \n",
       "bedrooms_2          1.000000          0.035718  \n",
       "interest_level_2    0.035718          1.000000  "
      ]
     },
     "execution_count": 93,
     "metadata": {},
     "output_type": "execute_result"
    }
   ],
   "source": [
    "correlation_matrix_data_copy = data_copy.corr(numeric_only=True)\n",
    "correlation_matrix_data_copy"
   ]
  },
  {
   "cell_type": "markdown",
   "metadata": {},
   "source": [
    "- Неявляются новые признаки более коррелирующими с целевымым показателемб чем базовые признаки."
   ]
  },
  {
   "cell_type": "markdown",
   "metadata": {},
   "source": [
    "- Для обучения модели здесь мы не будем использовать новые функции."
   ]
  },
  {
   "cell_type": "markdown",
   "metadata": {},
   "source": [
    "### 4.3 Ознакомьтесь с информацией о [PolynomialFeatures в sklearn](https://scikit-learn.org/stable/modules/generated/sklearn.preprocessing.PolynomialFeatures.html)"
   ]
  },
  {
   "cell_type": "markdown",
   "metadata": {},
   "source": [
    "### 4.4 Использовать PolynomialFeatures, нам сначала нужно разделить данные на обучающую и тестовую выборки"
   ]
  },
  {
   "cell_type": "code",
   "execution_count": 94,
   "metadata": {},
   "outputs": [],
   "source": [
    "X = data.drop('price', axis=1)\n",
    "y = data['price']"
   ]
  },
  {
   "cell_type": "code",
   "execution_count": 95,
   "metadata": {},
   "outputs": [],
   "source": [
    "X_train, X_test, y_train, y_test = train_test_split(X, y, test_size=.2, random_state=42)"
   ]
  },
  {
   "cell_type": "markdown",
   "metadata": {},
   "source": [
    "- Используем `train_test_split` для разделение данный на train и test;\n",
    "- `test_size` это параметр, какую долю набор данных нужно включить в тестовое разделение;\n",
    "- `random_state` - рандомизация, генератор случайных чисел;"
   ]
  },
  {
   "cell_type": "markdown",
   "metadata": {},
   "source": [
    "### 4.5 Инициализируйте функцию PolynomialFeatures() со степенью 10."
   ]
  },
  {
   "cell_type": "code",
   "execution_count": 96,
   "metadata": {},
   "outputs": [],
   "source": [
    "poly = PolynomialFeatures(degree=10)"
   ]
  },
  {
   "cell_type": "markdown",
   "metadata": {},
   "source": [
    "### 4.6 Примените PolynomialFeatures() для подгонки и преобразования ваших обучающих и тестовых данных."
   ]
  },
  {
   "cell_type": "code",
   "execution_count": 97,
   "metadata": {},
   "outputs": [],
   "source": [
    "X_train = poly.fit_transform(X_train)\n",
    "X_test = poly.fit_transform(X_test)"
   ]
  },
  {
   "cell_type": "markdown",
   "metadata": {},
   "source": [
    "## 5. Oбучить 3 модели: линейную регрессию, дерево решений и нативную модель"
   ]
  },
  {
   "cell_type": "markdown",
   "metadata": {},
   "source": [
    "### 5.1 Таблица результатов"
   ]
  },
  {
   "cell_type": "markdown",
   "metadata": {},
   "source": [
    "**Создать 2 пустых DataFrames со столбцами `model`, `train` и `test`. Первый - `result_MAE`, второй - `result_RMSE`**"
   ]
  },
  {
   "cell_type": "code",
   "execution_count": 98,
   "metadata": {},
   "outputs": [],
   "source": [
    "columns = ['model', 'train', 'test']\n",
    "result_MAE = pd.DataFrame(columns=columns)\n",
    "result_RMSE = pd.DataFrame(columns=columns)"
   ]
  },
  {
   "cell_type": "markdown",
   "metadata": {},
   "source": [
    "### 5.2 Линейная регрессия"
   ]
  },
  {
   "cell_type": "markdown",
   "metadata": {},
   "source": [
    "**Инициализируйте линейную регрессию из sklearn без параметров**"
   ]
  },
  {
   "cell_type": "code",
   "execution_count": 99,
   "metadata": {},
   "outputs": [],
   "source": [
    "linear_regression_model = LinearRegression().fit(X_train, y_train)"
   ]
  },
  {
   "cell_type": "markdown",
   "metadata": {},
   "source": [
    "**Подгоните свою модель и сделайте прогноз на основе обучающих и тестовых данных. Сохраните их в виде новых столбцов в данных**"
   ]
  },
  {
   "cell_type": "code",
   "execution_count": 100,
   "metadata": {},
   "outputs": [],
   "source": [
    "data_train_lr, data_test_lr = pd.DataFrame(), pd.DataFrame()"
   ]
  },
  {
   "cell_type": "code",
   "execution_count": 101,
   "metadata": {},
   "outputs": [],
   "source": [
    "data_train_lr['lr_train'] = linear_regression_model.predict(X_train)\n",
    "data_test_lr['lr_test'] = linear_regression_model.predict(X_test)"
   ]
  },
  {
   "cell_type": "markdown",
   "metadata": {},
   "source": [
    "**Вычислите MAE (Среднюю абсолютную ошибку) для обучающих и тестовых целей**"
   ]
  },
  {
   "cell_type": "code",
   "execution_count": 102,
   "metadata": {},
   "outputs": [],
   "source": [
    "mae_train_linear_regression = mean_absolute_error(y_train, data_train_lr['lr_train'])\n",
    "mae_test_linear_regression = mean_absolute_error(y_test, data_test_lr['lr_test'])"
   ]
  },
  {
   "cell_type": "code",
   "execution_count": 103,
   "metadata": {},
   "outputs": [
    {
     "data": {
      "text/plain": [
       "(np.float64(721.8582476834061), np.float64(863.8260318326138))"
      ]
     },
     "execution_count": 103,
     "metadata": {},
     "output_type": "execute_result"
    }
   ],
   "source": [
    "mae_train_linear_regression, mae_test_linear_regression"
   ]
  },
  {
   "cell_type": "markdown",
   "metadata": {},
   "source": [
    "**Вычислите RMSE (среднеквадратичную ошибку) для обучающих и тестовых целей**"
   ]
  },
  {
   "cell_type": "code",
   "execution_count": 104,
   "metadata": {},
   "outputs": [],
   "source": [
    "rmse_train_linear_regression = root_mean_squared_error(y_train, data_train_lr['lr_train'])\n",
    "rmse_test_linear_regression = root_mean_squared_error(y_test, data_test_lr['lr_test'])"
   ]
  },
  {
   "cell_type": "code",
   "execution_count": 105,
   "metadata": {},
   "outputs": [
    {
     "data": {
      "text/plain": [
       "(np.float64(1031.2753933091121), np.float64(12221.253875891593))"
      ]
     },
     "execution_count": 105,
     "metadata": {},
     "output_type": "execute_result"
    }
   ],
   "source": [
    "rmse_train_linear_regression, rmse_test_linear_regression"
   ]
  },
  {
   "cell_type": "markdown",
   "metadata": {},
   "source": [
    "**Вставьте свои показатели в таблицы result_MAE и result_RMSE с названием модели \"Linear Regression\"**"
   ]
  },
  {
   "cell_type": "code",
   "execution_count": 106,
   "metadata": {},
   "outputs": [],
   "source": [
    "result_MAE.loc[0] = ['Linear Regression', mae_train_linear_regression, mae_test_linear_regression]"
   ]
  },
  {
   "cell_type": "code",
   "execution_count": 107,
   "metadata": {},
   "outputs": [],
   "source": [
    "result_RMSE.loc[0] = ['Linear Regression', rmse_train_linear_regression, rmse_test_linear_regression]"
   ]
  },
  {
   "cell_type": "markdown",
   "metadata": {},
   "source": [
    "### 5.3 Дерево решений"
   ]
  },
  {
   "cell_type": "markdown",
   "metadata": {},
   "source": [
    "**Инициализируйте регрессор дерева решений из sklearn с фиксированным случайным значением random_state=42**"
   ]
  },
  {
   "cell_type": "code",
   "execution_count": 108,
   "metadata": {},
   "outputs": [],
   "source": [
    "decision_tree = DecisionTreeRegressor(random_state=42).fit(X_train, y_train)"
   ]
  },
  {
   "cell_type": "markdown",
   "metadata": {},
   "source": [
    "**Подгоните свою модель и сделайте прогноз на основе обучающих и тестовых данных. Сохраните их в виде новых столбцов в данных**"
   ]
  },
  {
   "cell_type": "code",
   "execution_count": 109,
   "metadata": {},
   "outputs": [],
   "source": [
    "data_train_dt, data_test_dt = pd.DataFrame(), pd.DataFrame()"
   ]
  },
  {
   "cell_type": "code",
   "execution_count": 110,
   "metadata": {},
   "outputs": [],
   "source": [
    "data_train_dt['dt_train'] = decision_tree.predict(X_train)\n",
    "data_test_dt['dt_test'] = decision_tree.predict(X_test)"
   ]
  },
  {
   "cell_type": "markdown",
   "metadata": {},
   "source": [
    "**Вычислите MAE (Среднюю абсолютную ошибку) для обучающих и тестовых целей**"
   ]
  },
  {
   "cell_type": "code",
   "execution_count": 111,
   "metadata": {},
   "outputs": [],
   "source": [
    "mae_train_decision_tree = mean_absolute_error(y_train, data_train_dt['dt_train'])\n",
    "mae_test_decision_tree = mean_absolute_error(y_test, data_test_dt['dt_test'])"
   ]
  },
  {
   "cell_type": "code",
   "execution_count": 112,
   "metadata": {},
   "outputs": [
    {
     "data": {
      "text/plain": [
       "(np.float64(721.8582393096963), np.float64(724.5015865264804))"
      ]
     },
     "execution_count": 112,
     "metadata": {},
     "output_type": "execute_result"
    }
   ],
   "source": [
    "mae_train_decision_tree, mae_test_decision_tree"
   ]
  },
  {
   "cell_type": "markdown",
   "metadata": {},
   "source": [
    "**Вычислите RMSE (среднеквадратичную ошибку) для обучающих и тестовых целей**"
   ]
  },
  {
   "cell_type": "code",
   "execution_count": 113,
   "metadata": {},
   "outputs": [],
   "source": [
    "rmse_train_decision_tree = root_mean_squared_error(y_train, data_train_dt['dt_train'])\n",
    "rmse_test_decision_tree = root_mean_squared_error(y_test, data_test_dt['dt_test'])"
   ]
  },
  {
   "cell_type": "code",
   "execution_count": 114,
   "metadata": {},
   "outputs": [
    {
     "data": {
      "text/plain": [
       "(np.float64(1031.2753933090378), np.float64(1042.951677787198))"
      ]
     },
     "execution_count": 114,
     "metadata": {},
     "output_type": "execute_result"
    }
   ],
   "source": [
    "rmse_train_decision_tree, rmse_test_decision_tree"
   ]
  },
  {
   "cell_type": "markdown",
   "metadata": {},
   "source": [
    "**Вставьте свои показатели в таблицы result_MAE и result_RMSE с названием модели \"Decision Tree\"**"
   ]
  },
  {
   "cell_type": "code",
   "execution_count": 115,
   "metadata": {},
   "outputs": [],
   "source": [
    "result_MAE.loc[1] = ['Decision Tree', mae_train_decision_tree, mae_test_decision_tree]"
   ]
  },
  {
   "cell_type": "code",
   "execution_count": 116,
   "metadata": {},
   "outputs": [],
   "source": [
    "result_RMSE.loc[1] = ['Decision Tree', rmse_train_decision_tree, rmse_test_decision_tree]"
   ]
  },
  {
   "cell_type": "markdown",
   "metadata": {},
   "source": [
    "### 5.4 Собственные модели "
   ]
  },
  {
   "cell_type": "markdown",
   "metadata": {},
   "source": [
    "**Вычислите среднее и медианное значение «цены» для обучающих и тестовых данных и создайте столбцы с этими значениями**"
   ]
  },
  {
   "cell_type": "code",
   "execution_count": 117,
   "metadata": {},
   "outputs": [],
   "source": [
    "data_mean_median_train = pd.DataFrame()\n",
    "data_mean_median_test = pd.DataFrame()"
   ]
  },
  {
   "cell_type": "code",
   "execution_count": 118,
   "metadata": {},
   "outputs": [],
   "source": [
    "data_mean_median_train['mean_train'] = [y_train.mean()] * len(X_train)\n",
    "data_mean_median_train['median_train'] = [y_train.median()] * len(X_train)\n",
    "data_mean_median_test['mean_test'] = [y_test.mean()] * len(X_test)\n",
    "data_mean_median_test['median_test'] = [y_test.median()] * len(X_test)"
   ]
  },
  {
   "cell_type": "markdown",
   "metadata": {},
   "source": [
    "**Рассчитайте MAE для тренировочных и тестовых целей между вашими целями и рассчитанными средними и медианными значениями**"
   ]
  },
  {
   "cell_type": "code",
   "execution_count": 119,
   "metadata": {},
   "outputs": [],
   "source": [
    "mean_mae_train = mean_absolute_error(y_train, data_mean_median_train['mean_train'])\n",
    "median_mae_train = mean_absolute_error(y_train, data_mean_median_train['median_train'])\n",
    "mean_mae_test = mean_absolute_error(y_test, data_mean_median_test['mean_test'])\n",
    "median_mae_test = mean_absolute_error(y_test, data_mean_median_test['median_test'])"
   ]
  },
  {
   "cell_type": "markdown",
   "metadata": {},
   "source": [
    "**Рассчитайте RMSE для тренировочных и тестовых целей между вашими целями и рассчитанными средними и медианными значениями**"
   ]
  },
  {
   "cell_type": "code",
   "execution_count": 120,
   "metadata": {},
   "outputs": [],
   "source": [
    "mean_rmse_train = root_mean_squared_error(y_train, data_mean_median_train['mean_train'])\n",
    "median_rmse_train = root_mean_squared_error(y_train, data_mean_median_train['median_train'])\n",
    "mean_rmse_test = root_mean_squared_error(y_test, data_mean_median_test['mean_test'])\n",
    "median_rmse_test = root_mean_squared_error(y_test, data_mean_median_test['median_test'])"
   ]
  },
  {
   "cell_type": "markdown",
   "metadata": {},
   "source": [
    "**Вставьте свои показатели в таблицы result_MAE и result_RMSE с названиями моделей «native_mean» и «native_median»**"
   ]
  },
  {
   "cell_type": "code",
   "execution_count": 121,
   "metadata": {},
   "outputs": [],
   "source": [
    "result_MAE = pd.concat([result_MAE, (pd.DataFrame({\n",
    "    'model': ['native_mean', 'native_median'],\n",
    "    'train': [mean_mae_train, median_mae_train],\n",
    "    'test': [mean_mae_test, median_mae_test]\n",
    "}))])"
   ]
  },
  {
   "cell_type": "code",
   "execution_count": 122,
   "metadata": {},
   "outputs": [],
   "source": [
    "result_RMSE = pd.concat([result_RMSE, (pd.DataFrame({\n",
    "    'model': ['native_mean', 'native_median'],\n",
    "    'train': [mean_rmse_train, median_rmse_train],\n",
    "    'test': [mean_rmse_test, median_rmse_test]\n",
    "}))])"
   ]
  },
  {
   "cell_type": "markdown",
   "metadata": {},
   "source": [
    "### 5.5 Сравните результаты "
   ]
  },
  {
   "cell_type": "markdown",
   "metadata": {},
   "source": [
    "**Выведите итоговые таблицы result_MAE и result_RMSE**"
   ]
  },
  {
   "cell_type": "code",
   "execution_count": 123,
   "metadata": {},
   "outputs": [
    {
     "data": {
      "text/html": [
       "<div>\n",
       "<style scoped>\n",
       "    .dataframe tbody tr th:only-of-type {\n",
       "        vertical-align: middle;\n",
       "    }\n",
       "\n",
       "    .dataframe tbody tr th {\n",
       "        vertical-align: top;\n",
       "    }\n",
       "\n",
       "    .dataframe thead th {\n",
       "        text-align: right;\n",
       "    }\n",
       "</style>\n",
       "<table border=\"1\" class=\"dataframe\">\n",
       "  <thead>\n",
       "    <tr style=\"text-align: right;\">\n",
       "      <th></th>\n",
       "      <th>model</th>\n",
       "      <th>train</th>\n",
       "      <th>test</th>\n",
       "    </tr>\n",
       "  </thead>\n",
       "  <tbody>\n",
       "    <tr>\n",
       "      <th>0</th>\n",
       "      <td>Linear Regression</td>\n",
       "      <td>721.858248</td>\n",
       "      <td>863.826032</td>\n",
       "    </tr>\n",
       "    <tr>\n",
       "      <th>1</th>\n",
       "      <td>Decision Tree</td>\n",
       "      <td>721.858239</td>\n",
       "      <td>724.501587</td>\n",
       "    </tr>\n",
       "    <tr>\n",
       "      <th>0</th>\n",
       "      <td>native_mean</td>\n",
       "      <td>1137.760556</td>\n",
       "      <td>1144.894703</td>\n",
       "    </tr>\n",
       "    <tr>\n",
       "      <th>1</th>\n",
       "      <td>native_median</td>\n",
       "      <td>1084.589257</td>\n",
       "      <td>1092.676933</td>\n",
       "    </tr>\n",
       "  </tbody>\n",
       "</table>\n",
       "</div>"
      ],
      "text/plain": [
       "               model        train         test\n",
       "0  Linear Regression   721.858248   863.826032\n",
       "1      Decision Tree   721.858239   724.501587\n",
       "0        native_mean  1137.760556  1144.894703\n",
       "1      native_median  1084.589257  1092.676933"
      ]
     },
     "execution_count": 123,
     "metadata": {},
     "output_type": "execute_result"
    }
   ],
   "source": [
    "result_MAE"
   ]
  },
  {
   "cell_type": "code",
   "execution_count": 124,
   "metadata": {},
   "outputs": [
    {
     "data": {
      "text/html": [
       "<div>\n",
       "<style scoped>\n",
       "    .dataframe tbody tr th:only-of-type {\n",
       "        vertical-align: middle;\n",
       "    }\n",
       "\n",
       "    .dataframe tbody tr th {\n",
       "        vertical-align: top;\n",
       "    }\n",
       "\n",
       "    .dataframe thead th {\n",
       "        text-align: right;\n",
       "    }\n",
       "</style>\n",
       "<table border=\"1\" class=\"dataframe\">\n",
       "  <thead>\n",
       "    <tr style=\"text-align: right;\">\n",
       "      <th></th>\n",
       "      <th>model</th>\n",
       "      <th>train</th>\n",
       "      <th>test</th>\n",
       "    </tr>\n",
       "  </thead>\n",
       "  <tbody>\n",
       "    <tr>\n",
       "      <th>0</th>\n",
       "      <td>Linear Regression</td>\n",
       "      <td>1031.275393</td>\n",
       "      <td>12221.253876</td>\n",
       "    </tr>\n",
       "    <tr>\n",
       "      <th>1</th>\n",
       "      <td>Decision Tree</td>\n",
       "      <td>1031.275393</td>\n",
       "      <td>1042.951678</td>\n",
       "    </tr>\n",
       "    <tr>\n",
       "      <th>0</th>\n",
       "      <td>native_mean</td>\n",
       "      <td>1599.229452</td>\n",
       "      <td>1591.287957</td>\n",
       "    </tr>\n",
       "    <tr>\n",
       "      <th>1</th>\n",
       "      <td>native_median</td>\n",
       "      <td>1645.449541</td>\n",
       "      <td>1635.717764</td>\n",
       "    </tr>\n",
       "  </tbody>\n",
       "</table>\n",
       "</div>"
      ],
      "text/plain": [
       "               model        train          test\n",
       "0  Linear Regression  1031.275393  12221.253876\n",
       "1      Decision Tree  1031.275393   1042.951678\n",
       "0        native_mean  1599.229452   1591.287957\n",
       "1      native_median  1645.449541   1635.717764"
      ]
     },
     "execution_count": 124,
     "metadata": {},
     "output_type": "execute_result"
    }
   ],
   "source": [
    "result_RMSE"
   ]
  },
  {
   "cell_type": "markdown",
   "metadata": {},
   "source": [
    "**Какая модель самая лучшая?**"
   ]
  },
  {
   "cell_type": "markdown",
   "metadata": {},
   "source": [
    "- Лучшая модель по MAE: Decision Tree (как на обучающей, так и на тестовой выборках).\n",
    "\n",
    "- Лучшая модель по RMSE: Decision Tree (на тестовой выборке), но Linear Regression имеет одинаковое значение RMSE на обучающей выборке.\n",
    "\n",
    "- Сравнивая результаты модели Linear Regression по метрикам MAE и RMSE. RMSE на тестовой выборке показывает худший результат среди всех моделей. Это связано с выбросами, которые могут сильно повлиять на RMSE, увеличивая его значение. RMSE более чувствителен к большим ошибкам, поскольок ошибки возводятся в квадрат. "
   ]
  }
 ],
 "metadata": {
  "kernelspec": {
   "display_name": "ml_s21",
   "language": "python",
   "name": "python3"
  },
  "language_info": {
   "codemirror_mode": {
    "name": "ipython",
    "version": 3
   },
   "file_extension": ".py",
   "mimetype": "text/x-python",
   "name": "python",
   "nbconvert_exporter": "python",
   "pygments_lexer": "ipython3",
   "version": "3.12.2"
  }
 },
 "nbformat": 4,
 "nbformat_minor": 4
}
