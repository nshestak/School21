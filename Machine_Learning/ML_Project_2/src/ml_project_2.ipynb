{
 "cells": [
  {
   "cell_type": "code",
   "execution_count": 1,
   "metadata": {},
   "outputs": [],
   "source": [
    "# 1. Ответы на вопросы"
   ]
  },
  {
   "cell_type": "markdown",
   "metadata": {},
   "source": [
    "### 1.1 Найдите аналитическое решение задачи о регрессии. Используйте векторную форму уравнения.\n",
    "\n",
    "  Векторная форма:\n",
    "\n",
    "  - $y=Xw+e$\n",
    "    - $y$ - вектор наблюдаемых значений зависимой переменной (размерности $n×1$);\n",
    "    - $X$ - матрица признаков (размерности $n×m$), где $n$ — количество наблюдений, а $m$ — количество признаков;\n",
    "    - $w$ - вектор коэффициентов регрессии (размерности $m×1$);\n",
    "    - $e$ - вектор ошибок (размерности $n×1$);\n",
    "\n",
    "  _Цель состоит в нахождении вектора коэффициентов $w$, который минимизирует сумму квадратов ошибок (метод наименьших квадратов, МНК)._\n",
    "\n",
    "  Функция потерь для метода наименьших квадратов записывается как:\n",
    "\n",
    "  - $L(w)=∥y−Xw∥^2=(y−Xw)^⊤(y−Xw)$\n",
    "  \n",
    "  _Для минимизации этой функции необходимо найти $w$, при котором $L(w)$ достигает минимума._\n",
    "\n",
    "  Вектор коэффициентов $w$, который минимизирует сумму квадратов ошибок, вычисляется по формуле:\n",
    "\n",
    "  - $w=(X^TX)^{−1}X^Ty$\n",
    "    - $X^⊤X$: Это матрица, которая учитывает взаимосвязи между признаками (столбцами матрицы $X$);\n",
    "    - $X^⊤y$: Это вектор, который показывает, как признаки $X$ связаны с целевой переменной $y$;\n",
    "    - $(X^⊤X)^−1$: Это обратная матрица, которая \"убирает\" влияние корреляции между признаками, чтобы найти оптимальные коэффициенты $w$."
   ]
  },
  {
   "cell_type": "markdown",
   "metadata": {},
   "source": [
    "### 1.2 Что меняется в решении при добавлении регуляризации L1 и L2 к функции потерь.\n",
    "\n",
    "  **L2** - Гребневая регрессия\n",
    "\n",
    "  Добавляет к линейной регрессии дополнительное смещение в виде штрафа, отчего та хуже подгоняется к данным.\n",
    "\n",
    "  Функция потерь с $L_2$:\n",
    "\n",
    "  - $L(w)=||y - Xw||^2 + λ||w||^2_2$\n",
    "\n",
    "  Аналитическое решение:\n",
    "  \n",
    "  - $w = (X^T X + λI)^{-1} X^T y$\n",
    "    - $λ$ - коэффициент регуляризации L2;\n",
    "    - $I$ - единичная матрица;\n",
    "\n",
    "  **Решение становится более устойчивым, коэффициенты $w$ уменьшаются, но все признаки остаются в модели.**\n",
    "\n",
    "  **L1** - Лассо-регрессия\n",
    "  \n",
    "  Лассо-регрессия стремится полностью исключить веса наименее важных признаков (т.е. устанавливая их в 0) и выдает разреженную модель с несколькими ненулевыми весами объектов.\n",
    "  \n",
    "  Функция потерь с $L_1$:\n",
    "\n",
    "  - $L(w)=||y - Xw||^2 + λ||w||_1$\n",
    "\n",
    "  Аналитическое решение:\n",
    "\n",
    "  - Становится недоступным из за недифференцируемости функции в точках, где $w_i=0$.\n",
    "\n",
    "**Некоторые коэффициенты $w$ становятся равными нулю, что упрощает модель и делает её разреженной**\n"
   ]
  },
  {
   "cell_type": "markdown",
   "metadata": {},
   "source": [
    "### 1.3 Объясните, почему регуляризация L1 обычно используется для выбора объектов. Почему существует множество весов, которые равны 0 после подгонки модели?\n",
    "\n",
    "1. **Почему регуляризация L1 обычно используется для выбора объектов?**\n",
    "\n",
    "    -  $L_1$​ регуляризация добавляет штраф, пропорциональный сумме абсолютных значений весов (коэффициентов) модели. Приводит к уменьшению весов до нуля (исключение признаков).\n",
    "  \n",
    "2. **Почему существует множество весов, которые равны 0 после подгонки модели?**\n",
    "   \n",
    "   - **Свойство абсолютной величины**;\n",
    "   - **Интерпретируемость** (выбирает один из корреляирующий признаков, остальные приводит к 0);\n",
    "   - **Разреженность модели** (создает модели, где многие веса равны нулю, когда данные содержат много нерелевантных или избыточных признаков);"
   ]
  },
  {
   "cell_type": "markdown",
   "metadata": {},
   "source": [
    "### 1.4 Объясните, как вы можете использовать одни и те же модели (линейная регрессия, гребневая и т.д.), но сделать возможным подгонку под нелинейные зависимости?\n",
    "\n",
    "Линейные модели могут быть адаптированы для подгонки под нелинейные зависимости с помощью \n",
    "- преобразования признаков; \n",
    "- добавления взаимодействий; \n",
    "- применения регуляризации; \n",
    "- комбинирование моделей;\n"
   ]
  },
  {
   "cell_type": "markdown",
   "metadata": {},
   "source": [
    "# 2. Введение "
   ]
  },
  {
   "cell_type": "markdown",
   "metadata": {},
   "source": [
    "### 2.1 Импорт библиотек."
   ]
  },
  {
   "cell_type": "code",
   "execution_count": 2,
   "metadata": {},
   "outputs": [],
   "source": [
    "import pandas as pd\n",
    "import numpy as np\n",
    "import matplotlib.pyplot as plt\n",
    "\n",
    "from sklearn.model_selection import train_test_split\n",
    "from sklearn.linear_model import LinearRegression, Ridge, Lasso, ElasticNet\n",
    "from sklearn.metrics import mean_absolute_error, root_mean_squared_error, r2_score\n",
    "\n",
    "from collections import Counter"
   ]
  },
  {
   "cell_type": "markdown",
   "metadata": {},
   "source": [
    "### 2.2 Прочитайте обучающие и тестовые части."
   ]
  },
  {
   "cell_type": "code",
   "execution_count": 3,
   "metadata": {},
   "outputs": [],
   "source": [
    "df_train = pd.read_json('data/train.json.zip', compression='zip')\n",
    "df_test = pd.read_json('data/test.json.zip', compression='zip')"
   ]
  },
  {
   "cell_type": "code",
   "execution_count": 4,
   "metadata": {},
   "outputs": [
    {
     "data": {
      "text/html": [
       "<div>\n",
       "<style scoped>\n",
       "    .dataframe tbody tr th:only-of-type {\n",
       "        vertical-align: middle;\n",
       "    }\n",
       "\n",
       "    .dataframe tbody tr th {\n",
       "        vertical-align: top;\n",
       "    }\n",
       "\n",
       "    .dataframe thead th {\n",
       "        text-align: right;\n",
       "    }\n",
       "</style>\n",
       "<table border=\"1\" class=\"dataframe\">\n",
       "  <thead>\n",
       "    <tr style=\"text-align: right;\">\n",
       "      <th></th>\n",
       "      <th>bathrooms</th>\n",
       "      <th>bedrooms</th>\n",
       "      <th>building_id</th>\n",
       "      <th>created</th>\n",
       "      <th>description</th>\n",
       "      <th>display_address</th>\n",
       "      <th>features</th>\n",
       "      <th>latitude</th>\n",
       "      <th>listing_id</th>\n",
       "      <th>longitude</th>\n",
       "      <th>manager_id</th>\n",
       "      <th>photos</th>\n",
       "      <th>price</th>\n",
       "      <th>street_address</th>\n",
       "      <th>interest_level</th>\n",
       "    </tr>\n",
       "  </thead>\n",
       "  <tbody>\n",
       "    <tr>\n",
       "      <th>4</th>\n",
       "      <td>1.0</td>\n",
       "      <td>1</td>\n",
       "      <td>8579a0b0d54db803821a35a4a615e97a</td>\n",
       "      <td>2016-06-16 05:55:27</td>\n",
       "      <td>Spacious 1 Bedroom 1 Bathroom in Williamsburg!...</td>\n",
       "      <td>145 Borinquen Place</td>\n",
       "      <td>[Dining Room, Pre-War, Laundry in Building, Di...</td>\n",
       "      <td>40.7108</td>\n",
       "      <td>7170325</td>\n",
       "      <td>-73.9539</td>\n",
       "      <td>a10db4590843d78c784171a107bdacb4</td>\n",
       "      <td>[https://photos.renthop.com/2/7170325_3bb5ac84...</td>\n",
       "      <td>2400</td>\n",
       "      <td>145 Borinquen Place</td>\n",
       "      <td>medium</td>\n",
       "    </tr>\n",
       "    <tr>\n",
       "      <th>6</th>\n",
       "      <td>1.0</td>\n",
       "      <td>2</td>\n",
       "      <td>b8e75fc949a6cd8225b455648a951712</td>\n",
       "      <td>2016-06-01 05:44:33</td>\n",
       "      <td>BRAND NEW GUT RENOVATED TRUE 2 BEDROOMFind you...</td>\n",
       "      <td>East 44th</td>\n",
       "      <td>[Doorman, Elevator, Laundry in Building, Dishw...</td>\n",
       "      <td>40.7513</td>\n",
       "      <td>7092344</td>\n",
       "      <td>-73.9722</td>\n",
       "      <td>955db33477af4f40004820b4aed804a0</td>\n",
       "      <td>[https://photos.renthop.com/2/7092344_7663c19a...</td>\n",
       "      <td>3800</td>\n",
       "      <td>230 East 44th</td>\n",
       "      <td>low</td>\n",
       "    </tr>\n",
       "  </tbody>\n",
       "</table>\n",
       "</div>"
      ],
      "text/plain": [
       "   bathrooms  bedrooms                       building_id              created  \\\n",
       "4        1.0         1  8579a0b0d54db803821a35a4a615e97a  2016-06-16 05:55:27   \n",
       "6        1.0         2  b8e75fc949a6cd8225b455648a951712  2016-06-01 05:44:33   \n",
       "\n",
       "                                         description      display_address  \\\n",
       "4  Spacious 1 Bedroom 1 Bathroom in Williamsburg!...  145 Borinquen Place   \n",
       "6  BRAND NEW GUT RENOVATED TRUE 2 BEDROOMFind you...            East 44th   \n",
       "\n",
       "                                            features  latitude  listing_id  \\\n",
       "4  [Dining Room, Pre-War, Laundry in Building, Di...   40.7108     7170325   \n",
       "6  [Doorman, Elevator, Laundry in Building, Dishw...   40.7513     7092344   \n",
       "\n",
       "   longitude                        manager_id  \\\n",
       "4   -73.9539  a10db4590843d78c784171a107bdacb4   \n",
       "6   -73.9722  955db33477af4f40004820b4aed804a0   \n",
       "\n",
       "                                              photos  price  \\\n",
       "4  [https://photos.renthop.com/2/7170325_3bb5ac84...   2400   \n",
       "6  [https://photos.renthop.com/2/7092344_7663c19a...   3800   \n",
       "\n",
       "        street_address interest_level  \n",
       "4  145 Borinquen Place         medium  \n",
       "6        230 East 44th            low  "
      ]
     },
     "execution_count": 4,
     "metadata": {},
     "output_type": "execute_result"
    }
   ],
   "source": [
    "df_train.head(2)"
   ]
  },
  {
   "cell_type": "code",
   "execution_count": 5,
   "metadata": {},
   "outputs": [
    {
     "data": {
      "text/html": [
       "<div>\n",
       "<style scoped>\n",
       "    .dataframe tbody tr th:only-of-type {\n",
       "        vertical-align: middle;\n",
       "    }\n",
       "\n",
       "    .dataframe tbody tr th {\n",
       "        vertical-align: top;\n",
       "    }\n",
       "\n",
       "    .dataframe thead th {\n",
       "        text-align: right;\n",
       "    }\n",
       "</style>\n",
       "<table border=\"1\" class=\"dataframe\">\n",
       "  <thead>\n",
       "    <tr style=\"text-align: right;\">\n",
       "      <th></th>\n",
       "      <th>bathrooms</th>\n",
       "      <th>bedrooms</th>\n",
       "      <th>building_id</th>\n",
       "      <th>created</th>\n",
       "      <th>description</th>\n",
       "      <th>display_address</th>\n",
       "      <th>features</th>\n",
       "      <th>latitude</th>\n",
       "      <th>listing_id</th>\n",
       "      <th>longitude</th>\n",
       "      <th>manager_id</th>\n",
       "      <th>photos</th>\n",
       "      <th>price</th>\n",
       "      <th>street_address</th>\n",
       "    </tr>\n",
       "  </thead>\n",
       "  <tbody>\n",
       "    <tr>\n",
       "      <th>0</th>\n",
       "      <td>1.0</td>\n",
       "      <td>1</td>\n",
       "      <td>79780be1514f645d7e6be99a3de696c5</td>\n",
       "      <td>2016-06-11 05:29:41</td>\n",
       "      <td>Large with awesome terrace--accessible via bed...</td>\n",
       "      <td>Suffolk Street</td>\n",
       "      <td>[Elevator, Laundry in Building, Laundry in Uni...</td>\n",
       "      <td>40.7185</td>\n",
       "      <td>7142618</td>\n",
       "      <td>-73.9865</td>\n",
       "      <td>b1b1852c416d78d7765d746cb1b8921f</td>\n",
       "      <td>[https://photos.renthop.com/2/7142618_1c45a2c8...</td>\n",
       "      <td>2950</td>\n",
       "      <td>99 Suffolk Street</td>\n",
       "    </tr>\n",
       "    <tr>\n",
       "      <th>1</th>\n",
       "      <td>1.0</td>\n",
       "      <td>2</td>\n",
       "      <td>0</td>\n",
       "      <td>2016-06-24 06:36:34</td>\n",
       "      <td>Prime Soho - between Bleecker and Houston - Ne...</td>\n",
       "      <td>Thompson Street</td>\n",
       "      <td>[Pre-War, Dogs Allowed, Cats Allowed]</td>\n",
       "      <td>40.7278</td>\n",
       "      <td>7210040</td>\n",
       "      <td>-74.0000</td>\n",
       "      <td>d0b5648017832b2427eeb9956d966a14</td>\n",
       "      <td>[https://photos.renthop.com/2/7210040_d824cc71...</td>\n",
       "      <td>2850</td>\n",
       "      <td>176 Thompson Street</td>\n",
       "    </tr>\n",
       "  </tbody>\n",
       "</table>\n",
       "</div>"
      ],
      "text/plain": [
       "   bathrooms  bedrooms                       building_id              created  \\\n",
       "0        1.0         1  79780be1514f645d7e6be99a3de696c5  2016-06-11 05:29:41   \n",
       "1        1.0         2                                 0  2016-06-24 06:36:34   \n",
       "\n",
       "                                         description  display_address  \\\n",
       "0  Large with awesome terrace--accessible via bed...   Suffolk Street   \n",
       "1  Prime Soho - between Bleecker and Houston - Ne...  Thompson Street   \n",
       "\n",
       "                                            features  latitude  listing_id  \\\n",
       "0  [Elevator, Laundry in Building, Laundry in Uni...   40.7185     7142618   \n",
       "1              [Pre-War, Dogs Allowed, Cats Allowed]   40.7278     7210040   \n",
       "\n",
       "   longitude                        manager_id  \\\n",
       "0   -73.9865  b1b1852c416d78d7765d746cb1b8921f   \n",
       "1   -74.0000  d0b5648017832b2427eeb9956d966a14   \n",
       "\n",
       "                                              photos  price  \\\n",
       "0  [https://photos.renthop.com/2/7142618_1c45a2c8...   2950   \n",
       "1  [https://photos.renthop.com/2/7210040_d824cc71...   2850   \n",
       "\n",
       "        street_address  \n",
       "0    99 Suffolk Street  \n",
       "1  176 Thompson Street  "
      ]
     },
     "execution_count": 5,
     "metadata": {},
     "output_type": "execute_result"
    }
   ],
   "source": [
    "df_test.head(2)"
   ]
  },
  {
   "cell_type": "markdown",
   "metadata": {},
   "source": [
    "### 2.3 Функция предварительной обработки 'interest_level'."
   ]
  },
  {
   "cell_type": "code",
   "execution_count": 6,
   "metadata": {},
   "outputs": [],
   "source": [
    "df_copy = df_train.copy() "
   ]
  },
  {
   "cell_type": "code",
   "execution_count": 7,
   "metadata": {},
   "outputs": [
    {
     "name": "stderr",
     "output_type": "stream",
     "text": [
      "/tmp/ipykernel_19957/2233018344.py:1: FutureWarning: Downcasting behavior in `replace` is deprecated and will be removed in a future version. To retain the old behavior, explicitly call `result.infer_objects(copy=False)`. To opt-in to the future behavior, set `pd.set_option('future.no_silent_downcasting', True)`\n",
      "  df_copy['interest_level'] = df_copy['interest_level'].replace({'low': 0, 'medium': 1, 'high': 2}) # Заменяем значения\n"
     ]
    },
    {
     "data": {
      "text/plain": [
       "4         1\n",
       "6         0\n",
       "9         1\n",
       "10        1\n",
       "15        0\n",
       "         ..\n",
       "124000    0\n",
       "124002    1\n",
       "124004    1\n",
       "124008    1\n",
       "124009    2\n",
       "Name: interest_level, Length: 49352, dtype: int64"
      ]
     },
     "execution_count": 7,
     "metadata": {},
     "output_type": "execute_result"
    }
   ],
   "source": [
    "df_copy['interest_level'] = df_copy['interest_level'].replace({'low': 0, 'medium': 1, 'high': 2}) # Заменяем значения\n",
    "df_copy['interest_level']"
   ]
  },
  {
   "cell_type": "markdown",
   "metadata": {},
   "source": [
    "# 3. Вводный анализ данных"
   ]
  },
  {
   "cell_type": "markdown",
   "metadata": {},
   "source": [
    "### 3.1 Давайте создадим дополнительные функции для повышения качества модели. Рассмотрим столбец под названием \"features\". Он состоит из списка основных характеристик текущей квартиры."
   ]
  },
  {
   "cell_type": "code",
   "execution_count": 8,
   "metadata": {},
   "outputs": [
    {
     "data": {
      "text/plain": [
       "4         [Dining Room, Pre-War, Laundry in Building, Di...\n",
       "6         [Doorman, Elevator, Laundry in Building, Dishw...\n",
       "9         [Doorman, Elevator, Laundry in Building, Laund...\n",
       "10                                                       []\n",
       "15        [Doorman, Elevator, Fitness Center, Laundry in...\n",
       "                                ...                        \n",
       "124000              [Elevator, Dishwasher, Hardwood Floors]\n",
       "124002    [Common Outdoor Space, Cats Allowed, Dogs Allo...\n",
       "124004    [Dining Room, Elevator, Pre-War, Laundry in Bu...\n",
       "124008    [Pre-War, Laundry in Unit, Dishwasher, No Fee,...\n",
       "124009    [Dining Room, Elevator, Laundry in Building, D...\n",
       "Name: features, Length: 49352, dtype: object"
      ]
     },
     "execution_count": 8,
     "metadata": {},
     "output_type": "execute_result"
    }
   ],
   "source": [
    "df_copy['features']"
   ]
  },
  {
   "cell_type": "code",
   "execution_count": 9,
   "metadata": {},
   "outputs": [
    {
     "name": "stdout",
     "output_type": "stream",
     "text": [
      "3218\n"
     ]
    }
   ],
   "source": [
    "empty_count = df_copy['features'].apply(lambda x: len(x) == 0).sum() # Кол-во пустых значений\n",
    "print(empty_count)"
   ]
  },
  {
   "cell_type": "markdown",
   "metadata": {},
   "source": [
    "### 3.2 Удалите неиспользуемые символы ([,],’,” и пробел) из столбца.\n",
    "\n",
    "- Таких символов нет в данных"
   ]
  },
  {
   "cell_type": "markdown",
   "metadata": {},
   "source": [
    "### 3.3 Разделите значения в каждой строке с помощью разделителя «,”» и соберите результат в один большой список для всего набора данных. Вы можете использовать DataFrame.iterrows().\n",
    "### 3.4 Сколько уникальных значений содержится в списке результатов?"
   ]
  },
  {
   "cell_type": "code",
   "execution_count": 10,
   "metadata": {},
   "outputs": [
    {
     "data": {
      "text/plain": [
       "1556"
      ]
     },
     "execution_count": 10,
     "metadata": {},
     "output_type": "execute_result"
    }
   ],
   "source": [
    "all_features = [] # Список характеристик\n",
    "\n",
    "for index, row in df_copy.iterrows(): # Итерация по df_copy\n",
    "    all_features.extend(row['features'])\n",
    "\n",
    "len(set(all_features)) # Вывод уникальных значений"
   ]
  },
  {
   "cell_type": "markdown",
   "metadata": {},
   "source": [
    "### 3.5 Давайте познакомимся с новой библиотекой — Collections. С помощью этого пакета вы сможете эффективно получать количественную статистику по вашим данным.\n",
    "### 3.6 Подсчитайте самые популярные функции из нашего огромного списка и выберите 20 лучших на данный момент."
   ]
  },
  {
   "cell_type": "markdown",
   "metadata": {},
   "source": [
    "### 3.7 Если все правильно, вы должны получить следующие значения: 'Elevator', 'Hardwoodf_copyloors', 'CatsAllowed', 'DogsAllowed', 'Doorman', 'Dishwasher', 'NoFee', 'LaundryinBuilding', 'FitnessCenter', 'Pre-War', 'LaundryinUnit', 'RoofDeck', 'OutdoorSpace', 'DiningRoom', 'HighSpeedInternet', 'Balcony', 'SwimmingPool', 'LaundryInBuilding', 'NewConstruction', 'Terrace'"
   ]
  },
  {
   "cell_type": "code",
   "execution_count": 11,
   "metadata": {},
   "outputs": [
    {
     "data": {
      "text/plain": [
       "[('Elevator', 25915),\n",
       " ('Cats Allowed', 23540),\n",
       " ('Hardwood Floors', 23527),\n",
       " ('Dogs Allowed', 22035),\n",
       " ('Doorman', 20898),\n",
       " ('Dishwasher', 20426),\n",
       " ('No Fee', 18062),\n",
       " ('Laundry in Building', 16344),\n",
       " ('Fitness Center', 13252),\n",
       " ('Pre-War', 9148),\n",
       " ('Laundry in Unit', 8738),\n",
       " ('Roof Deck', 6542),\n",
       " ('Outdoor Space', 5268),\n",
       " ('Dining Room', 5136),\n",
       " ('High Speed Internet', 4299),\n",
       " ('Balcony', 2992),\n",
       " ('Swimming Pool', 2730),\n",
       " ('Laundry In Building', 2593),\n",
       " ('New Construction', 2559),\n",
       " ('Terrace', 2283)]"
      ]
     },
     "execution_count": 11,
     "metadata": {},
     "output_type": "execute_result"
    }
   ],
   "source": [
    "top_features = Counter(all_features).most_common(20)\n",
    "top_features"
   ]
  },
  {
   "cell_type": "markdown",
   "metadata": {},
   "source": [
    "### 3.8 Теперь сгенерируйте 20 новых признаков на основе 20 лучших значений: 1, если значение в столбце \"feature\", иначе 0."
   ]
  },
  {
   "cell_type": "code",
   "execution_count": 12,
   "metadata": {},
   "outputs": [],
   "source": [
    "df = pd.DataFrame() # Создадим новый датафрейм"
   ]
  },
  {
   "cell_type": "code",
   "execution_count": 13,
   "metadata": {},
   "outputs": [],
   "source": [
    "for feature, count in top_features:\n",
    "    df[feature] = df_copy['features'].apply(lambda x: 1 if feature in x else 0) "
   ]
  },
  {
   "cell_type": "code",
   "execution_count": 14,
   "metadata": {},
   "outputs": [
    {
     "data": {
      "text/html": [
       "<div>\n",
       "<style scoped>\n",
       "    .dataframe tbody tr th:only-of-type {\n",
       "        vertical-align: middle;\n",
       "    }\n",
       "\n",
       "    .dataframe tbody tr th {\n",
       "        vertical-align: top;\n",
       "    }\n",
       "\n",
       "    .dataframe thead th {\n",
       "        text-align: right;\n",
       "    }\n",
       "</style>\n",
       "<table border=\"1\" class=\"dataframe\">\n",
       "  <thead>\n",
       "    <tr style=\"text-align: right;\">\n",
       "      <th></th>\n",
       "      <th>Elevator</th>\n",
       "      <th>Cats Allowed</th>\n",
       "      <th>Hardwood Floors</th>\n",
       "      <th>Dogs Allowed</th>\n",
       "      <th>Doorman</th>\n",
       "      <th>Dishwasher</th>\n",
       "      <th>No Fee</th>\n",
       "      <th>Laundry in Building</th>\n",
       "      <th>Fitness Center</th>\n",
       "      <th>Pre-War</th>\n",
       "      <th>Laundry in Unit</th>\n",
       "      <th>Roof Deck</th>\n",
       "      <th>Outdoor Space</th>\n",
       "      <th>Dining Room</th>\n",
       "      <th>High Speed Internet</th>\n",
       "      <th>Balcony</th>\n",
       "      <th>Swimming Pool</th>\n",
       "      <th>Laundry In Building</th>\n",
       "      <th>New Construction</th>\n",
       "      <th>Terrace</th>\n",
       "    </tr>\n",
       "  </thead>\n",
       "  <tbody>\n",
       "    <tr>\n",
       "      <th>4</th>\n",
       "      <td>0</td>\n",
       "      <td>1</td>\n",
       "      <td>1</td>\n",
       "      <td>1</td>\n",
       "      <td>0</td>\n",
       "      <td>1</td>\n",
       "      <td>0</td>\n",
       "      <td>1</td>\n",
       "      <td>0</td>\n",
       "      <td>1</td>\n",
       "      <td>0</td>\n",
       "      <td>0</td>\n",
       "      <td>0</td>\n",
       "      <td>1</td>\n",
       "      <td>0</td>\n",
       "      <td>0</td>\n",
       "      <td>0</td>\n",
       "      <td>0</td>\n",
       "      <td>0</td>\n",
       "      <td>0</td>\n",
       "    </tr>\n",
       "    <tr>\n",
       "      <th>6</th>\n",
       "      <td>1</td>\n",
       "      <td>0</td>\n",
       "      <td>1</td>\n",
       "      <td>0</td>\n",
       "      <td>1</td>\n",
       "      <td>1</td>\n",
       "      <td>1</td>\n",
       "      <td>1</td>\n",
       "      <td>0</td>\n",
       "      <td>0</td>\n",
       "      <td>0</td>\n",
       "      <td>0</td>\n",
       "      <td>0</td>\n",
       "      <td>0</td>\n",
       "      <td>0</td>\n",
       "      <td>0</td>\n",
       "      <td>0</td>\n",
       "      <td>0</td>\n",
       "      <td>0</td>\n",
       "      <td>0</td>\n",
       "    </tr>\n",
       "    <tr>\n",
       "      <th>9</th>\n",
       "      <td>1</td>\n",
       "      <td>0</td>\n",
       "      <td>1</td>\n",
       "      <td>0</td>\n",
       "      <td>1</td>\n",
       "      <td>1</td>\n",
       "      <td>0</td>\n",
       "      <td>1</td>\n",
       "      <td>0</td>\n",
       "      <td>0</td>\n",
       "      <td>1</td>\n",
       "      <td>0</td>\n",
       "      <td>0</td>\n",
       "      <td>0</td>\n",
       "      <td>0</td>\n",
       "      <td>0</td>\n",
       "      <td>0</td>\n",
       "      <td>0</td>\n",
       "      <td>0</td>\n",
       "      <td>0</td>\n",
       "    </tr>\n",
       "    <tr>\n",
       "      <th>10</th>\n",
       "      <td>0</td>\n",
       "      <td>0</td>\n",
       "      <td>0</td>\n",
       "      <td>0</td>\n",
       "      <td>0</td>\n",
       "      <td>0</td>\n",
       "      <td>0</td>\n",
       "      <td>0</td>\n",
       "      <td>0</td>\n",
       "      <td>0</td>\n",
       "      <td>0</td>\n",
       "      <td>0</td>\n",
       "      <td>0</td>\n",
       "      <td>0</td>\n",
       "      <td>0</td>\n",
       "      <td>0</td>\n",
       "      <td>0</td>\n",
       "      <td>0</td>\n",
       "      <td>0</td>\n",
       "      <td>0</td>\n",
       "    </tr>\n",
       "    <tr>\n",
       "      <th>15</th>\n",
       "      <td>1</td>\n",
       "      <td>0</td>\n",
       "      <td>0</td>\n",
       "      <td>0</td>\n",
       "      <td>1</td>\n",
       "      <td>0</td>\n",
       "      <td>0</td>\n",
       "      <td>1</td>\n",
       "      <td>1</td>\n",
       "      <td>0</td>\n",
       "      <td>0</td>\n",
       "      <td>0</td>\n",
       "      <td>0</td>\n",
       "      <td>0</td>\n",
       "      <td>0</td>\n",
       "      <td>0</td>\n",
       "      <td>0</td>\n",
       "      <td>0</td>\n",
       "      <td>0</td>\n",
       "      <td>0</td>\n",
       "    </tr>\n",
       "  </tbody>\n",
       "</table>\n",
       "</div>"
      ],
      "text/plain": [
       "    Elevator  Cats Allowed  Hardwood Floors  Dogs Allowed  Doorman  \\\n",
       "4          0             1                1             1        0   \n",
       "6          1             0                1             0        1   \n",
       "9          1             0                1             0        1   \n",
       "10         0             0                0             0        0   \n",
       "15         1             0                0             0        1   \n",
       "\n",
       "    Dishwasher  No Fee  Laundry in Building  Fitness Center  Pre-War  \\\n",
       "4            1       0                    1               0        1   \n",
       "6            1       1                    1               0        0   \n",
       "9            1       0                    1               0        0   \n",
       "10           0       0                    0               0        0   \n",
       "15           0       0                    1               1        0   \n",
       "\n",
       "    Laundry in Unit  Roof Deck  Outdoor Space  Dining Room  \\\n",
       "4                 0          0              0            1   \n",
       "6                 0          0              0            0   \n",
       "9                 1          0              0            0   \n",
       "10                0          0              0            0   \n",
       "15                0          0              0            0   \n",
       "\n",
       "    High Speed Internet  Balcony  Swimming Pool  Laundry In Building  \\\n",
       "4                     0        0              0                    0   \n",
       "6                     0        0              0                    0   \n",
       "9                     0        0              0                    0   \n",
       "10                    0        0              0                    0   \n",
       "15                    0        0              0                    0   \n",
       "\n",
       "    New Construction  Terrace  \n",
       "4                  0        0  \n",
       "6                  0        0  \n",
       "9                  0        0  \n",
       "10                 0        0  \n",
       "15                 0        0  "
      ]
     },
     "execution_count": 14,
     "metadata": {},
     "output_type": "execute_result"
    }
   ],
   "source": [
    "df.head()"
   ]
  },
  {
   "cell_type": "markdown",
   "metadata": {},
   "source": [
    "### 3.9 Расширим набор функций, добавив 'bathrooms',  'bedrooms', 'interest_level' и создадим специальную переменную feature_list со всеми названиями функций. Теперь у нас 23 значения. Все модели должны быть обучены на этих 23 функциях."
   ]
  },
  {
   "cell_type": "code",
   "execution_count": 15,
   "metadata": {},
   "outputs": [],
   "source": [
    "df = pd.concat([df, df_copy[['bathrooms',  'bedrooms', 'interest_level', 'price']]], axis=1)"
   ]
  },
  {
   "cell_type": "code",
   "execution_count": 16,
   "metadata": {},
   "outputs": [
    {
     "name": "stdout",
     "output_type": "stream",
     "text": [
      "<class 'pandas.core.frame.DataFrame'>\n",
      "Index: 49352 entries, 4 to 124009\n",
      "Data columns (total 24 columns):\n",
      " #   Column               Non-Null Count  Dtype  \n",
      "---  ------               --------------  -----  \n",
      " 0   Elevator             49352 non-null  int64  \n",
      " 1   Cats Allowed         49352 non-null  int64  \n",
      " 2   Hardwood Floors      49352 non-null  int64  \n",
      " 3   Dogs Allowed         49352 non-null  int64  \n",
      " 4   Doorman              49352 non-null  int64  \n",
      " 5   Dishwasher           49352 non-null  int64  \n",
      " 6   No Fee               49352 non-null  int64  \n",
      " 7   Laundry in Building  49352 non-null  int64  \n",
      " 8   Fitness Center       49352 non-null  int64  \n",
      " 9   Pre-War              49352 non-null  int64  \n",
      " 10  Laundry in Unit      49352 non-null  int64  \n",
      " 11  Roof Deck            49352 non-null  int64  \n",
      " 12  Outdoor Space        49352 non-null  int64  \n",
      " 13  Dining Room          49352 non-null  int64  \n",
      " 14  High Speed Internet  49352 non-null  int64  \n",
      " 15  Balcony              49352 non-null  int64  \n",
      " 16  Swimming Pool        49352 non-null  int64  \n",
      " 17  Laundry In Building  49352 non-null  int64  \n",
      " 18  New Construction     49352 non-null  int64  \n",
      " 19  Terrace              49352 non-null  int64  \n",
      " 20  bathrooms            49352 non-null  float64\n",
      " 21  bedrooms             49352 non-null  int64  \n",
      " 22  interest_level       49352 non-null  int64  \n",
      " 23  price                49352 non-null  int64  \n",
      "dtypes: float64(1), int64(23)\n",
      "memory usage: 9.4 MB\n"
     ]
    }
   ],
   "source": [
    "df.info()"
   ]
  },
  {
   "cell_type": "code",
   "execution_count": 17,
   "metadata": {},
   "outputs": [
    {
     "data": {
      "text/html": [
       "<div>\n",
       "<style scoped>\n",
       "    .dataframe tbody tr th:only-of-type {\n",
       "        vertical-align: middle;\n",
       "    }\n",
       "\n",
       "    .dataframe tbody tr th {\n",
       "        vertical-align: top;\n",
       "    }\n",
       "\n",
       "    .dataframe thead th {\n",
       "        text-align: right;\n",
       "    }\n",
       "</style>\n",
       "<table border=\"1\" class=\"dataframe\">\n",
       "  <thead>\n",
       "    <tr style=\"text-align: right;\">\n",
       "      <th></th>\n",
       "      <th>Elevator</th>\n",
       "      <th>Cats Allowed</th>\n",
       "      <th>Hardwood Floors</th>\n",
       "      <th>Dogs Allowed</th>\n",
       "      <th>Doorman</th>\n",
       "      <th>Dishwasher</th>\n",
       "      <th>No Fee</th>\n",
       "      <th>Laundry in Building</th>\n",
       "      <th>Fitness Center</th>\n",
       "      <th>Pre-War</th>\n",
       "      <th>...</th>\n",
       "      <th>High Speed Internet</th>\n",
       "      <th>Balcony</th>\n",
       "      <th>Swimming Pool</th>\n",
       "      <th>Laundry In Building</th>\n",
       "      <th>New Construction</th>\n",
       "      <th>Terrace</th>\n",
       "      <th>bathrooms</th>\n",
       "      <th>bedrooms</th>\n",
       "      <th>interest_level</th>\n",
       "      <th>price</th>\n",
       "    </tr>\n",
       "  </thead>\n",
       "  <tbody>\n",
       "    <tr>\n",
       "      <th>4</th>\n",
       "      <td>0</td>\n",
       "      <td>1</td>\n",
       "      <td>1</td>\n",
       "      <td>1</td>\n",
       "      <td>0</td>\n",
       "      <td>1</td>\n",
       "      <td>0</td>\n",
       "      <td>1</td>\n",
       "      <td>0</td>\n",
       "      <td>1</td>\n",
       "      <td>...</td>\n",
       "      <td>0</td>\n",
       "      <td>0</td>\n",
       "      <td>0</td>\n",
       "      <td>0</td>\n",
       "      <td>0</td>\n",
       "      <td>0</td>\n",
       "      <td>1.0</td>\n",
       "      <td>1</td>\n",
       "      <td>1</td>\n",
       "      <td>2400</td>\n",
       "    </tr>\n",
       "    <tr>\n",
       "      <th>6</th>\n",
       "      <td>1</td>\n",
       "      <td>0</td>\n",
       "      <td>1</td>\n",
       "      <td>0</td>\n",
       "      <td>1</td>\n",
       "      <td>1</td>\n",
       "      <td>1</td>\n",
       "      <td>1</td>\n",
       "      <td>0</td>\n",
       "      <td>0</td>\n",
       "      <td>...</td>\n",
       "      <td>0</td>\n",
       "      <td>0</td>\n",
       "      <td>0</td>\n",
       "      <td>0</td>\n",
       "      <td>0</td>\n",
       "      <td>0</td>\n",
       "      <td>1.0</td>\n",
       "      <td>2</td>\n",
       "      <td>0</td>\n",
       "      <td>3800</td>\n",
       "    </tr>\n",
       "    <tr>\n",
       "      <th>9</th>\n",
       "      <td>1</td>\n",
       "      <td>0</td>\n",
       "      <td>1</td>\n",
       "      <td>0</td>\n",
       "      <td>1</td>\n",
       "      <td>1</td>\n",
       "      <td>0</td>\n",
       "      <td>1</td>\n",
       "      <td>0</td>\n",
       "      <td>0</td>\n",
       "      <td>...</td>\n",
       "      <td>0</td>\n",
       "      <td>0</td>\n",
       "      <td>0</td>\n",
       "      <td>0</td>\n",
       "      <td>0</td>\n",
       "      <td>0</td>\n",
       "      <td>1.0</td>\n",
       "      <td>2</td>\n",
       "      <td>1</td>\n",
       "      <td>3495</td>\n",
       "    </tr>\n",
       "    <tr>\n",
       "      <th>10</th>\n",
       "      <td>0</td>\n",
       "      <td>0</td>\n",
       "      <td>0</td>\n",
       "      <td>0</td>\n",
       "      <td>0</td>\n",
       "      <td>0</td>\n",
       "      <td>0</td>\n",
       "      <td>0</td>\n",
       "      <td>0</td>\n",
       "      <td>0</td>\n",
       "      <td>...</td>\n",
       "      <td>0</td>\n",
       "      <td>0</td>\n",
       "      <td>0</td>\n",
       "      <td>0</td>\n",
       "      <td>0</td>\n",
       "      <td>0</td>\n",
       "      <td>1.5</td>\n",
       "      <td>3</td>\n",
       "      <td>1</td>\n",
       "      <td>3000</td>\n",
       "    </tr>\n",
       "    <tr>\n",
       "      <th>15</th>\n",
       "      <td>1</td>\n",
       "      <td>0</td>\n",
       "      <td>0</td>\n",
       "      <td>0</td>\n",
       "      <td>1</td>\n",
       "      <td>0</td>\n",
       "      <td>0</td>\n",
       "      <td>1</td>\n",
       "      <td>1</td>\n",
       "      <td>0</td>\n",
       "      <td>...</td>\n",
       "      <td>0</td>\n",
       "      <td>0</td>\n",
       "      <td>0</td>\n",
       "      <td>0</td>\n",
       "      <td>0</td>\n",
       "      <td>0</td>\n",
       "      <td>1.0</td>\n",
       "      <td>0</td>\n",
       "      <td>0</td>\n",
       "      <td>2795</td>\n",
       "    </tr>\n",
       "    <tr>\n",
       "      <th>...</th>\n",
       "      <td>...</td>\n",
       "      <td>...</td>\n",
       "      <td>...</td>\n",
       "      <td>...</td>\n",
       "      <td>...</td>\n",
       "      <td>...</td>\n",
       "      <td>...</td>\n",
       "      <td>...</td>\n",
       "      <td>...</td>\n",
       "      <td>...</td>\n",
       "      <td>...</td>\n",
       "      <td>...</td>\n",
       "      <td>...</td>\n",
       "      <td>...</td>\n",
       "      <td>...</td>\n",
       "      <td>...</td>\n",
       "      <td>...</td>\n",
       "      <td>...</td>\n",
       "      <td>...</td>\n",
       "      <td>...</td>\n",
       "      <td>...</td>\n",
       "    </tr>\n",
       "    <tr>\n",
       "      <th>124000</th>\n",
       "      <td>1</td>\n",
       "      <td>0</td>\n",
       "      <td>1</td>\n",
       "      <td>0</td>\n",
       "      <td>0</td>\n",
       "      <td>1</td>\n",
       "      <td>0</td>\n",
       "      <td>0</td>\n",
       "      <td>0</td>\n",
       "      <td>0</td>\n",
       "      <td>...</td>\n",
       "      <td>0</td>\n",
       "      <td>0</td>\n",
       "      <td>0</td>\n",
       "      <td>0</td>\n",
       "      <td>0</td>\n",
       "      <td>0</td>\n",
       "      <td>1.0</td>\n",
       "      <td>3</td>\n",
       "      <td>0</td>\n",
       "      <td>2800</td>\n",
       "    </tr>\n",
       "    <tr>\n",
       "      <th>124002</th>\n",
       "      <td>1</td>\n",
       "      <td>1</td>\n",
       "      <td>0</td>\n",
       "      <td>1</td>\n",
       "      <td>1</td>\n",
       "      <td>0</td>\n",
       "      <td>1</td>\n",
       "      <td>0</td>\n",
       "      <td>0</td>\n",
       "      <td>0</td>\n",
       "      <td>...</td>\n",
       "      <td>0</td>\n",
       "      <td>0</td>\n",
       "      <td>0</td>\n",
       "      <td>1</td>\n",
       "      <td>0</td>\n",
       "      <td>0</td>\n",
       "      <td>1.0</td>\n",
       "      <td>2</td>\n",
       "      <td>1</td>\n",
       "      <td>2395</td>\n",
       "    </tr>\n",
       "    <tr>\n",
       "      <th>124004</th>\n",
       "      <td>1</td>\n",
       "      <td>1</td>\n",
       "      <td>1</td>\n",
       "      <td>1</td>\n",
       "      <td>0</td>\n",
       "      <td>1</td>\n",
       "      <td>1</td>\n",
       "      <td>1</td>\n",
       "      <td>0</td>\n",
       "      <td>1</td>\n",
       "      <td>...</td>\n",
       "      <td>0</td>\n",
       "      <td>0</td>\n",
       "      <td>0</td>\n",
       "      <td>0</td>\n",
       "      <td>0</td>\n",
       "      <td>0</td>\n",
       "      <td>1.0</td>\n",
       "      <td>1</td>\n",
       "      <td>1</td>\n",
       "      <td>1850</td>\n",
       "    </tr>\n",
       "    <tr>\n",
       "      <th>124008</th>\n",
       "      <td>0</td>\n",
       "      <td>0</td>\n",
       "      <td>0</td>\n",
       "      <td>0</td>\n",
       "      <td>0</td>\n",
       "      <td>1</td>\n",
       "      <td>1</td>\n",
       "      <td>0</td>\n",
       "      <td>0</td>\n",
       "      <td>1</td>\n",
       "      <td>...</td>\n",
       "      <td>0</td>\n",
       "      <td>0</td>\n",
       "      <td>0</td>\n",
       "      <td>0</td>\n",
       "      <td>0</td>\n",
       "      <td>0</td>\n",
       "      <td>1.0</td>\n",
       "      <td>2</td>\n",
       "      <td>1</td>\n",
       "      <td>4195</td>\n",
       "    </tr>\n",
       "    <tr>\n",
       "      <th>124009</th>\n",
       "      <td>1</td>\n",
       "      <td>0</td>\n",
       "      <td>1</td>\n",
       "      <td>0</td>\n",
       "      <td>0</td>\n",
       "      <td>1</td>\n",
       "      <td>1</td>\n",
       "      <td>1</td>\n",
       "      <td>0</td>\n",
       "      <td>0</td>\n",
       "      <td>...</td>\n",
       "      <td>0</td>\n",
       "      <td>0</td>\n",
       "      <td>0</td>\n",
       "      <td>0</td>\n",
       "      <td>0</td>\n",
       "      <td>0</td>\n",
       "      <td>1.0</td>\n",
       "      <td>3</td>\n",
       "      <td>2</td>\n",
       "      <td>4280</td>\n",
       "    </tr>\n",
       "  </tbody>\n",
       "</table>\n",
       "<p>49352 rows × 24 columns</p>\n",
       "</div>"
      ],
      "text/plain": [
       "        Elevator  Cats Allowed  Hardwood Floors  Dogs Allowed  Doorman  \\\n",
       "4              0             1                1             1        0   \n",
       "6              1             0                1             0        1   \n",
       "9              1             0                1             0        1   \n",
       "10             0             0                0             0        0   \n",
       "15             1             0                0             0        1   \n",
       "...          ...           ...              ...           ...      ...   \n",
       "124000         1             0                1             0        0   \n",
       "124002         1             1                0             1        1   \n",
       "124004         1             1                1             1        0   \n",
       "124008         0             0                0             0        0   \n",
       "124009         1             0                1             0        0   \n",
       "\n",
       "        Dishwasher  No Fee  Laundry in Building  Fitness Center  Pre-War  ...  \\\n",
       "4                1       0                    1               0        1  ...   \n",
       "6                1       1                    1               0        0  ...   \n",
       "9                1       0                    1               0        0  ...   \n",
       "10               0       0                    0               0        0  ...   \n",
       "15               0       0                    1               1        0  ...   \n",
       "...            ...     ...                  ...             ...      ...  ...   \n",
       "124000           1       0                    0               0        0  ...   \n",
       "124002           0       1                    0               0        0  ...   \n",
       "124004           1       1                    1               0        1  ...   \n",
       "124008           1       1                    0               0        1  ...   \n",
       "124009           1       1                    1               0        0  ...   \n",
       "\n",
       "        High Speed Internet  Balcony  Swimming Pool  Laundry In Building  \\\n",
       "4                         0        0              0                    0   \n",
       "6                         0        0              0                    0   \n",
       "9                         0        0              0                    0   \n",
       "10                        0        0              0                    0   \n",
       "15                        0        0              0                    0   \n",
       "...                     ...      ...            ...                  ...   \n",
       "124000                    0        0              0                    0   \n",
       "124002                    0        0              0                    1   \n",
       "124004                    0        0              0                    0   \n",
       "124008                    0        0              0                    0   \n",
       "124009                    0        0              0                    0   \n",
       "\n",
       "        New Construction  Terrace  bathrooms  bedrooms  interest_level  price  \n",
       "4                      0        0        1.0         1               1   2400  \n",
       "6                      0        0        1.0         2               0   3800  \n",
       "9                      0        0        1.0         2               1   3495  \n",
       "10                     0        0        1.5         3               1   3000  \n",
       "15                     0        0        1.0         0               0   2795  \n",
       "...                  ...      ...        ...       ...             ...    ...  \n",
       "124000                 0        0        1.0         3               0   2800  \n",
       "124002                 0        0        1.0         2               1   2395  \n",
       "124004                 0        0        1.0         1               1   1850  \n",
       "124008                 0        0        1.0         2               1   4195  \n",
       "124009                 0        0        1.0         3               2   4280  \n",
       "\n",
       "[49352 rows x 24 columns]"
      ]
     },
     "execution_count": 17,
     "metadata": {},
     "output_type": "execute_result"
    }
   ],
   "source": [
    "df"
   ]
  },
  {
   "cell_type": "code",
   "execution_count": 18,
   "metadata": {},
   "outputs": [
    {
     "data": {
      "text/plain": [
       "['Elevator',\n",
       " 'Cats Allowed',\n",
       " 'Hardwood Floors',\n",
       " 'Dogs Allowed',\n",
       " 'Doorman',\n",
       " 'Dishwasher',\n",
       " 'No Fee',\n",
       " 'Laundry in Building',\n",
       " 'Fitness Center',\n",
       " 'Pre-War',\n",
       " 'Laundry in Unit',\n",
       " 'Roof Deck',\n",
       " 'Outdoor Space',\n",
       " 'Dining Room',\n",
       " 'High Speed Internet',\n",
       " 'Balcony',\n",
       " 'Swimming Pool',\n",
       " 'Laundry In Building',\n",
       " 'New Construction',\n",
       " 'Terrace',\n",
       " 'bathrooms',\n",
       " 'bedrooms',\n",
       " 'interest_level',\n",
       " 'price']"
      ]
     },
     "execution_count": 18,
     "metadata": {},
     "output_type": "execute_result"
    }
   ],
   "source": [
    "feature_list = df.columns.to_list()\n",
    "feature_list"
   ]
  },
  {
   "cell_type": "markdown",
   "metadata": {},
   "source": [
    "# 4. Реализация моделей - линейная регрессия"
   ]
  },
  {
   "cell_type": "code",
   "execution_count": 19,
   "metadata": {},
   "outputs": [],
   "source": [
    "X = df.drop('price', axis=1)\n",
    "y = df['price'] "
   ]
  },
  {
   "cell_type": "code",
   "execution_count": 20,
   "metadata": {},
   "outputs": [],
   "source": [
    "X_train, X_test, y_train, y_test = train_test_split(X, y, test_size=.2, random_state=42)"
   ]
  },
  {
   "cell_type": "markdown",
   "metadata": {},
   "source": [
    "### 4.1 Реализуйте класс Python для алгоритма линейной регрессии с двумя базовыми методами — подгонки и прогнозирования. Используйте стохастический градиентный спуск для поиска оптимальных весов модели. Для лучшего понимания мы рекомендуем дополнительно реализовать отдельные версии алгоритма с аналитическим решением и нестохастическим градиентным спуском. "
   ]
  },
  {
   "cell_type": "markdown",
   "metadata": {},
   "source": [
    "#### Аналитическое решение"
   ]
  },
  {
   "cell_type": "code",
   "execution_count": 21,
   "metadata": {},
   "outputs": [],
   "source": [
    "class LinearRegressionAnalytical:\n",
    "    def __init__(self):\n",
    "        self.weights = None # Массив для хранения весов модели\n",
    "\n",
    "    '''Добавление столбеца с единицами (константа)'''\n",
    "    def _add_intercept(self, X):\n",
    "        return np.c_[np.ones((len(X), 1)), X]\n",
    "\n",
    "    def fit(self, X, y):\n",
    "        X_1 = self._add_intercept(X) # Создаем столбец из одних единиц, для учета свободного члена (константы).Точка пересечения с осью Y.\n",
    "        self.weights = np.linalg.inv(X_1.T @ X_1) @ (X_1.T @ y)\n",
    "\n",
    "    def predict(self, X):\n",
    "        X_1 = self._add_intercept(X)\n",
    "        return X_1 @ self.weights"
   ]
  },
  {
   "cell_type": "code",
   "execution_count": 22,
   "metadata": {},
   "outputs": [],
   "source": [
    "lra = LinearRegressionAnalytical()"
   ]
  },
  {
   "cell_type": "code",
   "execution_count": 23,
   "metadata": {},
   "outputs": [
    {
     "data": {
      "text/plain": [
       "array([2539.02815679, 2277.55080871, 3627.07271382, ..., 1951.6763285 ,\n",
       "       3174.84386718, 3715.77703646])"
      ]
     },
     "execution_count": 23,
     "metadata": {},
     "output_type": "execute_result"
    }
   ],
   "source": [
    "lra.fit(X_train, y_train)\n",
    "lra.predict(X_train)"
   ]
  },
  {
   "cell_type": "markdown",
   "metadata": {},
   "source": [
    "#### Градиентный спуск"
   ]
  },
  {
   "cell_type": "code",
   "execution_count": 24,
   "metadata": {},
   "outputs": [],
   "source": [
    "class BatchGradientDescent:\n",
    "    def __init__(self):\n",
    "        self.weights = None # Массив для хранения весов модели\n",
    "        self.eta = 0.01 # Шаг обучения (насколько изменить веса)\n",
    "        self.n_iter = 200 # Кол-во итераций (сколько раз обновлять веса)\n",
    "    \n",
    "    '''Добавление столбеца с единицами (константа)'''\n",
    "    def _add_intercept(self, X):\n",
    "        return np.c_[np.ones((len(X), 1)), X]\n",
    "\n",
    "    '''Предсказания на основе текущих весов модели'''\n",
    "    def predict(self, X):\n",
    "        X_1 = self._add_intercept(X)\n",
    "        return X_1 @ self.weights\n",
    "    \n",
    "    def fit(self, X, y):\n",
    "        X_1 = self._add_intercept(X)\n",
    "        self.weights = np.zeros(X_1.shape[1]) # Инициализация весов нулями\n",
    "        for iter in range(self.n_iter):\n",
    "            predictions = X_1 @ self.weights # Предсказание на текущем шаге\n",
    "            errors = predictions - y # Вычисляем ошибку\n",
    "            gradient = (2 / len(y)) * X_1.T @ errors  # Вычисление градиента\n",
    "            self.weights -= self.eta * gradient  # Обновление весов\n",
    "            "
   ]
  },
  {
   "cell_type": "code",
   "execution_count": 25,
   "metadata": {},
   "outputs": [
    {
     "data": {
      "text/plain": [
       "array([2397.42976593, 2421.08301767, 2991.6728728 , ..., 2021.69859141,\n",
       "       3190.55208343, 3443.13928673])"
      ]
     },
     "execution_count": 25,
     "metadata": {},
     "output_type": "execute_result"
    }
   ],
   "source": [
    "bgd = BatchGradientDescent()\n",
    "bgd.fit(X_train, y_train)\n",
    "bgd.predict(X_train)"
   ]
  },
  {
   "cell_type": "markdown",
   "metadata": {},
   "source": [
    "#### Стохастический градиентный спуск"
   ]
  },
  {
   "cell_type": "code",
   "execution_count": 26,
   "metadata": {},
   "outputs": [],
   "source": [
    "class StochasticGradientDescent:\n",
    "    def __init__(self, n_epoch=10):\n",
    "        self.weights = None # Массив для хранения весов модели\n",
    "        self.n_epoch = n_epoch # Кол-во итераций (сколько раз обновлять веса)\n",
    "        self.t0, self.t1 = 0.01, 1 # График обучения - определения скорости обучения\n",
    "        self.m = len(y)\n",
    "\n",
    "    '''Добавление столбеца с единицами (константа)'''\n",
    "    def _add_intercept(self, X):\n",
    "        return np.c_[np.ones((len(X), 1)), X]\n",
    "\n",
    "    '''Предсказания на основе текущих весов модели'''\n",
    "    def predict(self, X):\n",
    "        X_1 = self._add_intercept(X)\n",
    "        return X_1 @ self.weights\n",
    "    \n",
    "    '''График обучения'''\n",
    "    def learning_schedule(self, t):\n",
    "        return self.t0 / (t + self.t1)\n",
    "    \n",
    "    def fit(self, X, y):\n",
    "        X_1 = self._add_intercept(X)\n",
    "        self.weights = np.zeros(X_1.shape[1]) # Инициализация весов нулями\n",
    "        for epoch in range(self.n_epoch):\n",
    "            for iter in range(self.m):\n",
    "                random_index = np.random.randint(self.m)\n",
    "                xi = X_1[random_index : random_index + 1] # Случайны образец\n",
    "                yi = y[random_index : random_index + 1]\n",
    "\n",
    "                predictions = xi @ self.weights # Предсказание на текущем шаге\n",
    "                errors = predictions - yi # Вычисляем ошибку\n",
    "\n",
    "                gradient = 2 * xi.T @ errors  # Вычисление градиента\n",
    "\n",
    "                eta = self.learning_schedule(epoch * self.m + iter) # Вычисление шага обучения в процессе обучения модели\n",
    "                self.weights -= eta * gradient  # Обновление весов"
   ]
  },
  {
   "cell_type": "code",
   "execution_count": 27,
   "metadata": {},
   "outputs": [],
   "source": [
    "sgd = StochasticGradientDescent()\n",
    "sgd.fit(X_train, y_train)\n",
    "sgd_train = sgd.predict(X_train)"
   ]
  },
  {
   "cell_type": "markdown",
   "metadata": {},
   "source": [
    "### 4.2 Дайте определение для коэффициента R в квадрате (R2) и реализуйте функцию для вычисления."
   ]
  },
  {
   "cell_type": "markdown",
   "metadata": {},
   "source": [
    "**$R^2$ (коэффициента детерминации)** - измеряет, какая доля дисперсии одной переменной объяснятся дисперсией другой переменной.\n",
    "\n",
    "Коэффициент детерминации $R^2$ используется для оценки качества регрессионной модели, показывая, насколько хорошо модель объясняет вариацию зависимой переменной.\n",
    "\n",
    "Формула:\n",
    "\n",
    "- $R^2 = 1 - \\frac{SS_{res}}{SS_{tot}}$\n",
    "  - $SS_{res}$ - сумма квадратов остатков (разница между фактическими и предсказанными значениями),\n",
    "  - $SS_{tot}$ - общая сумма квадратов (разница между фактическими значениями и их средним)."
   ]
  },
  {
   "cell_type": "code",
   "execution_count": 28,
   "metadata": {},
   "outputs": [],
   "source": [
    "'''Функция для вычисления R2'''\n",
    "def r_squared(y_true, y_pred):\n",
    "    y_true_mean = sum(y_true) / len(y_true) # Средние значение для истинных значений\n",
    "    ss_tot = sum((y_true - y_true_mean) ** 2) # Сумма квадратов общего (SS_tot)\n",
    "    ss_res = sum((y_true - y_pred) ** 2) # Сумма квадратов остатков (SS_res)\n",
    "    r2 = 1 - (ss_res / ss_tot)\n",
    "    return r2"
   ]
  },
  {
   "cell_type": "markdown",
   "metadata": {},
   "source": [
    "### 4.3 Делайте прогнозы с помощью своего алгоритма и оценивайте модель с помощью показателей MAE, RMSE и R2. "
   ]
  },
  {
   "cell_type": "code",
   "execution_count": 29,
   "metadata": {},
   "outputs": [],
   "source": [
    "def metrics_mae_rmse_r2(y_true, y_pred):\n",
    "    mae = round(mean_absolute_error(y_true, y_pred), 2)\n",
    "    rmse = round(root_mean_squared_error(y_true, y_pred), 2)\n",
    "    r2 = round(r2_score(y_true, y_pred), 2)\n",
    "    return mae, rmse, r2"
   ]
  },
  {
   "cell_type": "code",
   "execution_count": 30,
   "metadata": {},
   "outputs": [
    {
     "data": {
      "text/plain": [
       "(np.float64(1183.14), np.float64(9812.8), 0.01)"
      ]
     },
     "execution_count": 30,
     "metadata": {},
     "output_type": "execute_result"
    }
   ],
   "source": [
    "sgd_train_metrics = metrics_mae_rmse_r2(y_train, sgd_train)\n",
    "sgd_train_metrics"
   ]
  },
  {
   "cell_type": "code",
   "execution_count": 31,
   "metadata": {},
   "outputs": [
    {
     "data": {
      "text/plain": [
       "(np.float64(1557.64), np.float64(45221.87), 0.0)"
      ]
     },
     "execution_count": 31,
     "metadata": {},
     "output_type": "execute_result"
    }
   ],
   "source": [
    "sgd_test = sgd.predict(X_test)\n",
    "sgd_test_metrics = metrics_mae_rmse_r2(y_test, sgd_test)\n",
    "sgd_test_metrics"
   ]
  },
  {
   "cell_type": "markdown",
   "metadata": {},
   "source": [
    "### 4.4 Инициализируйте LinearRegression() из sklearn.linear_model, подберите модель и прогнозируйте обучающие и тестовые части, так же, как в предыдущем уроке. "
   ]
  },
  {
   "cell_type": "code",
   "execution_count": 32,
   "metadata": {},
   "outputs": [],
   "source": [
    "model_ls = LinearRegression().fit(X_train, y_train)\n",
    "model_ls_train = model_ls.predict(X_train)\n",
    "model_ls_test = model_ls.predict(X_test)"
   ]
  },
  {
   "cell_type": "code",
   "execution_count": 33,
   "metadata": {},
   "outputs": [
    {
     "data": {
      "text/plain": [
       "(np.float64(973.05), np.float64(9708.55), 0.03)"
      ]
     },
     "execution_count": 33,
     "metadata": {},
     "output_type": "execute_result"
    }
   ],
   "source": [
    "model_lr_train_metrics = metrics_mae_rmse_r2(y_train, model_ls_train)\n",
    "model_lr_train_metrics"
   ]
  },
  {
   "cell_type": "code",
   "execution_count": 34,
   "metadata": {},
   "outputs": [
    {
     "data": {
      "text/plain": [
       "(np.float64(1345.97), np.float64(45184.53), 0.0)"
      ]
     },
     "execution_count": 34,
     "metadata": {},
     "output_type": "execute_result"
    }
   ],
   "source": [
    "model_lr_test_metrics = metrics_mae_rmse_r2(y_test, model_ls_test)\n",
    "model_lr_test_metrics"
   ]
  },
  {
   "cell_type": "markdown",
   "metadata": {},
   "source": [
    "### 4.5 Сравните показатели качества и убедитесь, что разница невелика. (Между вашими реализациями и sklearn). "
   ]
  },
  {
   "cell_type": "code",
   "execution_count": 35,
   "metadata": {},
   "outputs": [
    {
     "name": "stdout",
     "output_type": "stream",
     "text": [
      "(np.float64(210.09), np.float64(104.25), 0.02)\n"
     ]
    }
   ],
   "source": [
    "'''Сравнение показателей качества train (Между нашими реализациями и sklear)'''\n",
    "results_train = tuple(round(abs(a - b), 2) for a, b in zip(sgd_train_metrics, model_lr_train_metrics))\n",
    "print(results_train)"
   ]
  },
  {
   "cell_type": "code",
   "execution_count": 36,
   "metadata": {},
   "outputs": [
    {
     "name": "stdout",
     "output_type": "stream",
     "text": [
      "(np.float64(211.67), np.float64(37.34), 0.0)\n"
     ]
    }
   ],
   "source": [
    "'''Сравнение показателей качества test (Между нашими реализациями и sklear)'''\n",
    "results_test = tuple(round(a - b, 2) for a, b in zip(sgd_test_metrics, model_lr_test_metrics))\n",
    "print(results_test)"
   ]
  },
  {
   "cell_type": "markdown",
   "metadata": {},
   "source": [
    "### 4.6 Сохраните показатели, как в предыдущем уроке, в таблице со столбцами model, train, test for MAE table, RMSE table и R2 coefficient."
   ]
  },
  {
   "cell_type": "code",
   "execution_count": 37,
   "metadata": {},
   "outputs": [],
   "source": [
    "'''Создание DataFrame и добавление данных'''\n",
    "def append_row_table(df_name, model, train, test):\n",
    "    # Проверяем, существует ли DataFrame\n",
    "    if df_name not in globals():\n",
    "        # Если не существует, создаем новый DataFrame\n",
    "        globals()[df_name] = pd.DataFrame(columns=['model', 'train', 'test'])\n",
    "    \n",
    "    # Добавляем новую строку в DataFrame\n",
    "    globals()[df_name].loc[len(globals()[df_name])] = [model, train, test]"
   ]
  },
  {
   "cell_type": "code",
   "execution_count": 38,
   "metadata": {},
   "outputs": [],
   "source": [
    "append_row_table('df_mae', 'StochasticGradientDescent', sgd_train_metrics[0], sgd_test_metrics[0])\n",
    "append_row_table('df_rmse', 'StochasticGradientDescent', sgd_train_metrics[1], sgd_test_metrics[1])\n",
    "append_row_table('df_r2', 'StochasticGradientDescent', sgd_train_metrics[2], sgd_test_metrics[2])"
   ]
  },
  {
   "cell_type": "code",
   "execution_count": 39,
   "metadata": {},
   "outputs": [
    {
     "data": {
      "text/html": [
       "<div>\n",
       "<style scoped>\n",
       "    .dataframe tbody tr th:only-of-type {\n",
       "        vertical-align: middle;\n",
       "    }\n",
       "\n",
       "    .dataframe tbody tr th {\n",
       "        vertical-align: top;\n",
       "    }\n",
       "\n",
       "    .dataframe thead th {\n",
       "        text-align: right;\n",
       "    }\n",
       "</style>\n",
       "<table border=\"1\" class=\"dataframe\">\n",
       "  <thead>\n",
       "    <tr style=\"text-align: right;\">\n",
       "      <th></th>\n",
       "      <th>model</th>\n",
       "      <th>train</th>\n",
       "      <th>test</th>\n",
       "    </tr>\n",
       "  </thead>\n",
       "  <tbody>\n",
       "    <tr>\n",
       "      <th>0</th>\n",
       "      <td>StochasticGradientDescent</td>\n",
       "      <td>1183.14</td>\n",
       "      <td>1557.64</td>\n",
       "    </tr>\n",
       "  </tbody>\n",
       "</table>\n",
       "</div>"
      ],
      "text/plain": [
       "                       model    train     test\n",
       "0  StochasticGradientDescent  1183.14  1557.64"
      ]
     },
     "execution_count": 39,
     "metadata": {},
     "output_type": "execute_result"
    }
   ],
   "source": [
    "df_mae"
   ]
  },
  {
   "cell_type": "code",
   "execution_count": 40,
   "metadata": {},
   "outputs": [
    {
     "data": {
      "text/html": [
       "<div>\n",
       "<style scoped>\n",
       "    .dataframe tbody tr th:only-of-type {\n",
       "        vertical-align: middle;\n",
       "    }\n",
       "\n",
       "    .dataframe tbody tr th {\n",
       "        vertical-align: top;\n",
       "    }\n",
       "\n",
       "    .dataframe thead th {\n",
       "        text-align: right;\n",
       "    }\n",
       "</style>\n",
       "<table border=\"1\" class=\"dataframe\">\n",
       "  <thead>\n",
       "    <tr style=\"text-align: right;\">\n",
       "      <th></th>\n",
       "      <th>model</th>\n",
       "      <th>train</th>\n",
       "      <th>test</th>\n",
       "    </tr>\n",
       "  </thead>\n",
       "  <tbody>\n",
       "    <tr>\n",
       "      <th>0</th>\n",
       "      <td>StochasticGradientDescent</td>\n",
       "      <td>9812.8</td>\n",
       "      <td>45221.87</td>\n",
       "    </tr>\n",
       "  </tbody>\n",
       "</table>\n",
       "</div>"
      ],
      "text/plain": [
       "                       model   train      test\n",
       "0  StochasticGradientDescent  9812.8  45221.87"
      ]
     },
     "execution_count": 40,
     "metadata": {},
     "output_type": "execute_result"
    }
   ],
   "source": [
    "df_rmse"
   ]
  },
  {
   "cell_type": "code",
   "execution_count": 41,
   "metadata": {},
   "outputs": [
    {
     "data": {
      "text/html": [
       "<div>\n",
       "<style scoped>\n",
       "    .dataframe tbody tr th:only-of-type {\n",
       "        vertical-align: middle;\n",
       "    }\n",
       "\n",
       "    .dataframe tbody tr th {\n",
       "        vertical-align: top;\n",
       "    }\n",
       "\n",
       "    .dataframe thead th {\n",
       "        text-align: right;\n",
       "    }\n",
       "</style>\n",
       "<table border=\"1\" class=\"dataframe\">\n",
       "  <thead>\n",
       "    <tr style=\"text-align: right;\">\n",
       "      <th></th>\n",
       "      <th>model</th>\n",
       "      <th>train</th>\n",
       "      <th>test</th>\n",
       "    </tr>\n",
       "  </thead>\n",
       "  <tbody>\n",
       "    <tr>\n",
       "      <th>0</th>\n",
       "      <td>StochasticGradientDescent</td>\n",
       "      <td>0.01</td>\n",
       "      <td>0.0</td>\n",
       "    </tr>\n",
       "  </tbody>\n",
       "</table>\n",
       "</div>"
      ],
      "text/plain": [
       "                       model  train  test\n",
       "0  StochasticGradientDescent   0.01   0.0"
      ]
     },
     "execution_count": 41,
     "metadata": {},
     "output_type": "execute_result"
    }
   ],
   "source": [
    "df_r2"
   ]
  },
  {
   "cell_type": "markdown",
   "metadata": {},
   "source": [
    "## 5. Реализация регуляризованных моделей - Гребень, Лассо, Эластичная сетка"
   ]
  },
  {
   "cell_type": "markdown",
   "metadata": {},
   "source": [
    "### 5.1 Реализуйте алгоритмы Ridge, Lasso, ElasticNet: расширьте функцию потерь с помощью L2, L1 и обеих регуляризаций соответственно. "
   ]
  },
  {
   "cell_type": "markdown",
   "metadata": {},
   "source": [
    "#### Ridge"
   ]
  },
  {
   "cell_type": "code",
   "execution_count": 68,
   "metadata": {},
   "outputs": [],
   "source": [
    "class Ridge_Reg:\n",
    "    def __init__(self, alpha=1.0):\n",
    "        self.weights = None # Массив для хранения весов модели\n",
    "        self.alpha = alpha # Гиперпараметр коэффициент регуляризации\n",
    "\n",
    "    '''Добавление столбеца с единицами (константа)'''\n",
    "    def _add_intercept(self, X):\n",
    "        return np.c_[np.ones((len(X), 1)), X]\n",
    "\n",
    "    def fit(self, X, y):\n",
    "        n_features = X.shape[1]\n",
    "        I = np.eye(n_features + 1)\n",
    "        X_1 = self._add_intercept(X) # Создаем столбец из одних единиц, для учета свободного члена (константы).Точка пересечения с осью Y.\n",
    "        self.weights = np.linalg.inv(X_1.T @ X_1 + self.alpha * I) @ (X_1.T @ y)\n",
    "        return self\n",
    "\n",
    "    def predict(self, X):\n",
    "        X_1 = self._add_intercept(X)\n",
    "        return X_1 @ self.weights"
   ]
  },
  {
   "cell_type": "code",
   "execution_count": 69,
   "metadata": {},
   "outputs": [
    {
     "data": {
      "text/plain": [
       "array([2538.98798194, 2277.58863152, 3626.83385073, ..., 1951.74812272,\n",
       "       3174.816225  , 3715.6765507 ])"
      ]
     },
     "execution_count": 69,
     "metadata": {},
     "output_type": "execute_result"
    }
   ],
   "source": [
    "ridge_reg = Ridge_Reg().fit(X_train, y_train)\n",
    "ridge_reg.predict(X_train)"
   ]
  },
  {
   "cell_type": "markdown",
   "metadata": {},
   "source": [
    "#### Lasso"
   ]
  },
  {
   "cell_type": "code",
   "execution_count": null,
   "metadata": {},
   "outputs": [],
   "source": [
    "class Lasso_Reg:\n",
    "    def __init__(self, alpha=1.0):\n",
    "        self.weights = None # Массив для хранения весов модели\n",
    "        self.alpha = alpha # Гиперпараметр коэффициент регуляризации\n",
    "\n",
    "    '''Добавление столбеца с единицами (константа)'''\n",
    "    def _add_intercept(self, X):\n",
    "        return np.c_[np.ones((len(X), 1)), X]\n",
    "\n",
    "    def fit(self, X, y):\n",
    "        n_features = X.shape[1]\n",
    "        I = np.eye(n_features + 1)\n",
    "        X_1 = self._add_intercept(X) # Создаем столбец из одних единиц, для учета свободного члена (константы).Точка пересечения с осью Y.\n",
    "        self.weights = np.linalg.inv(X_1.T @ X_1 + self.alpha * I) @ (X_1.T @ y)\n",
    "        return self\n",
    "\n",
    "    def predict(self, X):\n",
    "        X_1 = self._add_intercept(X)\n",
    "        return X_1 @ self.weights"
   ]
  },
  {
   "cell_type": "code",
   "execution_count": null,
   "metadata": {},
   "outputs": [],
   "source": []
  }
 ],
 "metadata": {
  "kernelspec": {
   "display_name": "ml_s21",
   "language": "python",
   "name": "python3"
  },
  "language_info": {
   "codemirror_mode": {
    "name": "ipython",
    "version": 3
   },
   "file_extension": ".py",
   "mimetype": "text/x-python",
   "name": "python",
   "nbconvert_exporter": "python",
   "pygments_lexer": "ipython3",
   "version": "3.12.2"
  }
 },
 "nbformat": 4,
 "nbformat_minor": 2
}
